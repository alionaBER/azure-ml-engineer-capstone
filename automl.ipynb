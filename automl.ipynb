{
 "cells": [
  {
   "cell_type": "markdown",
   "metadata": {},
   "source": [
    "# Automated ML"
   ]
  },
  {
   "cell_type": "code",
   "execution_count": 1,
   "metadata": {},
   "outputs": [],
   "source": [
    "# import all the dependencies\n",
    "from azureml.core.compute import ComputeTarget, AmlCompute\n",
    "from azureml.core.compute_target import ComputeTargetException\n",
    "from azureml.core import Workspace, Experiment, Dataset\n",
    "from azureml.data.dataset_factory import TabularDatasetFactory\n",
    "from azureml.train.automl import AutoMLConfig\n",
    "from azureml.widgets import RunDetails\n",
    "from azureml.train.automl.utilities import get_primary_metrics\n",
    "from azureml.core.webservice import AciWebservice, LocalWebservice\n",
    "from azureml.core import Environment\n",
    "from azureml.core.model import InferenceConfig\n",
    "from azureml.core.model import Model\n",
    "import requests\n",
    "import json\n",
    "\n",
    "ws = Workspace.from_config()"
   ]
  },
  {
   "cell_type": "code",
   "execution_count": 2,
   "metadata": {},
   "outputs": [
    {
     "name": "stdout",
     "output_type": "stream",
     "text": [
      "Found existing cluster, use it.\n",
      "Succeeded\n",
      "AmlCompute wait for completion finished\n",
      "\n",
      "Minimum number of nodes requested have been provisioned\n"
     ]
    }
   ],
   "source": [
    "# Create compute cluster\n",
    "# Use vm_size = \"Standard_D2_V2\" in your provisioning configuration.\n",
    "# max_nodes should be no greater than 4.\n",
    "# source: https://docs.microsoft.com/en-us/python/api/azureml-core/azureml.core.compute.amlcompute(class)?view=azure-ml-py\n",
    "\n",
    "cpu_cluster_name = \"cpu-cluster\"\n",
    "\n",
    "# Verify that cluster does not exist already\n",
    "try:\n",
    "    cpu_cluster = ComputeTarget(workspace=ws, name=cpu_cluster_name)\n",
    "    print('Found existing cluster, use it.')\n",
    "except ComputeTargetException:\n",
    "    compute_config = AmlCompute.provisioning_configuration(vm_size='STANDARD_D2_V2',\n",
    "                                                           max_nodes=4)\n",
    "    cpu_cluster = ComputeTarget.create(ws, cpu_cluster_name, compute_config)\n",
    "\n",
    "cpu_cluster.wait_for_completion(show_output=True)"
   ]
  },
  {
   "cell_type": "markdown",
   "metadata": {},
   "source": [
    "## Dataset\n",
    "\n",
    "### Overview\n",
    "\n",
    "This project uses the data from a DrivenData competition - [Pump it Up: Data Mining the Water Table](https://www.drivendata.org/competitions/7/pump-it-up-data-mining-the-water-table/).\n",
    "\n",
    "The training data is devided into two files, with the target variable (labels) and the other variables (values). The target variable describe the functioning status of each pump (*functional*, *functional need repair* and *non functional*). Descriptive variables inlude waterpoint location, its founder, water quality and quantity, waterpoint type, etc.\n",
    "\n",
    "As one need to be logged in to DrivenData in order to access the data, it cannot be downloaded via direct links and was stored as .csv files in the *data* folder. The original data stored to the Azure datastore, merged into a single data set and registered as a dataset."
   ]
  },
  {
   "cell_type": "code",
   "execution_count": 3,
   "metadata": {},
   "outputs": [
    {
     "name": "stdout",
     "output_type": "stream",
     "text": [
      "Uploading an estimated of 2 files\n",
      "Uploading data/train_labels.csv\n",
      "Uploaded data/train_labels.csv, 1 files out of an estimated total of 2\n",
      "Uploading data/train_values.csv\n",
      "Uploaded data/train_values.csv, 2 files out of an estimated total of 2\n",
      "Uploaded 2 files\n"
     ]
    }
   ],
   "source": [
    "#local paths to train data\n",
    "path_labels = \"data/train_labels.csv\"\n",
    "path_values = \"data/train_values.csv\"\n",
    "\n",
    "# get the datastore to upload prepared data\n",
    "datastore = ws.get_default_datastore()\n",
    "\n",
    "# upload the local file from src_dir to the target_path in datastore\n",
    "datastore.upload(src_dir='data', target_path='data', overwrite=True)\n",
    "\n",
    "# create datasets referencing the cloud location\n",
    "ds_labels = Dataset.Tabular.from_delimited_files(path = [(datastore, (path_labels))])\n",
    "ds_values = Dataset.Tabular.from_delimited_files(path = [(datastore, (path_values))])"
   ]
  },
  {
   "cell_type": "code",
   "execution_count": 4,
   "metadata": {},
   "outputs": [
    {
     "data": {
      "text/html": [
       "<div>\n",
       "<style scoped>\n",
       "    .dataframe tbody tr th:only-of-type {\n",
       "        vertical-align: middle;\n",
       "    }\n",
       "\n",
       "    .dataframe tbody tr th {\n",
       "        vertical-align: top;\n",
       "    }\n",
       "\n",
       "    .dataframe thead th {\n",
       "        text-align: right;\n",
       "    }\n",
       "</style>\n",
       "<table border=\"1\" class=\"dataframe\">\n",
       "  <thead>\n",
       "    <tr style=\"text-align: right;\">\n",
       "      <th></th>\n",
       "      <th>id</th>\n",
       "      <th>status_group</th>\n",
       "    </tr>\n",
       "  </thead>\n",
       "  <tbody>\n",
       "    <tr>\n",
       "      <th>0</th>\n",
       "      <td>69572</td>\n",
       "      <td>functional</td>\n",
       "    </tr>\n",
       "    <tr>\n",
       "      <th>1</th>\n",
       "      <td>8776</td>\n",
       "      <td>functional</td>\n",
       "    </tr>\n",
       "    <tr>\n",
       "      <th>2</th>\n",
       "      <td>34310</td>\n",
       "      <td>functional</td>\n",
       "    </tr>\n",
       "  </tbody>\n",
       "</table>\n",
       "</div>"
      ],
      "text/plain": [
       "      id status_group\n",
       "0  69572   functional\n",
       "1   8776   functional\n",
       "2  34310   functional"
      ]
     },
     "execution_count": 4,
     "metadata": {},
     "output_type": "execute_result"
    }
   ],
   "source": [
    "ds_labels.take(3).to_pandas_dataframe()"
   ]
  },
  {
   "cell_type": "code",
   "execution_count": 5,
   "metadata": {},
   "outputs": [
    {
     "data": {
      "text/html": [
       "<div>\n",
       "<style scoped>\n",
       "    .dataframe tbody tr th:only-of-type {\n",
       "        vertical-align: middle;\n",
       "    }\n",
       "\n",
       "    .dataframe tbody tr th {\n",
       "        vertical-align: top;\n",
       "    }\n",
       "\n",
       "    .dataframe thead th {\n",
       "        text-align: right;\n",
       "    }\n",
       "</style>\n",
       "<table border=\"1\" class=\"dataframe\">\n",
       "  <thead>\n",
       "    <tr style=\"text-align: right;\">\n",
       "      <th></th>\n",
       "      <th>id</th>\n",
       "      <th>amount_tsh</th>\n",
       "      <th>date_recorded</th>\n",
       "      <th>funder</th>\n",
       "      <th>gps_height</th>\n",
       "      <th>installer</th>\n",
       "      <th>longitude</th>\n",
       "      <th>latitude</th>\n",
       "      <th>wpt_name</th>\n",
       "      <th>num_private</th>\n",
       "      <th>...</th>\n",
       "      <th>payment_type</th>\n",
       "      <th>water_quality</th>\n",
       "      <th>quality_group</th>\n",
       "      <th>quantity</th>\n",
       "      <th>quantity_group</th>\n",
       "      <th>source</th>\n",
       "      <th>source_type</th>\n",
       "      <th>source_class</th>\n",
       "      <th>waterpoint_type</th>\n",
       "      <th>waterpoint_type_group</th>\n",
       "    </tr>\n",
       "  </thead>\n",
       "  <tbody>\n",
       "    <tr>\n",
       "      <th>0</th>\n",
       "      <td>69572</td>\n",
       "      <td>6000.0</td>\n",
       "      <td>2011-03-14</td>\n",
       "      <td>Roman</td>\n",
       "      <td>1390</td>\n",
       "      <td>Roman</td>\n",
       "      <td>34.938093</td>\n",
       "      <td>-9.856322</td>\n",
       "      <td>none</td>\n",
       "      <td>0</td>\n",
       "      <td>...</td>\n",
       "      <td>annually</td>\n",
       "      <td>soft</td>\n",
       "      <td>good</td>\n",
       "      <td>enough</td>\n",
       "      <td>enough</td>\n",
       "      <td>spring</td>\n",
       "      <td>spring</td>\n",
       "      <td>groundwater</td>\n",
       "      <td>communal standpipe</td>\n",
       "      <td>communal standpipe</td>\n",
       "    </tr>\n",
       "    <tr>\n",
       "      <th>1</th>\n",
       "      <td>8776</td>\n",
       "      <td>0.0</td>\n",
       "      <td>2013-03-06</td>\n",
       "      <td>Grumeti</td>\n",
       "      <td>1399</td>\n",
       "      <td>GRUMETI</td>\n",
       "      <td>34.698766</td>\n",
       "      <td>-2.147466</td>\n",
       "      <td>Zahanati</td>\n",
       "      <td>0</td>\n",
       "      <td>...</td>\n",
       "      <td>never pay</td>\n",
       "      <td>soft</td>\n",
       "      <td>good</td>\n",
       "      <td>insufficient</td>\n",
       "      <td>insufficient</td>\n",
       "      <td>rainwater harvesting</td>\n",
       "      <td>rainwater harvesting</td>\n",
       "      <td>surface</td>\n",
       "      <td>communal standpipe</td>\n",
       "      <td>communal standpipe</td>\n",
       "    </tr>\n",
       "    <tr>\n",
       "      <th>2</th>\n",
       "      <td>34310</td>\n",
       "      <td>25.0</td>\n",
       "      <td>2013-02-25</td>\n",
       "      <td>Lottery Club</td>\n",
       "      <td>686</td>\n",
       "      <td>World vision</td>\n",
       "      <td>37.460664</td>\n",
       "      <td>-3.821329</td>\n",
       "      <td>Kwa Mahundi</td>\n",
       "      <td>0</td>\n",
       "      <td>...</td>\n",
       "      <td>per bucket</td>\n",
       "      <td>soft</td>\n",
       "      <td>good</td>\n",
       "      <td>enough</td>\n",
       "      <td>enough</td>\n",
       "      <td>dam</td>\n",
       "      <td>dam</td>\n",
       "      <td>surface</td>\n",
       "      <td>communal standpipe multiple</td>\n",
       "      <td>communal standpipe</td>\n",
       "    </tr>\n",
       "  </tbody>\n",
       "</table>\n",
       "<p>3 rows × 40 columns</p>\n",
       "</div>"
      ],
      "text/plain": [
       "      id  amount_tsh date_recorded        funder  gps_height     installer  \\\n",
       "0  69572      6000.0    2011-03-14         Roman        1390         Roman   \n",
       "1   8776         0.0    2013-03-06       Grumeti        1399       GRUMETI   \n",
       "2  34310        25.0    2013-02-25  Lottery Club         686  World vision   \n",
       "\n",
       "   longitude  latitude     wpt_name  num_private  ... payment_type  \\\n",
       "0  34.938093 -9.856322         none            0  ...     annually   \n",
       "1  34.698766 -2.147466     Zahanati            0  ...    never pay   \n",
       "2  37.460664 -3.821329  Kwa Mahundi            0  ...   per bucket   \n",
       "\n",
       "  water_quality quality_group      quantity  quantity_group  \\\n",
       "0          soft          good        enough          enough   \n",
       "1          soft          good  insufficient    insufficient   \n",
       "2          soft          good        enough          enough   \n",
       "\n",
       "                 source           source_type  source_class  \\\n",
       "0                spring                spring   groundwater   \n",
       "1  rainwater harvesting  rainwater harvesting       surface   \n",
       "2                   dam                   dam       surface   \n",
       "\n",
       "               waterpoint_type waterpoint_type_group  \n",
       "0           communal standpipe    communal standpipe  \n",
       "1           communal standpipe    communal standpipe  \n",
       "2  communal standpipe multiple    communal standpipe  \n",
       "\n",
       "[3 rows x 40 columns]"
      ]
     },
     "execution_count": 5,
     "metadata": {},
     "output_type": "execute_result"
    }
   ],
   "source": [
    "ds_values.take(3).to_pandas_dataframe()"
   ]
  },
  {
   "cell_type": "code",
   "execution_count": 6,
   "metadata": {},
   "outputs": [],
   "source": [
    "# join the target variable with other variables\n",
    "df_labels = ds_labels.to_pandas_dataframe()\n",
    "df_values = ds_values.to_pandas_dataframe()\n",
    "df_joined = df_values.join(df_labels.set_index('id'), on='id')"
   ]
  },
  {
   "cell_type": "code",
   "execution_count": 7,
   "metadata": {},
   "outputs": [
    {
     "data": {
      "text/html": [
       "<div>\n",
       "<style scoped>\n",
       "    .dataframe tbody tr th:only-of-type {\n",
       "        vertical-align: middle;\n",
       "    }\n",
       "\n",
       "    .dataframe tbody tr th {\n",
       "        vertical-align: top;\n",
       "    }\n",
       "\n",
       "    .dataframe thead th {\n",
       "        text-align: right;\n",
       "    }\n",
       "</style>\n",
       "<table border=\"1\" class=\"dataframe\">\n",
       "  <thead>\n",
       "    <tr style=\"text-align: right;\">\n",
       "      <th></th>\n",
       "      <th>id</th>\n",
       "      <th>amount_tsh</th>\n",
       "      <th>date_recorded</th>\n",
       "      <th>funder</th>\n",
       "      <th>gps_height</th>\n",
       "      <th>installer</th>\n",
       "      <th>longitude</th>\n",
       "      <th>latitude</th>\n",
       "      <th>wpt_name</th>\n",
       "      <th>num_private</th>\n",
       "      <th>...</th>\n",
       "      <th>water_quality</th>\n",
       "      <th>quality_group</th>\n",
       "      <th>quantity</th>\n",
       "      <th>quantity_group</th>\n",
       "      <th>source</th>\n",
       "      <th>source_type</th>\n",
       "      <th>source_class</th>\n",
       "      <th>waterpoint_type</th>\n",
       "      <th>waterpoint_type_group</th>\n",
       "      <th>status_group</th>\n",
       "    </tr>\n",
       "  </thead>\n",
       "  <tbody>\n",
       "    <tr>\n",
       "      <th>0</th>\n",
       "      <td>69572</td>\n",
       "      <td>6000.0</td>\n",
       "      <td>2011-03-14</td>\n",
       "      <td>Roman</td>\n",
       "      <td>1390</td>\n",
       "      <td>Roman</td>\n",
       "      <td>34.938093</td>\n",
       "      <td>-9.856322</td>\n",
       "      <td>none</td>\n",
       "      <td>0</td>\n",
       "      <td>...</td>\n",
       "      <td>soft</td>\n",
       "      <td>good</td>\n",
       "      <td>enough</td>\n",
       "      <td>enough</td>\n",
       "      <td>spring</td>\n",
       "      <td>spring</td>\n",
       "      <td>groundwater</td>\n",
       "      <td>communal standpipe</td>\n",
       "      <td>communal standpipe</td>\n",
       "      <td>functional</td>\n",
       "    </tr>\n",
       "    <tr>\n",
       "      <th>1</th>\n",
       "      <td>8776</td>\n",
       "      <td>0.0</td>\n",
       "      <td>2013-03-06</td>\n",
       "      <td>Grumeti</td>\n",
       "      <td>1399</td>\n",
       "      <td>GRUMETI</td>\n",
       "      <td>34.698766</td>\n",
       "      <td>-2.147466</td>\n",
       "      <td>Zahanati</td>\n",
       "      <td>0</td>\n",
       "      <td>...</td>\n",
       "      <td>soft</td>\n",
       "      <td>good</td>\n",
       "      <td>insufficient</td>\n",
       "      <td>insufficient</td>\n",
       "      <td>rainwater harvesting</td>\n",
       "      <td>rainwater harvesting</td>\n",
       "      <td>surface</td>\n",
       "      <td>communal standpipe</td>\n",
       "      <td>communal standpipe</td>\n",
       "      <td>functional</td>\n",
       "    </tr>\n",
       "    <tr>\n",
       "      <th>2</th>\n",
       "      <td>34310</td>\n",
       "      <td>25.0</td>\n",
       "      <td>2013-02-25</td>\n",
       "      <td>Lottery Club</td>\n",
       "      <td>686</td>\n",
       "      <td>World vision</td>\n",
       "      <td>37.460664</td>\n",
       "      <td>-3.821329</td>\n",
       "      <td>Kwa Mahundi</td>\n",
       "      <td>0</td>\n",
       "      <td>...</td>\n",
       "      <td>soft</td>\n",
       "      <td>good</td>\n",
       "      <td>enough</td>\n",
       "      <td>enough</td>\n",
       "      <td>dam</td>\n",
       "      <td>dam</td>\n",
       "      <td>surface</td>\n",
       "      <td>communal standpipe multiple</td>\n",
       "      <td>communal standpipe</td>\n",
       "      <td>functional</td>\n",
       "    </tr>\n",
       "    <tr>\n",
       "      <th>3</th>\n",
       "      <td>67743</td>\n",
       "      <td>0.0</td>\n",
       "      <td>2013-01-28</td>\n",
       "      <td>Unicef</td>\n",
       "      <td>263</td>\n",
       "      <td>UNICEF</td>\n",
       "      <td>38.486161</td>\n",
       "      <td>-11.155298</td>\n",
       "      <td>Zahanati Ya Nanyumbu</td>\n",
       "      <td>0</td>\n",
       "      <td>...</td>\n",
       "      <td>soft</td>\n",
       "      <td>good</td>\n",
       "      <td>dry</td>\n",
       "      <td>dry</td>\n",
       "      <td>machine dbh</td>\n",
       "      <td>borehole</td>\n",
       "      <td>groundwater</td>\n",
       "      <td>communal standpipe multiple</td>\n",
       "      <td>communal standpipe</td>\n",
       "      <td>non functional</td>\n",
       "    </tr>\n",
       "    <tr>\n",
       "      <th>4</th>\n",
       "      <td>19728</td>\n",
       "      <td>0.0</td>\n",
       "      <td>2011-07-13</td>\n",
       "      <td>Action In A</td>\n",
       "      <td>0</td>\n",
       "      <td>Artisan</td>\n",
       "      <td>31.130847</td>\n",
       "      <td>-1.825359</td>\n",
       "      <td>Shuleni</td>\n",
       "      <td>0</td>\n",
       "      <td>...</td>\n",
       "      <td>soft</td>\n",
       "      <td>good</td>\n",
       "      <td>seasonal</td>\n",
       "      <td>seasonal</td>\n",
       "      <td>rainwater harvesting</td>\n",
       "      <td>rainwater harvesting</td>\n",
       "      <td>surface</td>\n",
       "      <td>communal standpipe</td>\n",
       "      <td>communal standpipe</td>\n",
       "      <td>functional</td>\n",
       "    </tr>\n",
       "  </tbody>\n",
       "</table>\n",
       "<p>5 rows × 41 columns</p>\n",
       "</div>"
      ],
      "text/plain": [
       "      id  amount_tsh date_recorded        funder  gps_height     installer  \\\n",
       "0  69572      6000.0    2011-03-14         Roman        1390         Roman   \n",
       "1   8776         0.0    2013-03-06       Grumeti        1399       GRUMETI   \n",
       "2  34310        25.0    2013-02-25  Lottery Club         686  World vision   \n",
       "3  67743         0.0    2013-01-28        Unicef         263        UNICEF   \n",
       "4  19728         0.0    2011-07-13   Action In A           0       Artisan   \n",
       "\n",
       "   longitude   latitude              wpt_name  num_private  ... water_quality  \\\n",
       "0  34.938093  -9.856322                  none            0  ...          soft   \n",
       "1  34.698766  -2.147466              Zahanati            0  ...          soft   \n",
       "2  37.460664  -3.821329           Kwa Mahundi            0  ...          soft   \n",
       "3  38.486161 -11.155298  Zahanati Ya Nanyumbu            0  ...          soft   \n",
       "4  31.130847  -1.825359               Shuleni            0  ...          soft   \n",
       "\n",
       "  quality_group      quantity  quantity_group                source  \\\n",
       "0          good        enough          enough                spring   \n",
       "1          good  insufficient    insufficient  rainwater harvesting   \n",
       "2          good        enough          enough                   dam   \n",
       "3          good           dry             dry           machine dbh   \n",
       "4          good      seasonal        seasonal  rainwater harvesting   \n",
       "\n",
       "            source_type source_class              waterpoint_type  \\\n",
       "0                spring  groundwater           communal standpipe   \n",
       "1  rainwater harvesting      surface           communal standpipe   \n",
       "2                   dam      surface  communal standpipe multiple   \n",
       "3              borehole  groundwater  communal standpipe multiple   \n",
       "4  rainwater harvesting      surface           communal standpipe   \n",
       "\n",
       "  waterpoint_type_group    status_group  \n",
       "0    communal standpipe      functional  \n",
       "1    communal standpipe      functional  \n",
       "2    communal standpipe      functional  \n",
       "3    communal standpipe  non functional  \n",
       "4    communal standpipe      functional  \n",
       "\n",
       "[5 rows x 41 columns]"
      ]
     },
     "execution_count": 7,
     "metadata": {},
     "output_type": "execute_result"
    }
   ],
   "source": [
    "df_joined.head()"
   ]
  },
  {
   "cell_type": "markdown",
   "metadata": {},
   "source": [
    "Basic exploratory data analysis (EDA) was completed by profiling the data in Azure. As a result, some variables are excluded. Deeper EDA and consequent data wrangling are highly recommended, but omitted for now, as the goal of the project is different."
   ]
  },
  {
   "cell_type": "code",
   "execution_count": 8,
   "metadata": {},
   "outputs": [
    {
     "name": "stdout",
     "output_type": "stream",
     "text": [
      "Uploading an estimated of 3 files\n",
      "Uploading data/train_labels.csv\n",
      "Uploaded data/train_labels.csv, 1 files out of an estimated total of 3\n",
      "Uploading data/train_values.csv\n",
      "Uploaded data/train_values.csv, 2 files out of an estimated total of 3\n",
      "Uploading data/train_pump.csv\n",
      "Uploaded data/train_pump.csv, 3 files out of an estimated total of 3\n",
      "Uploaded 3 files\n"
     ]
    }
   ],
   "source": [
    "# remove some columns\n",
    "exclude_vars = ['id', 'recorded_by']\n",
    "df_joined = df_joined.drop(exclude_vars, axis=1)\n",
    "\n",
    "# store the merged data locally\n",
    "path_df_joined = \"data/train_pump.csv\"\n",
    "df_joined.to_csv(path_df_joined,index=False)\n",
    "\n",
    "# upload the local file from src_dir to the target_path in datastore\n",
    "datastore.upload(src_dir='data', target_path='data', overwrite=True)\n",
    "ds_joined = Dataset.Tabular.from_delimited_files(path = [(datastore, (path_df_joined))])\n",
    "\n",
    "# register dataset\n",
    "# source: https://docs.microsoft.com/en-us/azure/machine-learning/how-to-create-register-datasets\n",
    "ds_joined = ds_joined.register(workspace=ws,\n",
    "                               name='train_pump',\n",
    "                               description='Training data for the Pump it Up project',\n",
    "                               create_new_version=True)"
   ]
  },
  {
   "cell_type": "code",
   "execution_count": 9,
   "metadata": {
    "collapsed": false,
    "gather": {
     "logged": 1598423890461
    },
    "jupyter": {
     "outputs_hidden": false,
     "source_hidden": false
    },
    "nteract": {
     "transient": {
      "deleting": false
     }
    }
   },
   "outputs": [],
   "source": [
    "# create experiment\n",
    "experiment_name = 'pump_up'\n",
    "experiment = Experiment(ws, experiment_name)"
   ]
  },
  {
   "cell_type": "markdown",
   "metadata": {},
   "source": [
    "## AutoML Configuration\n",
    "\n",
    "The problem at hand is a multiclass classification. The fact of unbalanced dataset suggest against the often used accuracy metric. Among the available performance metrics in AutoML classification (see below), the weighted AUC was chosen.\n",
    "\n",
    "Choice of the cloud compute target allows to profit from higher compute capabilities. Enabling early stopping saves computation time for prospectless children runs."
   ]
  },
  {
   "cell_type": "code",
   "execution_count": 10,
   "metadata": {},
   "outputs": [
    {
     "data": {
      "text/plain": [
       "['AUC_weighted',\n",
       " 'norm_macro_recall',\n",
       " 'accuracy',\n",
       " 'average_precision_score_weighted',\n",
       " 'precision_score_weighted']"
      ]
     },
     "execution_count": 10,
     "metadata": {},
     "output_type": "execute_result"
    }
   ],
   "source": [
    "# establish a list of available metrics\n",
    "get_primary_metrics('classification')"
   ]
  },
  {
   "cell_type": "code",
   "execution_count": 11,
   "metadata": {
    "collapsed": false,
    "gather": {
     "logged": 1598429217746
    },
    "jupyter": {
     "outputs_hidden": false,
     "source_hidden": false
    },
    "nteract": {
     "transient": {
      "deleting": false
     }
    }
   },
   "outputs": [],
   "source": [
    "# source: https://docs.microsoft.com/en-us/azure/machine-learning/tutorial-auto-train-models\n",
    "# automl settings \n",
    "automl_settings = {\n",
    "       \"n_cross_validations\": 3,\n",
    "       \"primary_metric\": 'AUC_weighted',\n",
    "       \"enable_early_stopping\": True,\n",
    "       \"experiment_timeout_hours\": 1.0,\n",
    "       \"max_concurrent_iterations\": 4,\n",
    "       \"max_cores_per_iteration\": -1,\n",
    "       \"verbosity\": logging.INFO,\n",
    "   }\n",
    "\n",
    "# automl config \n",
    "automl_config = AutoMLConfig(task = 'classification',\n",
    "                               compute_target = cpu_cluster,\n",
    "                               training_data = ds_joined,\n",
    "                               label_column_name = \"status_group\",\n",
    "                               **automl_settings\n",
    "                            )"
   ]
  },
  {
   "cell_type": "code",
   "execution_count": 12,
   "metadata": {
    "collapsed": false,
    "gather": {
     "logged": 1598431107951
    },
    "jupyter": {
     "outputs_hidden": false,
     "source_hidden": false
    },
    "nteract": {
     "transient": {
      "deleting": false
     }
    }
   },
   "outputs": [
    {
     "name": "stdout",
     "output_type": "stream",
     "text": [
      "Running on remote.\n"
     ]
    }
   ],
   "source": [
    "# Submit your experiment\n",
    "remote_run = experiment.submit(automl_config)"
   ]
  },
  {
   "cell_type": "markdown",
   "metadata": {},
   "source": [
    "## Run Details"
   ]
  },
  {
   "cell_type": "code",
   "execution_count": 13,
   "metadata": {
    "collapsed": false,
    "gather": {
     "logged": 1598431121770
    },
    "jupyter": {
     "outputs_hidden": false,
     "source_hidden": false
    },
    "nteract": {
     "transient": {
      "deleting": false
     }
    }
   },
   "outputs": [
    {
     "data": {
      "application/vnd.jupyter.widget-view+json": {
       "model_id": "2f5b8d33b8eb4a9a81d09de26968e4f6",
       "version_major": 2,
       "version_minor": 0
      },
      "text/plain": [
       "_AutoMLWidget(widget_settings={'childWidgetDisplay': 'popup', 'send_telemetry': False, 'log_level': 'INFO', 's…"
      ]
     },
     "metadata": {},
     "output_type": "display_data"
    },
    {
     "data": {
      "application/aml.mini.widget.v1": "{\"status\": \"Completed\", \"workbench_run_details_uri\": \"https://ml.azure.com/experiments/pump_up/runs/AutoML_8095cb95-3f69-4245-b118-045f8f840148?wsid=/subscriptions/6449a669-bf0b-42e8-9d1f-1d5d39eaccbf/resourcegroups/udacity/workspaces/capstone\", \"run_id\": \"AutoML_8095cb95-3f69-4245-b118-045f8f840148\", \"run_properties\": {\"run_id\": \"AutoML_8095cb95-3f69-4245-b118-045f8f840148\", \"created_utc\": \"2020-12-28T11:18:38.207728Z\", \"properties\": {\"num_iterations\": \"1000\", \"training_type\": \"TrainFull\", \"acquisition_function\": \"EI\", \"primary_metric\": \"AUC_weighted\", \"train_split\": \"0\", \"acquisition_parameter\": \"0\", \"num_cross_validation\": \"3\", \"target\": \"cpu-cluster\", \"AMLSettingsJsonString\": \"{\\\"path\\\":null,\\\"name\\\":\\\"pump_up\\\",\\\"subscription_id\\\":\\\"6449a669-bf0b-42e8-9d1f-1d5d39eaccbf\\\",\\\"resource_group\\\":\\\"udacity\\\",\\\"workspace_name\\\":\\\"capstone\\\",\\\"region\\\":\\\"eastus2\\\",\\\"compute_target\\\":\\\"cpu-cluster\\\",\\\"spark_service\\\":null,\\\"azure_service\\\":\\\"remote\\\",\\\"many_models\\\":false,\\\"pipeline_fetch_max_batch_size\\\":1,\\\"iterations\\\":1000,\\\"primary_metric\\\":\\\"AUC_weighted\\\",\\\"task_type\\\":\\\"classification\\\",\\\"data_script\\\":null,\\\"validation_size\\\":0.0,\\\"n_cross_validations\\\":3,\\\"y_min\\\":null,\\\"y_max\\\":null,\\\"num_classes\\\":null,\\\"featurization\\\":\\\"auto\\\",\\\"_ignore_package_version_incompatibilities\\\":false,\\\"is_timeseries\\\":false,\\\"max_cores_per_iteration\\\":-1,\\\"max_concurrent_iterations\\\":4,\\\"iteration_timeout_minutes\\\":null,\\\"mem_in_mb\\\":null,\\\"enforce_time_on_windows\\\":false,\\\"experiment_timeout_minutes\\\":60,\\\"experiment_exit_score\\\":null,\\\"whitelist_models\\\":null,\\\"blacklist_algos\\\":[\\\"TensorFlowLinearClassifier\\\",\\\"TensorFlowDNN\\\"],\\\"supported_models\\\":[\\\"SVM\\\",\\\"XGBoostClassifier\\\",\\\"GradientBoosting\\\",\\\"MultinomialNaiveBayes\\\",\\\"RandomForest\\\",\\\"LightGBM\\\",\\\"LinearSVM\\\",\\\"BernoulliNaiveBayes\\\",\\\"AveragedPerceptronClassifier\\\",\\\"TensorFlowLinearClassifier\\\",\\\"KNN\\\",\\\"ExtremeRandomTrees\\\",\\\"TensorFlowDNN\\\",\\\"DecisionTree\\\",\\\"LogisticRegression\\\",\\\"SGD\\\"],\\\"auto_blacklist\\\":true,\\\"blacklist_samples_reached\\\":false,\\\"exclude_nan_labels\\\":true,\\\"verbosity\\\":20,\\\"_debug_log\\\":\\\"azureml_automl.log\\\",\\\"show_warnings\\\":false,\\\"model_explainability\\\":true,\\\"service_url\\\":null,\\\"sdk_url\\\":null,\\\"sdk_packages\\\":null,\\\"enable_onnx_compatible_models\\\":false,\\\"enable_split_onnx_featurizer_estimator_models\\\":false,\\\"vm_type\\\":\\\"STANDARD_D2_V2\\\",\\\"telemetry_verbosity\\\":20,\\\"send_telemetry\\\":true,\\\"enable_dnn\\\":false,\\\"scenario\\\":\\\"SDK-1.13.0\\\",\\\"environment_label\\\":null,\\\"force_text_dnn\\\":false,\\\"enable_feature_sweeping\\\":true,\\\"enable_early_stopping\\\":true,\\\"early_stopping_n_iters\\\":10,\\\"metrics\\\":null,\\\"enable_ensembling\\\":true,\\\"enable_stack_ensembling\\\":true,\\\"ensemble_iterations\\\":15,\\\"enable_tf\\\":false,\\\"enable_subsampling\\\":null,\\\"subsample_seed\\\":null,\\\"enable_nimbusml\\\":false,\\\"enable_streaming\\\":false,\\\"force_streaming\\\":false,\\\"track_child_runs\\\":true,\\\"allowed_private_models\\\":[],\\\"label_column_name\\\":\\\"status_group\\\",\\\"weight_column_name\\\":null,\\\"cv_split_column_names\\\":null,\\\"enable_local_managed\\\":false,\\\"_local_managed_run_id\\\":null,\\\"cost_mode\\\":1,\\\"lag_length\\\":0,\\\"metric_operation\\\":\\\"maximize\\\",\\\"preprocess\\\":true}\", \"DataPrepJsonString\": \"{\\\\\\\"training_data\\\\\\\": \\\\\\\"{\\\\\\\\\\\\\\\"blocks\\\\\\\\\\\\\\\": [{\\\\\\\\\\\\\\\"id\\\\\\\\\\\\\\\": \\\\\\\\\\\\\\\"7ae7ad62-149d-4f39-a7c4-abec2ce45802\\\\\\\\\\\\\\\", \\\\\\\\\\\\\\\"type\\\\\\\\\\\\\\\": \\\\\\\\\\\\\\\"Microsoft.DPrep.GetDatastoreFilesBlock\\\\\\\\\\\\\\\", \\\\\\\\\\\\\\\"arguments\\\\\\\\\\\\\\\": {\\\\\\\\\\\\\\\"datastores\\\\\\\\\\\\\\\": [{\\\\\\\\\\\\\\\"datastoreName\\\\\\\\\\\\\\\": \\\\\\\\\\\\\\\"workspaceblobstore\\\\\\\\\\\\\\\", \\\\\\\\\\\\\\\"path\\\\\\\\\\\\\\\": \\\\\\\\\\\\\\\"data/train_pump.csv\\\\\\\\\\\\\\\", \\\\\\\\\\\\\\\"resourceGroup\\\\\\\\\\\\\\\": \\\\\\\\\\\\\\\"udacity\\\\\\\\\\\\\\\", \\\\\\\\\\\\\\\"subscription\\\\\\\\\\\\\\\": \\\\\\\\\\\\\\\"6449a669-bf0b-42e8-9d1f-1d5d39eaccbf\\\\\\\\\\\\\\\", \\\\\\\\\\\\\\\"workspaceName\\\\\\\\\\\\\\\": \\\\\\\\\\\\\\\"capstone\\\\\\\\\\\\\\\"}]}, \\\\\\\\\\\\\\\"localData\\\\\\\\\\\\\\\": {}, \\\\\\\\\\\\\\\"isEnabled\\\\\\\\\\\\\\\": true, \\\\\\\\\\\\\\\"name\\\\\\\\\\\\\\\": null, \\\\\\\\\\\\\\\"annotation\\\\\\\\\\\\\\\": null}, {\\\\\\\\\\\\\\\"id\\\\\\\\\\\\\\\": \\\\\\\\\\\\\\\"bd5f6599-f5e6-477e-a79c-a64c5a958805\\\\\\\\\\\\\\\", \\\\\\\\\\\\\\\"type\\\\\\\\\\\\\\\": \\\\\\\\\\\\\\\"Microsoft.DPrep.ParseDelimitedBlock\\\\\\\\\\\\\\\", \\\\\\\\\\\\\\\"arguments\\\\\\\\\\\\\\\": {\\\\\\\\\\\\\\\"columnHeadersMode\\\\\\\\\\\\\\\": 3, \\\\\\\\\\\\\\\"fileEncoding\\\\\\\\\\\\\\\": 0, \\\\\\\\\\\\\\\"handleQuotedLineBreaks\\\\\\\\\\\\\\\": false, \\\\\\\\\\\\\\\"preview\\\\\\\\\\\\\\\": false, \\\\\\\\\\\\\\\"separator\\\\\\\\\\\\\\\": \\\\\\\\\\\\\\\",\\\\\\\\\\\\\\\", \\\\\\\\\\\\\\\"skipRows\\\\\\\\\\\\\\\": 0, \\\\\\\\\\\\\\\"skipRowsMode\\\\\\\\\\\\\\\": 0}, \\\\\\\\\\\\\\\"localData\\\\\\\\\\\\\\\": {}, \\\\\\\\\\\\\\\"isEnabled\\\\\\\\\\\\\\\": true, \\\\\\\\\\\\\\\"name\\\\\\\\\\\\\\\": null, \\\\\\\\\\\\\\\"annotation\\\\\\\\\\\\\\\": null}, {\\\\\\\\\\\\\\\"id\\\\\\\\\\\\\\\": \\\\\\\\\\\\\\\"608e0732-a373-48f9-82a0-995fd550ea6b\\\\\\\\\\\\\\\", \\\\\\\\\\\\\\\"type\\\\\\\\\\\\\\\": \\\\\\\\\\\\\\\"Microsoft.DPrep.DropColumnsBlock\\\\\\\\\\\\\\\", \\\\\\\\\\\\\\\"arguments\\\\\\\\\\\\\\\": {\\\\\\\\\\\\\\\"columns\\\\\\\\\\\\\\\": {\\\\\\\\\\\\\\\"type\\\\\\\\\\\\\\\": 0, \\\\\\\\\\\\\\\"details\\\\\\\\\\\\\\\": {\\\\\\\\\\\\\\\"selectedColumns\\\\\\\\\\\\\\\": [\\\\\\\\\\\\\\\"Path\\\\\\\\\\\\\\\"]}}}, \\\\\\\\\\\\\\\"localData\\\\\\\\\\\\\\\": {}, \\\\\\\\\\\\\\\"isEnabled\\\\\\\\\\\\\\\": true, \\\\\\\\\\\\\\\"name\\\\\\\\\\\\\\\": null, \\\\\\\\\\\\\\\"annotation\\\\\\\\\\\\\\\": null}, {\\\\\\\\\\\\\\\"id\\\\\\\\\\\\\\\": \\\\\\\\\\\\\\\"4e36ccfe-f533-49ce-a3b7-791e07f103f4\\\\\\\\\\\\\\\", \\\\\\\\\\\\\\\"type\\\\\\\\\\\\\\\": \\\\\\\\\\\\\\\"Microsoft.DPrep.SetColumnTypesBlock\\\\\\\\\\\\\\\", \\\\\\\\\\\\\\\"arguments\\\\\\\\\\\\\\\": {\\\\\\\\\\\\\\\"columnConversion\\\\\\\\\\\\\\\": [{\\\\\\\\\\\\\\\"column\\\\\\\\\\\\\\\": {\\\\\\\\\\\\\\\"type\\\\\\\\\\\\\\\": 2, \\\\\\\\\\\\\\\"details\\\\\\\\\\\\\\\": {\\\\\\\\\\\\\\\"selectedColumn\\\\\\\\\\\\\\\": \\\\\\\\\\\\\\\"amount_tsh\\\\\\\\\\\\\\\"}}, \\\\\\\\\\\\\\\"typeProperty\\\\\\\\\\\\\\\": 3}, {\\\\\\\\\\\\\\\"column\\\\\\\\\\\\\\\": {\\\\\\\\\\\\\\\"type\\\\\\\\\\\\\\\": 2, \\\\\\\\\\\\\\\"details\\\\\\\\\\\\\\\": {\\\\\\\\\\\\\\\"selectedColumn\\\\\\\\\\\\\\\": \\\\\\\\\\\\\\\"date_recorded\\\\\\\\\\\\\\\"}}, \\\\\\\\\\\\\\\"typeArguments\\\\\\\\\\\\\\\": {\\\\\\\\\\\\\\\"dateTimeFormats\\\\\\\\\\\\\\\": [\\\\\\\\\\\\\\\"%Y-%m-%d\\\\\\\\\\\\\\\"]}, \\\\\\\\\\\\\\\"typeProperty\\\\\\\\\\\\\\\": 4}, {\\\\\\\\\\\\\\\"column\\\\\\\\\\\\\\\": {\\\\\\\\\\\\\\\"type\\\\\\\\\\\\\\\": 2, \\\\\\\\\\\\\\\"details\\\\\\\\\\\\\\\": {\\\\\\\\\\\\\\\"selectedColumn\\\\\\\\\\\\\\\": \\\\\\\\\\\\\\\"funder\\\\\\\\\\\\\\\"}}, \\\\\\\\\\\\\\\"typeProperty\\\\\\\\\\\\\\\": 0}, {\\\\\\\\\\\\\\\"column\\\\\\\\\\\\\\\": {\\\\\\\\\\\\\\\"type\\\\\\\\\\\\\\\": 2, \\\\\\\\\\\\\\\"details\\\\\\\\\\\\\\\": {\\\\\\\\\\\\\\\"selectedColumn\\\\\\\\\\\\\\\": \\\\\\\\\\\\\\\"gps_height\\\\\\\\\\\\\\\"}}, \\\\\\\\\\\\\\\"typeProperty\\\\\\\\\\\\\\\": 2}, {\\\\\\\\\\\\\\\"column\\\\\\\\\\\\\\\": {\\\\\\\\\\\\\\\"type\\\\\\\\\\\\\\\": 2, \\\\\\\\\\\\\\\"details\\\\\\\\\\\\\\\": {\\\\\\\\\\\\\\\"selectedColumn\\\\\\\\\\\\\\\": \\\\\\\\\\\\\\\"installer\\\\\\\\\\\\\\\"}}, \\\\\\\\\\\\\\\"typeProperty\\\\\\\\\\\\\\\": 0}, {\\\\\\\\\\\\\\\"column\\\\\\\\\\\\\\\": {\\\\\\\\\\\\\\\"type\\\\\\\\\\\\\\\": 2, \\\\\\\\\\\\\\\"details\\\\\\\\\\\\\\\": {\\\\\\\\\\\\\\\"selectedColumn\\\\\\\\\\\\\\\": \\\\\\\\\\\\\\\"longitude\\\\\\\\\\\\\\\"}}, \\\\\\\\\\\\\\\"typeProperty\\\\\\\\\\\\\\\": 3}, {\\\\\\\\\\\\\\\"column\\\\\\\\\\\\\\\": {\\\\\\\\\\\\\\\"type\\\\\\\\\\\\\\\": 2, \\\\\\\\\\\\\\\"details\\\\\\\\\\\\\\\": {\\\\\\\\\\\\\\\"selectedColumn\\\\\\\\\\\\\\\": \\\\\\\\\\\\\\\"latitude\\\\\\\\\\\\\\\"}}, \\\\\\\\\\\\\\\"typeProperty\\\\\\\\\\\\\\\": 3}, {\\\\\\\\\\\\\\\"column\\\\\\\\\\\\\\\": {\\\\\\\\\\\\\\\"type\\\\\\\\\\\\\\\": 2, \\\\\\\\\\\\\\\"details\\\\\\\\\\\\\\\": {\\\\\\\\\\\\\\\"selectedColumn\\\\\\\\\\\\\\\": \\\\\\\\\\\\\\\"wpt_name\\\\\\\\\\\\\\\"}}, \\\\\\\\\\\\\\\"typeProperty\\\\\\\\\\\\\\\": 0}, {\\\\\\\\\\\\\\\"column\\\\\\\\\\\\\\\": {\\\\\\\\\\\\\\\"type\\\\\\\\\\\\\\\": 2, \\\\\\\\\\\\\\\"details\\\\\\\\\\\\\\\": {\\\\\\\\\\\\\\\"selectedColumn\\\\\\\\\\\\\\\": \\\\\\\\\\\\\\\"num_private\\\\\\\\\\\\\\\"}}, \\\\\\\\\\\\\\\"typeProperty\\\\\\\\\\\\\\\": 2}, {\\\\\\\\\\\\\\\"column\\\\\\\\\\\\\\\": {\\\\\\\\\\\\\\\"type\\\\\\\\\\\\\\\": 2, \\\\\\\\\\\\\\\"details\\\\\\\\\\\\\\\": {\\\\\\\\\\\\\\\"selectedColumn\\\\\\\\\\\\\\\": \\\\\\\\\\\\\\\"basin\\\\\\\\\\\\\\\"}}, \\\\\\\\\\\\\\\"typeProperty\\\\\\\\\\\\\\\": 0}, {\\\\\\\\\\\\\\\"column\\\\\\\\\\\\\\\": {\\\\\\\\\\\\\\\"type\\\\\\\\\\\\\\\": 2, \\\\\\\\\\\\\\\"details\\\\\\\\\\\\\\\": {\\\\\\\\\\\\\\\"selectedColumn\\\\\\\\\\\\\\\": \\\\\\\\\\\\\\\"subvillage\\\\\\\\\\\\\\\"}}, \\\\\\\\\\\\\\\"typeProperty\\\\\\\\\\\\\\\": 0}, {\\\\\\\\\\\\\\\"column\\\\\\\\\\\\\\\": {\\\\\\\\\\\\\\\"type\\\\\\\\\\\\\\\": 2, \\\\\\\\\\\\\\\"details\\\\\\\\\\\\\\\": {\\\\\\\\\\\\\\\"selectedColumn\\\\\\\\\\\\\\\": \\\\\\\\\\\\\\\"region\\\\\\\\\\\\\\\"}}, \\\\\\\\\\\\\\\"typeProperty\\\\\\\\\\\\\\\": 0}, {\\\\\\\\\\\\\\\"column\\\\\\\\\\\\\\\": {\\\\\\\\\\\\\\\"type\\\\\\\\\\\\\\\": 2, \\\\\\\\\\\\\\\"details\\\\\\\\\\\\\\\": {\\\\\\\\\\\\\\\"selectedColumn\\\\\\\\\\\\\\\": \\\\\\\\\\\\\\\"region_code\\\\\\\\\\\\\\\"}}, \\\\\\\\\\\\\\\"typeProperty\\\\\\\\\\\\\\\": 2}, {\\\\\\\\\\\\\\\"column\\\\\\\\\\\\\\\": {\\\\\\\\\\\\\\\"type\\\\\\\\\\\\\\\": 2, \\\\\\\\\\\\\\\"details\\\\\\\\\\\\\\\": {\\\\\\\\\\\\\\\"selectedColumn\\\\\\\\\\\\\\\": \\\\\\\\\\\\\\\"district_code\\\\\\\\\\\\\\\"}}, \\\\\\\\\\\\\\\"typeProperty\\\\\\\\\\\\\\\": 2}, {\\\\\\\\\\\\\\\"column\\\\\\\\\\\\\\\": {\\\\\\\\\\\\\\\"type\\\\\\\\\\\\\\\": 2, \\\\\\\\\\\\\\\"details\\\\\\\\\\\\\\\": {\\\\\\\\\\\\\\\"selectedColumn\\\\\\\\\\\\\\\": \\\\\\\\\\\\\\\"lga\\\\\\\\\\\\\\\"}}, \\\\\\\\\\\\\\\"typeProperty\\\\\\\\\\\\\\\": 0}, {\\\\\\\\\\\\\\\"column\\\\\\\\\\\\\\\": {\\\\\\\\\\\\\\\"type\\\\\\\\\\\\\\\": 2, \\\\\\\\\\\\\\\"details\\\\\\\\\\\\\\\": {\\\\\\\\\\\\\\\"selectedColumn\\\\\\\\\\\\\\\": \\\\\\\\\\\\\\\"ward\\\\\\\\\\\\\\\"}}, \\\\\\\\\\\\\\\"typeProperty\\\\\\\\\\\\\\\": 0}, {\\\\\\\\\\\\\\\"column\\\\\\\\\\\\\\\": {\\\\\\\\\\\\\\\"type\\\\\\\\\\\\\\\": 2, \\\\\\\\\\\\\\\"details\\\\\\\\\\\\\\\": {\\\\\\\\\\\\\\\"selectedColumn\\\\\\\\\\\\\\\": \\\\\\\\\\\\\\\"population\\\\\\\\\\\\\\\"}}, \\\\\\\\\\\\\\\"typeProperty\\\\\\\\\\\\\\\": 2}, {\\\\\\\\\\\\\\\"column\\\\\\\\\\\\\\\": {\\\\\\\\\\\\\\\"type\\\\\\\\\\\\\\\": 2, \\\\\\\\\\\\\\\"details\\\\\\\\\\\\\\\": {\\\\\\\\\\\\\\\"selectedColumn\\\\\\\\\\\\\\\": \\\\\\\\\\\\\\\"public_meeting\\\\\\\\\\\\\\\"}}, \\\\\\\\\\\\\\\"typeProperty\\\\\\\\\\\\\\\": 1}, {\\\\\\\\\\\\\\\"column\\\\\\\\\\\\\\\": {\\\\\\\\\\\\\\\"type\\\\\\\\\\\\\\\": 2, \\\\\\\\\\\\\\\"details\\\\\\\\\\\\\\\": {\\\\\\\\\\\\\\\"selectedColumn\\\\\\\\\\\\\\\": \\\\\\\\\\\\\\\"scheme_management\\\\\\\\\\\\\\\"}}, \\\\\\\\\\\\\\\"typeProperty\\\\\\\\\\\\\\\": 0}, {\\\\\\\\\\\\\\\"column\\\\\\\\\\\\\\\": {\\\\\\\\\\\\\\\"type\\\\\\\\\\\\\\\": 2, \\\\\\\\\\\\\\\"details\\\\\\\\\\\\\\\": {\\\\\\\\\\\\\\\"selectedColumn\\\\\\\\\\\\\\\": \\\\\\\\\\\\\\\"scheme_name\\\\\\\\\\\\\\\"}}, \\\\\\\\\\\\\\\"typeProperty\\\\\\\\\\\\\\\": 0}, {\\\\\\\\\\\\\\\"column\\\\\\\\\\\\\\\": {\\\\\\\\\\\\\\\"type\\\\\\\\\\\\\\\": 2, \\\\\\\\\\\\\\\"details\\\\\\\\\\\\\\\": {\\\\\\\\\\\\\\\"selectedColumn\\\\\\\\\\\\\\\": \\\\\\\\\\\\\\\"permit\\\\\\\\\\\\\\\"}}, \\\\\\\\\\\\\\\"typeProperty\\\\\\\\\\\\\\\": 1}, {\\\\\\\\\\\\\\\"column\\\\\\\\\\\\\\\": {\\\\\\\\\\\\\\\"type\\\\\\\\\\\\\\\": 2, \\\\\\\\\\\\\\\"details\\\\\\\\\\\\\\\": {\\\\\\\\\\\\\\\"selectedColumn\\\\\\\\\\\\\\\": \\\\\\\\\\\\\\\"construction_year\\\\\\\\\\\\\\\"}}, \\\\\\\\\\\\\\\"typeProperty\\\\\\\\\\\\\\\": 2}, {\\\\\\\\\\\\\\\"column\\\\\\\\\\\\\\\": {\\\\\\\\\\\\\\\"type\\\\\\\\\\\\\\\": 2, \\\\\\\\\\\\\\\"details\\\\\\\\\\\\\\\": {\\\\\\\\\\\\\\\"selectedColumn\\\\\\\\\\\\\\\": \\\\\\\\\\\\\\\"extraction_type\\\\\\\\\\\\\\\"}}, \\\\\\\\\\\\\\\"typeProperty\\\\\\\\\\\\\\\": 0}, {\\\\\\\\\\\\\\\"column\\\\\\\\\\\\\\\": {\\\\\\\\\\\\\\\"type\\\\\\\\\\\\\\\": 2, \\\\\\\\\\\\\\\"details\\\\\\\\\\\\\\\": {\\\\\\\\\\\\\\\"selectedColumn\\\\\\\\\\\\\\\": \\\\\\\\\\\\\\\"extraction_type_group\\\\\\\\\\\\\\\"}}, \\\\\\\\\\\\\\\"typeProperty\\\\\\\\\\\\\\\": 0}, {\\\\\\\\\\\\\\\"column\\\\\\\\\\\\\\\": {\\\\\\\\\\\\\\\"type\\\\\\\\\\\\\\\": 2, \\\\\\\\\\\\\\\"details\\\\\\\\\\\\\\\": {\\\\\\\\\\\\\\\"selectedColumn\\\\\\\\\\\\\\\": \\\\\\\\\\\\\\\"extraction_type_class\\\\\\\\\\\\\\\"}}, \\\\\\\\\\\\\\\"typeProperty\\\\\\\\\\\\\\\": 0}, {\\\\\\\\\\\\\\\"column\\\\\\\\\\\\\\\": {\\\\\\\\\\\\\\\"type\\\\\\\\\\\\\\\": 2, \\\\\\\\\\\\\\\"details\\\\\\\\\\\\\\\": {\\\\\\\\\\\\\\\"selectedColumn\\\\\\\\\\\\\\\": \\\\\\\\\\\\\\\"management\\\\\\\\\\\\\\\"}}, \\\\\\\\\\\\\\\"typeProperty\\\\\\\\\\\\\\\": 0}, {\\\\\\\\\\\\\\\"column\\\\\\\\\\\\\\\": {\\\\\\\\\\\\\\\"type\\\\\\\\\\\\\\\": 2, \\\\\\\\\\\\\\\"details\\\\\\\\\\\\\\\": {\\\\\\\\\\\\\\\"selectedColumn\\\\\\\\\\\\\\\": \\\\\\\\\\\\\\\"management_group\\\\\\\\\\\\\\\"}}, \\\\\\\\\\\\\\\"typeProperty\\\\\\\\\\\\\\\": 0}, {\\\\\\\\\\\\\\\"column\\\\\\\\\\\\\\\": {\\\\\\\\\\\\\\\"type\\\\\\\\\\\\\\\": 2, \\\\\\\\\\\\\\\"details\\\\\\\\\\\\\\\": {\\\\\\\\\\\\\\\"selectedColumn\\\\\\\\\\\\\\\": \\\\\\\\\\\\\\\"payment\\\\\\\\\\\\\\\"}}, \\\\\\\\\\\\\\\"typeProperty\\\\\\\\\\\\\\\": 0}, {\\\\\\\\\\\\\\\"column\\\\\\\\\\\\\\\": {\\\\\\\\\\\\\\\"type\\\\\\\\\\\\\\\": 2, \\\\\\\\\\\\\\\"details\\\\\\\\\\\\\\\": {\\\\\\\\\\\\\\\"selectedColumn\\\\\\\\\\\\\\\": \\\\\\\\\\\\\\\"payment_type\\\\\\\\\\\\\\\"}}, \\\\\\\\\\\\\\\"typeProperty\\\\\\\\\\\\\\\": 0}, {\\\\\\\\\\\\\\\"column\\\\\\\\\\\\\\\": {\\\\\\\\\\\\\\\"type\\\\\\\\\\\\\\\": 2, \\\\\\\\\\\\\\\"details\\\\\\\\\\\\\\\": {\\\\\\\\\\\\\\\"selectedColumn\\\\\\\\\\\\\\\": \\\\\\\\\\\\\\\"water_quality\\\\\\\\\\\\\\\"}}, \\\\\\\\\\\\\\\"typeProperty\\\\\\\\\\\\\\\": 0}, {\\\\\\\\\\\\\\\"column\\\\\\\\\\\\\\\": {\\\\\\\\\\\\\\\"type\\\\\\\\\\\\\\\": 2, \\\\\\\\\\\\\\\"details\\\\\\\\\\\\\\\": {\\\\\\\\\\\\\\\"selectedColumn\\\\\\\\\\\\\\\": \\\\\\\\\\\\\\\"quality_group\\\\\\\\\\\\\\\"}}, \\\\\\\\\\\\\\\"typeProperty\\\\\\\\\\\\\\\": 0}, {\\\\\\\\\\\\\\\"column\\\\\\\\\\\\\\\": {\\\\\\\\\\\\\\\"type\\\\\\\\\\\\\\\": 2, \\\\\\\\\\\\\\\"details\\\\\\\\\\\\\\\": {\\\\\\\\\\\\\\\"selectedColumn\\\\\\\\\\\\\\\": \\\\\\\\\\\\\\\"quantity\\\\\\\\\\\\\\\"}}, \\\\\\\\\\\\\\\"typeProperty\\\\\\\\\\\\\\\": 0}, {\\\\\\\\\\\\\\\"column\\\\\\\\\\\\\\\": {\\\\\\\\\\\\\\\"type\\\\\\\\\\\\\\\": 2, \\\\\\\\\\\\\\\"details\\\\\\\\\\\\\\\": {\\\\\\\\\\\\\\\"selectedColumn\\\\\\\\\\\\\\\": \\\\\\\\\\\\\\\"quantity_group\\\\\\\\\\\\\\\"}}, \\\\\\\\\\\\\\\"typeProperty\\\\\\\\\\\\\\\": 0}, {\\\\\\\\\\\\\\\"column\\\\\\\\\\\\\\\": {\\\\\\\\\\\\\\\"type\\\\\\\\\\\\\\\": 2, \\\\\\\\\\\\\\\"details\\\\\\\\\\\\\\\": {\\\\\\\\\\\\\\\"selectedColumn\\\\\\\\\\\\\\\": \\\\\\\\\\\\\\\"source\\\\\\\\\\\\\\\"}}, \\\\\\\\\\\\\\\"typeProperty\\\\\\\\\\\\\\\": 0}, {\\\\\\\\\\\\\\\"column\\\\\\\\\\\\\\\": {\\\\\\\\\\\\\\\"type\\\\\\\\\\\\\\\": 2, \\\\\\\\\\\\\\\"details\\\\\\\\\\\\\\\": {\\\\\\\\\\\\\\\"selectedColumn\\\\\\\\\\\\\\\": \\\\\\\\\\\\\\\"source_type\\\\\\\\\\\\\\\"}}, \\\\\\\\\\\\\\\"typeProperty\\\\\\\\\\\\\\\": 0}, {\\\\\\\\\\\\\\\"column\\\\\\\\\\\\\\\": {\\\\\\\\\\\\\\\"type\\\\\\\\\\\\\\\": 2, \\\\\\\\\\\\\\\"details\\\\\\\\\\\\\\\": {\\\\\\\\\\\\\\\"selectedColumn\\\\\\\\\\\\\\\": \\\\\\\\\\\\\\\"source_class\\\\\\\\\\\\\\\"}}, \\\\\\\\\\\\\\\"typeProperty\\\\\\\\\\\\\\\": 0}, {\\\\\\\\\\\\\\\"column\\\\\\\\\\\\\\\": {\\\\\\\\\\\\\\\"type\\\\\\\\\\\\\\\": 2, \\\\\\\\\\\\\\\"details\\\\\\\\\\\\\\\": {\\\\\\\\\\\\\\\"selectedColumn\\\\\\\\\\\\\\\": \\\\\\\\\\\\\\\"waterpoint_type\\\\\\\\\\\\\\\"}}, \\\\\\\\\\\\\\\"typeProperty\\\\\\\\\\\\\\\": 0}, {\\\\\\\\\\\\\\\"column\\\\\\\\\\\\\\\": {\\\\\\\\\\\\\\\"type\\\\\\\\\\\\\\\": 2, \\\\\\\\\\\\\\\"details\\\\\\\\\\\\\\\": {\\\\\\\\\\\\\\\"selectedColumn\\\\\\\\\\\\\\\": \\\\\\\\\\\\\\\"waterpoint_type_group\\\\\\\\\\\\\\\"}}, \\\\\\\\\\\\\\\"typeProperty\\\\\\\\\\\\\\\": 0}, {\\\\\\\\\\\\\\\"column\\\\\\\\\\\\\\\": {\\\\\\\\\\\\\\\"type\\\\\\\\\\\\\\\": 2, \\\\\\\\\\\\\\\"details\\\\\\\\\\\\\\\": {\\\\\\\\\\\\\\\"selectedColumn\\\\\\\\\\\\\\\": \\\\\\\\\\\\\\\"status_group\\\\\\\\\\\\\\\"}}, \\\\\\\\\\\\\\\"typeProperty\\\\\\\\\\\\\\\": 0}]}, \\\\\\\\\\\\\\\"localData\\\\\\\\\\\\\\\": {}, \\\\\\\\\\\\\\\"isEnabled\\\\\\\\\\\\\\\": true, \\\\\\\\\\\\\\\"name\\\\\\\\\\\\\\\": null, \\\\\\\\\\\\\\\"annotation\\\\\\\\\\\\\\\": null}], \\\\\\\\\\\\\\\"inspectors\\\\\\\\\\\\\\\": [], \\\\\\\\\\\\\\\"meta\\\\\\\\\\\\\\\": {\\\\\\\\\\\\\\\"savedDatasetId\\\\\\\\\\\\\\\": \\\\\\\\\\\\\\\"947ec5a5-0639-42a0-a796-60c54d58d9d4\\\\\\\\\\\\\\\", \\\\\\\\\\\\\\\"datasetType\\\\\\\\\\\\\\\": \\\\\\\\\\\\\\\"tabular\\\\\\\\\\\\\\\", \\\\\\\\\\\\\\\"subscriptionId\\\\\\\\\\\\\\\": \\\\\\\\\\\\\\\"6449a669-bf0b-42e8-9d1f-1d5d39eaccbf\\\\\\\\\\\\\\\", \\\\\\\\\\\\\\\"workspaceId\\\\\\\\\\\\\\\": \\\\\\\\\\\\\\\"5ae1f274-fcf4-44bb-a50f-6862d2f9650a\\\\\\\\\\\\\\\", \\\\\\\\\\\\\\\"workspaceLocation\\\\\\\\\\\\\\\": \\\\\\\\\\\\\\\"eastus2\\\\\\\\\\\\\\\"}}\\\\\\\", \\\\\\\"activities\\\\\\\": 0}\", \"EnableSubsampling\": null, \"runTemplate\": \"AutoML\", \"azureml.runsource\": \"automl\", \"display_task_type\": \"classification\", \"dependencies_versions\": \"{\\\"azureml-widgets\\\": \\\"1.19.0\\\", \\\"azureml-train\\\": \\\"1.19.0\\\", \\\"azureml-train-restclients-hyperdrive\\\": \\\"1.19.0\\\", \\\"azureml-train-core\\\": \\\"1.19.0\\\", \\\"azureml-train-automl\\\": \\\"1.19.0\\\", \\\"azureml-train-automl-runtime\\\": \\\"1.19.0\\\", \\\"azureml-train-automl-client\\\": \\\"1.19.0\\\", \\\"azureml-tensorboard\\\": \\\"1.19.0\\\", \\\"azureml-telemetry\\\": \\\"1.19.0\\\", \\\"azureml-sdk\\\": \\\"1.19.0\\\", \\\"azureml-samples\\\": \\\"0+unknown\\\", \\\"azureml-pipeline\\\": \\\"1.19.0\\\", \\\"azureml-pipeline-steps\\\": \\\"1.19.0\\\", \\\"azureml-pipeline-core\\\": \\\"1.19.0\\\", \\\"azureml-opendatasets\\\": \\\"1.19.0\\\", \\\"azureml-model-management-sdk\\\": \\\"1.0.1b6.post1\\\", \\\"azureml-mlflow\\\": \\\"1.19.0\\\", \\\"azureml-interpret\\\": \\\"1.19.0\\\", \\\"azureml-explain-model\\\": \\\"1.19.0\\\", \\\"azureml-defaults\\\": \\\"1.19.0\\\", \\\"azureml-dataset-runtime\\\": \\\"1.19.0\\\", \\\"azureml-dataprep\\\": \\\"2.6.1\\\", \\\"azureml-dataprep-rslex\\\": \\\"1.4.0\\\", \\\"azureml-dataprep-native\\\": \\\"26.0.0\\\", \\\"azureml-datadrift\\\": \\\"1.19.0\\\", \\\"azureml-core\\\": \\\"1.19.0\\\", \\\"azureml-contrib-services\\\": \\\"1.19.0\\\", \\\"azureml-contrib-server\\\": \\\"1.19.0\\\", \\\"azureml-contrib-reinforcementlearning\\\": \\\"1.19.0\\\", \\\"azureml-contrib-pipeline-steps\\\": \\\"1.19.0\\\", \\\"azureml-contrib-notebook\\\": \\\"1.19.0\\\", \\\"azureml-contrib-interpret\\\": \\\"1.19.0\\\", \\\"azureml-contrib-gbdt\\\": \\\"1.19.0\\\", \\\"azureml-contrib-fairness\\\": \\\"1.19.0\\\", \\\"azureml-contrib-dataset\\\": \\\"1.19.0\\\", \\\"azureml-cli-common\\\": \\\"1.19.0\\\", \\\"azureml-automl-runtime\\\": \\\"1.19.0\\\", \\\"azureml-automl-core\\\": \\\"1.19.0\\\", \\\"azureml-accel-models\\\": \\\"1.19.0\\\"}\", \"_aml_system_scenario_identification\": \"Remote.Parent\", \"ClientType\": \"SDK\", \"environment_cpu_name\": \"AzureML-AutoML\", \"environment_cpu_label\": \"prod\", \"environment_gpu_name\": \"AzureML-AutoML-GPU\", \"environment_gpu_label\": \"prod\", \"root_attribution\": \"automl\", \"attribution\": \"AutoML\", \"Orchestrator\": \"AutoML\", \"CancelUri\": \"https://eastus2.experiments.azureml.net/jasmine/v1.0/subscriptions/6449a669-bf0b-42e8-9d1f-1d5d39eaccbf/resourceGroups/udacity/providers/Microsoft.MachineLearningServices/workspaces/capstone/experimentids/38e10201-9902-43cd-9555-acc22e931f43/cancel/AutoML_8095cb95-3f69-4245-b118-045f8f840148\", \"ClientSdkVersion\": \"1.19.0\", \"snapshotId\": \"00000000-0000-0000-0000-000000000000\", \"SetupRunId\": \"AutoML_8095cb95-3f69-4245-b118-045f8f840148_setup\", \"SetupRunContainerId\": \"dcid.AutoML_8095cb95-3f69-4245-b118-045f8f840148_setup\", \"FeaturizationRunJsonPath\": \"featurizer_container.json\", \"FeaturizationRunId\": \"AutoML_8095cb95-3f69-4245-b118-045f8f840148_featurize\", \"ProblemInfoJsonString\": \"{\\\"dataset_num_categorical\\\": 0, \\\"is_sparse\\\": true, \\\"subsampling\\\": false, \\\"dataset_classes\\\": 3, \\\"dataset_features\\\": 7527, \\\"dataset_samples\\\": 59400, \\\"single_frequency_class_detected\\\": false}\", \"ModelExplainRunId\": \"AutoML_8095cb95-3f69-4245-b118-045f8f840148_ModelExplain\"}, \"tags\": {\"model_explain_run\": \"best_run\", \"_aml_system_azureml.automlComponent\": \"AutoML\", \"pipeline_id\": \"\", \"score\": \"\", \"predicted_cost\": \"\", \"fit_time\": \"\", \"training_percent\": \"\", \"iteration\": \"\", \"run_preprocessor\": \"\", \"run_algorithm\": \"\", \"dynamic_whitelisting_iterations\": \"<25>;<30>;<35>;<40>;<45>;\", \"automl_best_child_run_id\": \"AutoML_8095cb95-3f69-4245-b118-045f8f840148_48\", \"model_explain_best_run_child_id\": \"AutoML_8095cb95-3f69-4245-b118-045f8f840148_48\"}, \"end_time_utc\": \"2020-12-28T12:34:10.440906Z\", \"status\": \"Completed\", \"log_files\": {}, \"log_groups\": [], \"run_duration\": \"1:15:32\"}, \"child_runs\": [{\"run_id\": \"AutoML_8095cb95-3f69-4245-b118-045f8f840148_0\", \"run_number\": 161, \"metric\": null, \"status\": \"Completed\", \"run_type\": \"azureml.scriptrun\", \"training_percent\": \"100\", \"start_time\": \"2020-12-28T11:28:23.19493Z\", \"end_time\": \"2020-12-28T11:29:37.740802Z\", \"created_time\": \"2020-12-28T11:28:11.6284Z\", \"created_time_dt\": \"2020-12-28T11:28:11.6284Z\", \"duration\": \"0:01:26\", \"iteration\": \"0\", \"goal\": \"AUC_weighted_max\", \"run_name\": \"MaxAbsScaler, LightGBM\", \"run_properties\": \"copy=True\", \"primary_metric\": 0.89341814, \"best_metric\": 0.89341814}, {\"run_id\": \"AutoML_8095cb95-3f69-4245-b118-045f8f840148_3\", \"run_number\": 162, \"metric\": null, \"status\": \"Completed\", \"run_type\": \"azureml.scriptrun\", \"training_percent\": \"100\", \"start_time\": \"2020-12-28T11:29:40.375867Z\", \"end_time\": \"2020-12-28T11:30:39.866974Z\", \"created_time\": \"2020-12-28T11:28:11.640413Z\", \"created_time_dt\": \"2020-12-28T11:28:11.640413Z\", \"duration\": \"0:02:28\", \"iteration\": \"3\", \"goal\": \"AUC_weighted_max\", \"run_name\": \"MaxAbsScaler, RandomForest\", \"run_properties\": \"copy=True\", \"primary_metric\": 0.59812135, \"best_metric\": 0.89341814}, {\"run_id\": \"AutoML_8095cb95-3f69-4245-b118-045f8f840148_2\", \"run_number\": 163, \"metric\": null, \"status\": \"Completed\", \"run_type\": \"azureml.scriptrun\", \"training_percent\": \"100\", \"start_time\": \"2020-12-28T11:30:44.596716Z\", \"end_time\": \"2020-12-28T11:31:42.248533Z\", \"created_time\": \"2020-12-28T11:28:11.653843Z\", \"created_time_dt\": \"2020-12-28T11:28:11.653843Z\", \"duration\": \"0:03:30\", \"iteration\": \"2\", \"goal\": \"AUC_weighted_max\", \"run_name\": \"MaxAbsScaler, RandomForest\", \"run_properties\": \"copy=True\", \"primary_metric\": 0.75265705, \"best_metric\": 0.89341814}, {\"run_id\": \"AutoML_8095cb95-3f69-4245-b118-045f8f840148_1\", \"run_number\": 164, \"metric\": null, \"status\": \"Completed\", \"run_type\": \"azureml.scriptrun\", \"training_percent\": \"100\", \"start_time\": \"2020-12-28T11:31:06.703227Z\", \"end_time\": \"2020-12-28T11:35:36.006632Z\", \"created_time\": \"2020-12-28T11:28:11.655954Z\", \"created_time_dt\": \"2020-12-28T11:28:11.655954Z\", \"duration\": \"0:07:24\", \"iteration\": \"1\", \"goal\": \"AUC_weighted_max\", \"run_name\": \"MaxAbsScaler, XGBoostClassifier\", \"run_properties\": \"copy=True\", \"primary_metric\": 0.85548635, \"best_metric\": 0.89341814}, {\"run_id\": \"AutoML_8095cb95-3f69-4245-b118-045f8f840148_4\", \"run_number\": 165, \"metric\": null, \"status\": \"Completed\", \"run_type\": \"azureml.scriptrun\", \"training_percent\": \"100\", \"start_time\": \"2020-12-28T11:31:10.240414Z\", \"end_time\": \"2020-12-28T11:34:53.932655Z\", \"created_time\": \"2020-12-28T11:29:39.900959Z\", \"created_time_dt\": \"2020-12-28T11:29:39.900959Z\", \"duration\": \"0:05:14\", \"iteration\": \"4\", \"goal\": \"AUC_weighted_max\", \"run_name\": \"MaxAbsScaler, RandomForest\", \"run_properties\": \"copy=True\", \"primary_metric\": 0.71755934, \"best_metric\": 0.89341814}, {\"run_id\": \"AutoML_8095cb95-3f69-4245-b118-045f8f840148_5\", \"run_number\": 166, \"metric\": null, \"status\": \"Completed\", \"run_type\": \"azureml.scriptrun\", \"training_percent\": \"100\", \"start_time\": \"2020-12-28T11:31:12.298563Z\", \"end_time\": \"2020-12-28T11:34:57.108203Z\", \"created_time\": \"2020-12-28T11:30:43.023004Z\", \"created_time_dt\": \"2020-12-28T11:30:43.023004Z\", \"duration\": \"0:04:14\", \"iteration\": \"5\", \"goal\": \"AUC_weighted_max\", \"run_name\": \"MaxAbsScaler, ExtremeRandomTrees\", \"run_properties\": \"copy=True\", \"primary_metric\": 0.7840303, \"best_metric\": 0.89341814}, {\"run_id\": \"AutoML_8095cb95-3f69-4245-b118-045f8f840148_6\", \"run_number\": 167, \"metric\": null, \"status\": \"Completed\", \"run_type\": \"azureml.scriptrun\", \"training_percent\": \"100\", \"start_time\": \"2020-12-28T11:31:56.973271Z\", \"end_time\": \"2020-12-28T11:33:06.401525Z\", \"created_time\": \"2020-12-28T11:31:44.920019Z\", \"created_time_dt\": \"2020-12-28T11:31:44.920019Z\", \"duration\": \"0:01:21\", \"iteration\": \"6\", \"goal\": \"AUC_weighted_max\", \"run_name\": \"MaxAbsScaler, ExtremeRandomTrees\", \"run_properties\": \"copy=True\", \"primary_metric\": 0.80878478, \"best_metric\": 0.89341814}, {\"run_id\": \"AutoML_8095cb95-3f69-4245-b118-045f8f840148_7\", \"run_number\": 168, \"metric\": null, \"status\": \"Completed\", \"run_type\": \"azureml.scriptrun\", \"training_percent\": \"100\", \"start_time\": \"2020-12-28T11:33:21.288551Z\", \"end_time\": \"2020-12-28T11:34:15.442937Z\", \"created_time\": \"2020-12-28T11:33:08.927601Z\", \"created_time_dt\": \"2020-12-28T11:33:08.927601Z\", \"duration\": \"0:01:06\", \"iteration\": \"7\", \"goal\": \"AUC_weighted_max\", \"run_name\": \"MaxAbsScaler, ExtremeRandomTrees\", \"run_properties\": \"copy=True\", \"primary_metric\": 0.78838418, \"best_metric\": 0.89341814}, {\"run_id\": \"AutoML_8095cb95-3f69-4245-b118-045f8f840148_8\", \"run_number\": 169, \"metric\": null, \"status\": \"Completed\", \"run_type\": \"azureml.scriptrun\", \"training_percent\": \"100\", \"start_time\": \"2020-12-28T11:34:30.382273Z\", \"end_time\": \"2020-12-28T11:35:28.347219Z\", \"created_time\": \"2020-12-28T11:34:18.370972Z\", \"created_time_dt\": \"2020-12-28T11:34:18.370972Z\", \"duration\": \"0:01:09\", \"iteration\": \"8\", \"goal\": \"AUC_weighted_max\", \"run_name\": \"MaxAbsScaler, RandomForest\", \"run_properties\": \"copy=True\", \"primary_metric\": 0.80253896, \"best_metric\": 0.89341814}, {\"run_id\": \"AutoML_8095cb95-3f69-4245-b118-045f8f840148_9\", \"run_number\": 170, \"metric\": null, \"status\": \"Completed\", \"run_type\": \"azureml.scriptrun\", \"training_percent\": \"100\", \"start_time\": \"2020-12-28T11:35:07.715614Z\", \"end_time\": \"2020-12-28T11:36:08.620279Z\", \"created_time\": \"2020-12-28T11:34:56.200201Z\", \"created_time_dt\": \"2020-12-28T11:34:56.200201Z\", \"duration\": \"0:01:12\", \"iteration\": \"9\", \"goal\": \"AUC_weighted_max\", \"run_name\": \"MaxAbsScaler, ExtremeRandomTrees\", \"run_properties\": \"copy=True\", \"primary_metric\": 0.78118379, \"best_metric\": 0.89341814}, {\"run_id\": \"AutoML_8095cb95-3f69-4245-b118-045f8f840148_10\", \"run_number\": 171, \"metric\": null, \"status\": \"Completed\", \"run_type\": \"azureml.scriptrun\", \"training_percent\": \"100\", \"start_time\": \"2020-12-28T11:35:12.982906Z\", \"end_time\": \"2020-12-28T11:36:05.148294Z\", \"created_time\": \"2020-12-28T11:35:02.191416Z\", \"created_time_dt\": \"2020-12-28T11:35:02.191416Z\", \"duration\": \"0:01:02\", \"iteration\": \"10\", \"goal\": \"AUC_weighted_max\", \"run_name\": \"MaxAbsScaler, RandomForest\", \"run_properties\": \"copy=True\", \"primary_metric\": 0.71958164, \"best_metric\": 0.89341814}, {\"run_id\": \"AutoML_8095cb95-3f69-4245-b118-045f8f840148_11\", \"run_number\": 172, \"metric\": null, \"status\": \"Completed\", \"run_type\": \"azureml.scriptrun\", \"training_percent\": \"100\", \"start_time\": \"2020-12-28T11:35:41.613848Z\", \"end_time\": \"2020-12-28T11:36:35.980007Z\", \"created_time\": \"2020-12-28T11:35:31.262747Z\", \"created_time_dt\": \"2020-12-28T11:35:31.262747Z\", \"duration\": \"0:01:04\", \"iteration\": \"11\", \"goal\": \"AUC_weighted_max\", \"run_name\": \"MaxAbsScaler, RandomForest\", \"run_properties\": \"copy=True\", \"primary_metric\": 0.76772445, \"best_metric\": 0.89341814}, {\"run_id\": \"AutoML_8095cb95-3f69-4245-b118-045f8f840148_12\", \"run_number\": 173, \"metric\": null, \"status\": \"Completed\", \"run_type\": \"azureml.scriptrun\", \"training_percent\": \"100\", \"start_time\": \"2020-12-28T11:35:50.826979Z\", \"end_time\": \"2020-12-28T11:36:47.43585Z\", \"created_time\": \"2020-12-28T11:35:38.769444Z\", \"created_time_dt\": \"2020-12-28T11:35:38.769444Z\", \"duration\": \"0:01:08\", \"iteration\": \"12\", \"goal\": \"AUC_weighted_max\", \"run_name\": \"MaxAbsScaler, RandomForest\", \"run_properties\": \"copy=True\", \"primary_metric\": 0.78089993, \"best_metric\": 0.89341814}, {\"run_id\": \"AutoML_8095cb95-3f69-4245-b118-045f8f840148_13\", \"run_number\": 174, \"metric\": null, \"status\": \"Completed\", \"run_type\": \"azureml.scriptrun\", \"training_percent\": \"100\", \"start_time\": \"2020-12-28T11:36:19.354505Z\", \"end_time\": \"2020-12-28T11:37:23.217838Z\", \"created_time\": \"2020-12-28T11:36:08.49253Z\", \"created_time_dt\": \"2020-12-28T11:36:08.49253Z\", \"duration\": \"0:01:14\", \"iteration\": \"13\", \"goal\": \"AUC_weighted_max\", \"run_name\": \"StandardScalerWrapper, XGBoostClassifier\", \"run_properties\": \"<azureml.automl.runtime.shared.model_wrappers.StandardScalerWrapper object at 0x7f2dad82fc18\", \"primary_metric\": 0.82581657, \"best_metric\": 0.89341814}, {\"run_id\": \"AutoML_8095cb95-3f69-4245-b118-045f8f840148_14\", \"run_number\": 175, \"metric\": null, \"status\": \"Completed\", \"run_type\": \"azureml.scriptrun\", \"training_percent\": \"100\", \"start_time\": \"2020-12-28T11:36:22.567635Z\", \"end_time\": \"2020-12-28T11:37:20.540008Z\", \"created_time\": \"2020-12-28T11:36:12.67259Z\", \"created_time_dt\": \"2020-12-28T11:36:12.67259Z\", \"duration\": \"0:01:07\", \"iteration\": \"14\", \"goal\": \"AUC_weighted_max\", \"run_name\": \"MaxAbsScaler, RandomForest\", \"run_properties\": \"copy=True\", \"primary_metric\": 0.6319186, \"best_metric\": 0.89341814}, {\"run_id\": \"AutoML_8095cb95-3f69-4245-b118-045f8f840148_15\", \"run_number\": 176, \"metric\": null, \"status\": \"Completed\", \"run_type\": \"azureml.scriptrun\", \"training_percent\": \"100\", \"start_time\": \"2020-12-28T11:36:50.043239Z\", \"end_time\": \"2020-12-28T11:37:51.058151Z\", \"created_time\": \"2020-12-28T11:36:39.329208Z\", \"created_time_dt\": \"2020-12-28T11:36:39.329208Z\", \"duration\": \"0:01:11\", \"iteration\": \"15\", \"goal\": \"AUC_weighted_max\", \"run_name\": \"StandardScalerWrapper, ExtremeRandomTrees\", \"run_properties\": \"<azureml.automl.runtime.shared.model_wrappers.StandardScalerWrapper object at 0x7ff438343f98\", \"primary_metric\": 0.76883238, \"best_metric\": 0.89341814}, {\"run_id\": \"AutoML_8095cb95-3f69-4245-b118-045f8f840148_16\", \"run_number\": 177, \"metric\": null, \"status\": \"Completed\", \"run_type\": \"azureml.scriptrun\", \"training_percent\": \"100\", \"start_time\": \"2020-12-28T11:37:01.432458Z\", \"end_time\": \"2020-12-28T11:37:56.597942Z\", \"created_time\": \"2020-12-28T11:36:50.315008Z\", \"created_time_dt\": \"2020-12-28T11:36:50.315008Z\", \"duration\": \"0:01:06\", \"iteration\": \"16\", \"goal\": \"AUC_weighted_max\", \"run_name\": \"MaxAbsScaler, ExtremeRandomTrees\", \"run_properties\": \"copy=True\", \"primary_metric\": 0.76633015, \"best_metric\": 0.89341814}, {\"run_id\": \"AutoML_8095cb95-3f69-4245-b118-045f8f840148_17\", \"run_number\": 178, \"metric\": null, \"status\": \"Completed\", \"run_type\": \"azureml.scriptrun\", \"training_percent\": \"100\", \"start_time\": \"2020-12-28T11:37:35.39915Z\", \"end_time\": \"2020-12-28T11:38:37.707063Z\", \"created_time\": \"2020-12-28T11:37:23.473314Z\", \"created_time_dt\": \"2020-12-28T11:37:23.473314Z\", \"duration\": \"0:01:14\", \"iteration\": \"17\", \"goal\": \"AUC_weighted_max\", \"run_name\": \"MaxAbsScaler, ExtremeRandomTrees\", \"run_properties\": \"copy=True\", \"primary_metric\": 0.67851343, \"best_metric\": 0.89341814}, {\"run_id\": \"AutoML_8095cb95-3f69-4245-b118-045f8f840148_18\", \"run_number\": 179, \"metric\": null, \"status\": \"Completed\", \"run_type\": \"azureml.scriptrun\", \"training_percent\": \"100\", \"start_time\": \"2020-12-28T11:37:42.511759Z\", \"end_time\": \"2020-12-28T11:38:54.810461Z\", \"created_time\": \"2020-12-28T11:37:28.828253Z\", \"created_time_dt\": \"2020-12-28T11:37:28.828253Z\", \"duration\": \"0:01:25\", \"iteration\": \"18\", \"goal\": \"AUC_weighted_max\", \"run_name\": \"MaxAbsScaler, RandomForest\", \"run_properties\": \"copy=True\", \"primary_metric\": 0.69300808, \"best_metric\": 0.89341814}, {\"run_id\": \"AutoML_8095cb95-3f69-4245-b118-045f8f840148_19\", \"run_number\": 180, \"metric\": null, \"status\": \"Completed\", \"run_type\": \"azureml.scriptrun\", \"training_percent\": \"100\", \"start_time\": \"2020-12-28T11:38:04.140202Z\", \"end_time\": \"2020-12-28T11:43:46.775322Z\", \"created_time\": \"2020-12-28T11:37:53.336916Z\", \"created_time_dt\": \"2020-12-28T11:37:53.336916Z\", \"duration\": \"0:05:53\", \"iteration\": \"19\", \"goal\": \"AUC_weighted_max\", \"run_name\": \"SparseNormalizer, XGBoostClassifier\", \"run_properties\": \"<azureml.automl.runtime.shared.model_wrappers.SparseNormalizer object at 0x7f28d33c4fd0\", \"primary_metric\": 0.89759903, \"best_metric\": 0.89759903}, {\"run_id\": \"AutoML_8095cb95-3f69-4245-b118-045f8f840148_20\", \"run_number\": 181, \"metric\": null, \"status\": \"Completed\", \"run_type\": \"azureml.scriptrun\", \"training_percent\": \"100\", \"start_time\": \"2020-12-28T11:38:08.185863Z\", \"end_time\": \"2020-12-28T11:39:43.580416Z\", \"created_time\": \"2020-12-28T11:37:58.854509Z\", \"created_time_dt\": \"2020-12-28T11:37:58.854509Z\", \"duration\": \"0:01:44\", \"iteration\": \"20\", \"goal\": \"AUC_weighted_max\", \"run_name\": \"StandardScalerWrapper, LightGBM\", \"run_properties\": \"<azureml.automl.runtime.shared.model_wrappers.StandardScalerWrapper object at 0x7fef0578e048\", \"primary_metric\": 0.87691952, \"best_metric\": 0.89759903}, {\"run_id\": \"AutoML_8095cb95-3f69-4245-b118-045f8f840148_21\", \"run_number\": 182, \"metric\": null, \"status\": \"Completed\", \"run_type\": \"azureml.scriptrun\", \"training_percent\": \"100\", \"start_time\": \"2020-12-28T11:38:50.90528Z\", \"end_time\": \"2020-12-28T11:39:52.521323Z\", \"created_time\": \"2020-12-28T11:38:39.496237Z\", \"created_time_dt\": \"2020-12-28T11:38:39.496237Z\", \"duration\": \"0:01:13\", \"iteration\": \"21\", \"goal\": \"AUC_weighted_max\", \"run_name\": \"MaxAbsScaler, LightGBM\", \"run_properties\": \"copy=True\", \"primary_metric\": 0.83993525, \"best_metric\": 0.89759903}, {\"run_id\": \"AutoML_8095cb95-3f69-4245-b118-045f8f840148_22\", \"run_number\": 183, \"metric\": null, \"status\": \"Completed\", \"run_type\": \"azureml.scriptrun\", \"training_percent\": \"100\", \"start_time\": \"2020-12-28T11:39:07.023677Z\", \"end_time\": \"2020-12-28T11:40:03.468986Z\", \"created_time\": \"2020-12-28T11:38:56.7358Z\", \"created_time_dt\": \"2020-12-28T11:38:56.7358Z\", \"duration\": \"0:01:06\", \"iteration\": \"22\", \"goal\": \"AUC_weighted_max\", \"run_name\": \"MaxAbsScaler, LightGBM\", \"run_properties\": \"copy=True\", \"primary_metric\": 0.84874945, \"best_metric\": 0.89759903}, {\"run_id\": \"AutoML_8095cb95-3f69-4245-b118-045f8f840148_23\", \"run_number\": 184, \"metric\": null, \"status\": \"Completed\", \"run_type\": \"azureml.scriptrun\", \"training_percent\": \"100\", \"start_time\": \"2020-12-28T11:39:55.254981Z\", \"end_time\": \"2020-12-28T11:40:50.8042Z\", \"created_time\": \"2020-12-28T11:39:45.296616Z\", \"created_time_dt\": \"2020-12-28T11:39:45.296616Z\", \"duration\": \"0:01:05\", \"iteration\": \"23\", \"goal\": \"AUC_weighted_max\", \"run_name\": \"MaxAbsScaler, LightGBM\", \"run_properties\": \"copy=True\", \"primary_metric\": 0.80064565, \"best_metric\": 0.89759903}, {\"run_id\": \"AutoML_8095cb95-3f69-4245-b118-045f8f840148_24\", \"run_number\": 185, \"metric\": null, \"status\": \"Completed\", \"run_type\": \"azureml.scriptrun\", \"training_percent\": \"100\", \"start_time\": \"2020-12-28T11:40:07.143806Z\", \"end_time\": \"2020-12-28T11:41:12.484635Z\", \"created_time\": \"2020-12-28T11:39:54.608044Z\", \"created_time_dt\": \"2020-12-28T11:39:54.608044Z\", \"duration\": \"0:01:17\", \"iteration\": \"24\", \"goal\": \"AUC_weighted_max\", \"run_name\": \"StandardScalerWrapper, LightGBM\", \"run_properties\": \"<azureml.automl.runtime.shared.model_wrappers.StandardScalerWrapper object at 0x7fcc274cb588\", \"primary_metric\": 0.84209184, \"best_metric\": 0.89759903}, {\"run_id\": \"AutoML_8095cb95-3f69-4245-b118-045f8f840148_25\", \"run_number\": 186, \"metric\": null, \"status\": \"Completed\", \"run_type\": \"azureml.scriptrun\", \"training_percent\": \"100\", \"start_time\": \"2020-12-28T11:40:20.285212Z\", \"end_time\": \"2020-12-28T11:41:17.818318Z\", \"created_time\": \"2020-12-28T11:40:07.587879Z\", \"created_time_dt\": \"2020-12-28T11:40:07.587879Z\", \"duration\": \"0:01:10\", \"iteration\": \"25\", \"goal\": \"AUC_weighted_max\", \"run_name\": \"MaxAbsScaler, LightGBM\", \"run_properties\": \"copy=True\", \"primary_metric\": 0.81044389, \"best_metric\": 0.89759903}, {\"run_id\": \"AutoML_8095cb95-3f69-4245-b118-045f8f840148_26\", \"run_number\": 187, \"metric\": null, \"status\": \"Completed\", \"run_type\": \"azureml.scriptrun\", \"training_percent\": \"100\", \"start_time\": \"2020-12-28T11:41:04.764812Z\", \"end_time\": \"2020-12-28T11:43:57.532196Z\", \"created_time\": \"2020-12-28T11:40:52.491318Z\", \"created_time_dt\": \"2020-12-28T11:40:52.491318Z\", \"duration\": \"0:03:05\", \"iteration\": \"26\", \"goal\": \"AUC_weighted_max\", \"run_name\": \"SparseNormalizer, XGBoostClassifier\", \"run_properties\": \"<azureml.automl.runtime.shared.model_wrappers.SparseNormalizer object at 0x7f7a1a940ef0\", \"primary_metric\": 0.89615122, \"best_metric\": 0.89759903}, {\"run_id\": \"AutoML_8095cb95-3f69-4245-b118-045f8f840148_27\", \"run_number\": 188, \"metric\": null, \"status\": \"Completed\", \"run_type\": \"azureml.scriptrun\", \"training_percent\": \"100\", \"start_time\": \"2020-12-28T11:41:24.212759Z\", \"end_time\": \"2020-12-28T11:43:10.682177Z\", \"created_time\": \"2020-12-28T11:41:14.578944Z\", \"created_time_dt\": \"2020-12-28T11:41:14.578944Z\", \"duration\": \"0:01:56\", \"iteration\": \"27\", \"goal\": \"AUC_weighted_max\", \"run_name\": \"StandardScalerWrapper, LogisticRegression\", \"run_properties\": \"<azureml.automl.runtime.shared.model_wrappers.StandardScalerWrapper object at 0x7f36c62f3dd8\", \"primary_metric\": 0.85776388, \"best_metric\": 0.89759903}, {\"run_id\": \"AutoML_8095cb95-3f69-4245-b118-045f8f840148_28\", \"run_number\": 189, \"metric\": null, \"status\": \"Completed\", \"run_type\": \"azureml.scriptrun\", \"training_percent\": \"100\", \"start_time\": \"2020-12-28T11:41:28.990854Z\", \"end_time\": \"2020-12-28T11:43:03.915561Z\", \"created_time\": \"2020-12-28T11:41:19.487966Z\", \"created_time_dt\": \"2020-12-28T11:41:19.487966Z\", \"duration\": \"0:01:44\", \"iteration\": \"28\", \"goal\": \"AUC_weighted_max\", \"run_name\": \"TruncatedSVDWrapper, XGBoostClassifier\", \"run_properties\": \"n_components=0.8510526315789474, random_state=None\", \"primary_metric\": 0.84634897, \"best_metric\": 0.89759903}, {\"run_id\": \"AutoML_8095cb95-3f69-4245-b118-045f8f840148_29\", \"run_number\": 190, \"metric\": null, \"status\": \"Completed\", \"run_type\": \"azureml.scriptrun\", \"training_percent\": \"100\", \"start_time\": \"2020-12-28T11:43:17.644871Z\", \"end_time\": \"2020-12-28T12:03:35.627562Z\", \"created_time\": \"2020-12-28T11:43:06.128528Z\", \"created_time_dt\": \"2020-12-28T11:43:06.128528Z\", \"duration\": \"0:20:29\", \"iteration\": \"29\", \"goal\": \"AUC_weighted_max\", \"run_name\": \"StandardScalerWrapper, LogisticRegression\", \"run_properties\": \"<azureml.automl.runtime.shared.model_wrappers.StandardScalerWrapper object at 0x7f3cb4b5d9e8\", \"primary_metric\": 0.85052265, \"best_metric\": 0.89759903}, {\"run_id\": \"AutoML_8095cb95-3f69-4245-b118-045f8f840148_30\", \"run_number\": 191, \"metric\": null, \"status\": \"Completed\", \"run_type\": \"azureml.scriptrun\", \"training_percent\": \"100\", \"start_time\": \"2020-12-28T11:43:25.678582Z\", \"end_time\": \"2020-12-28T11:44:27.639592Z\", \"created_time\": \"2020-12-28T11:43:13.502244Z\", \"created_time_dt\": \"2020-12-28T11:43:13.502244Z\", \"duration\": \"0:01:14\", \"iteration\": \"30\", \"goal\": \"AUC_weighted_max\", \"run_name\": \"MaxAbsScaler, LightGBM\", \"run_properties\": \"copy=True\", \"primary_metric\": 0.8114453, \"best_metric\": 0.89759903}, {\"run_id\": \"AutoML_8095cb95-3f69-4245-b118-045f8f840148_31\", \"run_number\": 192, \"metric\": null, \"status\": \"Completed\", \"run_type\": \"azureml.scriptrun\", \"training_percent\": \"100\", \"start_time\": \"2020-12-28T11:44:01.287564Z\", \"end_time\": \"2020-12-28T11:45:03.683856Z\", \"created_time\": \"2020-12-28T11:43:48.986591Z\", \"created_time_dt\": \"2020-12-28T11:43:48.986591Z\", \"duration\": \"0:01:14\", \"iteration\": \"31\", \"goal\": \"AUC_weighted_max\", \"run_name\": \"MaxAbsScaler, LightGBM\", \"run_properties\": \"copy=True\", \"primary_metric\": 0.8029475, \"best_metric\": 0.89759903}, {\"run_id\": \"AutoML_8095cb95-3f69-4245-b118-045f8f840148_32\", \"run_number\": 193, \"metric\": null, \"status\": \"Completed\", \"run_type\": \"azureml.scriptrun\", \"training_percent\": \"100\", \"start_time\": \"2020-12-28T11:44:13.652958Z\", \"end_time\": \"2020-12-28T11:45:34.215667Z\", \"created_time\": \"2020-12-28T11:43:59.457935Z\", \"created_time_dt\": \"2020-12-28T11:43:59.457935Z\", \"duration\": \"0:01:34\", \"iteration\": \"32\", \"goal\": \"AUC_weighted_max\", \"run_name\": \"StandardScalerWrapper, XGBoostClassifier\", \"run_properties\": \"<azureml.automl.runtime.shared.model_wrappers.StandardScalerWrapper object at 0x7f5101fdeb38\", \"primary_metric\": 0.87422357, \"best_metric\": 0.89759903}, {\"run_id\": \"AutoML_8095cb95-3f69-4245-b118-045f8f840148_33\", \"run_number\": 194, \"metric\": null, \"status\": \"Completed\", \"run_type\": \"azureml.scriptrun\", \"training_percent\": \"100\", \"start_time\": \"2020-12-28T11:44:41.376074Z\", \"end_time\": \"2020-12-28T12:15:08.304934Z\", \"created_time\": \"2020-12-28T11:44:30.282487Z\", \"created_time_dt\": \"2020-12-28T11:44:30.282487Z\", \"duration\": \"0:30:38\", \"iteration\": \"33\", \"goal\": \"AUC_weighted_max\", \"run_name\": \"StandardScalerWrapper, LogisticRegression\", \"run_properties\": \"<azureml.automl.runtime.shared.model_wrappers.StandardScalerWrapper object at 0x7f79ae86f860\", \"primary_metric\": 0.85943266, \"best_metric\": 0.89759903}, {\"run_id\": \"AutoML_8095cb95-3f69-4245-b118-045f8f840148_34\", \"run_number\": 195, \"metric\": null, \"status\": \"Completed\", \"run_type\": \"azureml.scriptrun\", \"training_percent\": \"100\", \"start_time\": \"2020-12-28T11:45:19.345339Z\", \"end_time\": \"2020-12-28T11:51:57.614339Z\", \"created_time\": \"2020-12-28T11:45:06.813113Z\", \"created_time_dt\": \"2020-12-28T11:45:06.813113Z\", \"duration\": \"0:06:50\", \"iteration\": \"34\", \"goal\": \"AUC_weighted_max\", \"run_name\": \"StandardScalerWrapper, XGBoostClassifier\", \"run_properties\": \"<azureml.automl.runtime.shared.model_wrappers.StandardScalerWrapper object at 0x7f204a4819e8\", \"primary_metric\": 0.91060638, \"best_metric\": 0.91060638}, {\"run_id\": \"AutoML_8095cb95-3f69-4245-b118-045f8f840148_35\", \"run_number\": 196, \"metric\": null, \"status\": \"Completed\", \"run_type\": \"azureml.scriptrun\", \"training_percent\": \"100\", \"start_time\": \"2020-12-28T11:45:47.249329Z\", \"end_time\": \"2020-12-28T11:48:49.717613Z\", \"created_time\": \"2020-12-28T11:45:37.217454Z\", \"created_time_dt\": \"2020-12-28T11:45:37.217454Z\", \"duration\": \"0:03:12\", \"iteration\": \"35\", \"goal\": \"AUC_weighted_max\", \"run_name\": \"TruncatedSVDWrapper, XGBoostClassifier\", \"run_properties\": \"n_components=0.20789473684210527, random_state=None\", \"primary_metric\": 0.84878666, \"best_metric\": 0.91060638}, {\"run_id\": \"AutoML_8095cb95-3f69-4245-b118-045f8f840148_36\", \"run_number\": 197, \"metric\": null, \"status\": \"Completed\", \"run_type\": \"azureml.scriptrun\", \"training_percent\": \"100\", \"start_time\": \"2020-12-28T11:49:02.925373Z\", \"end_time\": \"2020-12-28T11:51:28.359351Z\", \"created_time\": \"2020-12-28T11:48:52.85107Z\", \"created_time_dt\": \"2020-12-28T11:48:52.85107Z\", \"duration\": \"0:02:35\", \"iteration\": \"36\", \"goal\": \"AUC_weighted_max\", \"run_name\": \"SparseNormalizer, LightGBM\", \"run_properties\": \"<azureml.automl.runtime.shared.model_wrappers.SparseNormalizer object at 0x7fce7043fc50\", \"primary_metric\": 0.87454472, \"best_metric\": 0.91060638}, {\"run_id\": \"AutoML_8095cb95-3f69-4245-b118-045f8f840148_37\", \"run_number\": 204, \"metric\": null, \"status\": \"Completed\", \"run_type\": \"azureml.scriptrun\", \"training_percent\": \"100\", \"start_time\": \"2020-12-28T11:58:40.389375Z\", \"end_time\": \"2020-12-28T12:01:40.123104Z\", \"created_time\": \"2020-12-28T11:51:31.189348Z\", \"created_time_dt\": \"2020-12-28T11:51:31.189348Z\", \"duration\": \"0:10:08\", \"iteration\": \"37\", \"goal\": \"AUC_weighted_max\", \"run_name\": \"SparseNormalizer, XGBoostClassifier\", \"run_properties\": \"<azureml.automl.runtime.shared.model_wrappers.SparseNormalizer object at 0x7f543fb71860\", \"primary_metric\": 0.89765562, \"best_metric\": 0.91060638}, {\"run_id\": \"AutoML_8095cb95-3f69-4245-b118-045f8f840148_38\", \"run_number\": 205, \"metric\": null, \"status\": \"Completed\", \"run_type\": \"azureml.scriptrun\", \"training_percent\": \"100\", \"start_time\": \"2020-12-28T11:59:33.859156Z\", \"end_time\": \"2020-12-28T12:14:28.680666Z\", \"created_time\": \"2020-12-28T11:51:59.776564Z\", \"created_time_dt\": \"2020-12-28T11:51:59.776564Z\", \"duration\": \"0:22:28\", \"iteration\": \"38\", \"goal\": \"AUC_weighted_max\", \"run_name\": \"SparseNormalizer, XGBoostClassifier\", \"run_properties\": \"<azureml.automl.runtime.shared.model_wrappers.SparseNormalizer object at 0x7fe4fef9db70\", \"primary_metric\": 0.90052332, \"best_metric\": 0.91060638}, {\"run_id\": \"AutoML_8095cb95-3f69-4245-b118-045f8f840148_39\", \"run_number\": 210, \"metric\": null, \"status\": \"Completed\", \"run_type\": \"azureml.scriptrun\", \"training_percent\": \"100\", \"start_time\": \"2020-12-28T12:14:19.521263Z\", \"end_time\": \"2020-12-28T12:16:32.243277Z\", \"created_time\": \"2020-12-28T12:01:42.465032Z\", \"created_time_dt\": \"2020-12-28T12:01:42.465032Z\", \"duration\": \"0:14:49\", \"iteration\": \"39\", \"goal\": \"AUC_weighted_max\", \"run_name\": \"SparseNormalizer, XGBoostClassifier\", \"run_properties\": \"<azureml.automl.runtime.shared.model_wrappers.SparseNormalizer object at 0x7f49e9aa8128\", \"primary_metric\": 0.859248, \"best_metric\": 0.91060638}, {\"run_id\": \"AutoML_8095cb95-3f69-4245-b118-045f8f840148_40\", \"run_number\": 211, \"metric\": null, \"status\": \"Completed\", \"run_type\": \"azureml.scriptrun\", \"training_percent\": \"100\", \"start_time\": \"2020-12-28T12:14:52.965602Z\", \"end_time\": \"2020-12-28T12:15:57.603669Z\", \"created_time\": \"2020-12-28T12:03:38.86058Z\", \"created_time_dt\": \"2020-12-28T12:03:38.86058Z\", \"duration\": \"0:12:18\", \"iteration\": \"40\", \"goal\": \"AUC_weighted_max\", \"run_name\": \"SparseNormalizer, XGBoostClassifier\", \"run_properties\": \"<azureml.automl.runtime.shared.model_wrappers.SparseNormalizer object at 0x7f8c32c57a90\", \"primary_metric\": 0.5, \"best_metric\": 0.91060638}, {\"run_id\": \"AutoML_8095cb95-3f69-4245-b118-045f8f840148_41\", \"run_number\": 214, \"metric\": null, \"status\": \"Canceled\", \"run_type\": \"azureml.scriptrun\", \"training_percent\": \"100\", \"start_time\": \"2020-12-28T12:17:01.060429Z\", \"end_time\": \"2020-12-28T12:28:34.965915Z\", \"created_time\": \"2020-12-28T12:14:31.357367Z\", \"created_time_dt\": \"2020-12-28T12:14:31.357367Z\", \"duration\": \"0:14:03\", \"iteration\": \"41\", \"goal\": \"AUC_weighted_max\", \"run_name\": \"SparseNormalizer, XGBoostClassifier\", \"run_properties\": \"<azureml.automl.runtime.shared.model_wrappers.SparseNormalizer object at 0x7f4e9a1161d0\", \"primary_metric\": 0.89191465, \"best_metric\": 0.91060638}, {\"run_id\": \"AutoML_8095cb95-3f69-4245-b118-045f8f840148_42\", \"run_number\": 215, \"metric\": null, \"status\": \"Completed\", \"run_type\": \"azureml.scriptrun\", \"training_percent\": \"100\", \"start_time\": \"2020-12-28T12:18:35.202633Z\", \"end_time\": \"2020-12-28T12:21:06.122022Z\", \"created_time\": \"2020-12-28T12:15:10.994588Z\", \"created_time_dt\": \"2020-12-28T12:15:10.994588Z\", \"duration\": \"0:05:55\", \"iteration\": \"42\", \"goal\": \"AUC_weighted_max\", \"run_name\": \"SparseNormalizer, XGBoostClassifier\", \"run_properties\": \"<azureml.automl.runtime.shared.model_wrappers.SparseNormalizer object at 0x7fa3068c8eb8\", \"primary_metric\": 0.85520539, \"best_metric\": 0.91060638}, {\"run_id\": \"AutoML_8095cb95-3f69-4245-b118-045f8f840148_43\", \"run_number\": 216, \"metric\": null, \"status\": \"Canceled\", \"run_type\": \"azureml.scriptrun\", \"training_percent\": \"100\", \"start_time\": \"2020-12-28T12:19:14.568183Z\", \"end_time\": \"2020-12-28T12:28:42.415811Z\", \"created_time\": \"2020-12-28T12:16:00.297291Z\", \"created_time_dt\": \"2020-12-28T12:16:00.297291Z\", \"duration\": \"0:12:42\", \"iteration\": \"43\", \"goal\": null, \"run_name\": \"SparseNormalizer, XGBoostClassifier\", \"run_properties\": null}, {\"run_id\": \"AutoML_8095cb95-3f69-4245-b118-045f8f840148_44\", \"run_number\": 217, \"metric\": null, \"status\": \"Completed\", \"run_type\": \"azureml.scriptrun\", \"training_percent\": \"100\", \"start_time\": \"2020-12-28T12:20:46.211315Z\", \"end_time\": \"2020-12-28T12:23:48.260894Z\", \"created_time\": \"2020-12-28T12:16:34.852121Z\", \"created_time_dt\": \"2020-12-28T12:16:34.852121Z\", \"duration\": \"0:07:13\", \"iteration\": \"44\", \"goal\": \"AUC_weighted_max\", \"run_name\": \"SparseNormalizer, XGBoostClassifier\", \"run_properties\": \"<azureml.automl.runtime.shared.model_wrappers.SparseNormalizer object at 0x7ff57c162c88\", \"primary_metric\": 0.89847305, \"best_metric\": 0.91060638}, {\"run_id\": \"AutoML_8095cb95-3f69-4245-b118-045f8f840148_45\", \"run_number\": 220, \"metric\": null, \"status\": \"Completed\", \"run_type\": \"azureml.scriptrun\", \"training_percent\": \"100\", \"start_time\": \"2020-12-28T12:23:52.536444Z\", \"end_time\": \"2020-12-28T12:26:44.951586Z\", \"created_time\": \"2020-12-28T12:21:11.322199Z\", \"created_time_dt\": \"2020-12-28T12:21:11.322199Z\", \"duration\": \"0:05:33\", \"iteration\": \"45\", \"goal\": \"AUC_weighted_max\", \"run_name\": \"SparseNormalizer, XGBoostClassifier\", \"run_properties\": \"<azureml.automl.runtime.shared.model_wrappers.SparseNormalizer object at 0x7f0cea275cf8\", \"primary_metric\": 0.8732414, \"best_metric\": 0.91060638}, {\"run_id\": \"AutoML_8095cb95-3f69-4245-b118-045f8f840148_46\", \"run_number\": 221, \"metric\": null, \"status\": \"Canceled\", \"run_type\": \"azureml.scriptrun\", \"training_percent\": \"100\", \"start_time\": \"2020-12-28T12:26:30.149544Z\", \"end_time\": \"2020-12-28T12:28:39.337856Z\", \"created_time\": \"2020-12-28T12:23:50.263837Z\", \"created_time_dt\": \"2020-12-28T12:23:50.263837Z\", \"duration\": \"0:04:49\", \"iteration\": \"46\", \"goal\": null, \"run_name\": \"SparseNormalizer, XGBoostClassifier\", \"run_properties\": null}, {\"run_id\": \"AutoML_8095cb95-3f69-4245-b118-045f8f840148_47\", \"run_number\": 222, \"metric\": null, \"status\": \"Completed\", \"run_type\": \"azureml.scriptrun\", \"training_percent\": \"100\", \"start_time\": \"2020-12-28T12:27:02.750777Z\", \"end_time\": \"2020-12-28T12:28:27.354888Z\", \"created_time\": \"2020-12-28T12:26:48.088598Z\", \"created_time_dt\": \"2020-12-28T12:26:48.088598Z\", \"duration\": \"0:01:39\", \"iteration\": \"47\", \"goal\": \"AUC_weighted_max\", \"run_name\": \"SparseNormalizer, XGBoostClassifier\", \"run_properties\": \"<azureml.automl.runtime.shared.model_wrappers.SparseNormalizer object at 0x7f0714891828\", \"primary_metric\": 0.83154602, \"best_metric\": 0.91060638}, {\"run_id\": \"AutoML_8095cb95-3f69-4245-b118-045f8f840148_48\", \"run_number\": 223, \"metric\": null, \"status\": \"Completed\", \"run_type\": \"azureml.scriptrun\", \"training_percent\": \"100\", \"start_time\": \"2020-12-28T12:28:54.780528Z\", \"end_time\": \"2020-12-28T12:32:14.490653Z\", \"created_time\": \"2020-12-28T12:28:43.12338Z\", \"created_time_dt\": \"2020-12-28T12:28:43.12338Z\", \"duration\": \"0:03:31\", \"iteration\": \"48\", \"goal\": \"AUC_weighted_max\", \"run_name\": \"VotingEnsemble\", \"run_properties\": \"classification_labels=None,\\n                              estimators=[('34',\\n                                           Pipeline(memory=None,\\n                                                    steps=[('standardscalerwrapper',\\n                                                            <azureml.automl.runtime.shared.model_wrappers.StandardScalerWrapper object at 0x7f22719b3cc0>\", \"primary_metric\": 0.91080358, \"best_metric\": 0.91080358}, {\"run_id\": \"AutoML_8095cb95-3f69-4245-b118-045f8f840148_49\", \"run_number\": 224, \"metric\": null, \"status\": \"Completed\", \"run_type\": \"azureml.scriptrun\", \"training_percent\": \"100\", \"start_time\": \"2020-12-28T12:28:53.590697Z\", \"end_time\": \"2020-12-28T12:33:54.390211Z\", \"created_time\": \"2020-12-28T12:28:43.158125Z\", \"created_time_dt\": \"2020-12-28T12:28:43.158125Z\", \"duration\": \"0:05:11\", \"iteration\": \"49\", \"goal\": \"AUC_weighted_max\", \"run_name\": \"StackEnsemble\", \"run_properties\": \"base_learners=[('34',\\n                                        Pipeline(memory=None,\\n                                                 steps=[('standardscalerwrapper',\\n                                                         <azureml.automl.runtime.shared.model_wrappers.StandardScalerWrapper object at 0x7f61ad2f3588>\", \"primary_metric\": 0.90953651, \"best_metric\": 0.91080358}], \"children_metrics\": {\"categories\": [0], \"series\": {\"precision_score_weighted\": [{\"categories\": [\"0\", \"1\", \"2\", \"3\", \"4\", \"5\", \"6\", \"7\", \"8\", \"9\", \"10\", \"11\", \"12\", \"13\", \"14\", \"15\", \"16\", \"17\", \"18\", \"19\", \"20\", \"21\", \"22\", \"23\", \"24\", \"25\", \"26\", \"27\", \"28\", \"29\", \"30\", \"31\", \"32\", \"33\", \"34\", \"35\", \"36\", \"37\", \"38\", \"39\", \"40\", \"41\", \"42\", \"44\", \"45\", \"47\", \"48\", \"49\"], \"mode\": \"markers\", \"name\": \"precision_score_weighted\", \"stepped\": false, \"type\": \"scatter\", \"data\": [0.7851732593822058, 0.761341377214074, 0.6484730742984852, 0.5525316291052124, 0.661100055364903, 0.6662886369619742, 0.6865472518165164, 0.6774548865098825, 0.6910281206002349, 0.7270947867982995, 0.6320803978059266, 0.6955151726979664, 0.70303165791494, 0.7536725359289841, 0.42139244134851195, 0.6658723608358551, 0.7244386601854266, 0.6089164354729305, 0.6289746411604483, 0.7922781656881459, 0.7685225107585169, 0.7041320459537994, 0.7523175685176701, 0.7023608873572877, 0.7241120281618337, 0.6947280299592435, 0.7912655666321674, 0.7576269696239609, 0.7610843624576028, 0.7657232666933034, 0.6944727331924437, 0.6949963165956955, 0.7796345814356752, 0.7361475709143269, 0.8035127950496302, 0.7580330317793466, 0.76911362772973, 0.7946601673035746, 0.793680361562939, 0.7666484517479638, 0.29496861799816343, 0.7906485626853152, 0.7607002430013631, 0.7976290524964899, 0.7814185211655696, 0.7464537540288925, 0.8045829114509792, 0.8036082431748771]}, {\"categories\": [\"0\", \"1\", \"2\", \"3\", \"4\", \"5\", \"6\", \"7\", \"8\", \"9\", \"10\", \"11\", \"12\", \"13\", \"14\", \"15\", \"16\", \"17\", \"18\", \"19\", \"20\", \"21\", \"22\", \"23\", \"24\", \"25\", \"26\", \"27\", \"28\", \"29\", \"30\", \"31\", \"32\", \"33\", \"34\", \"35\", \"36\", \"37\", \"38\", \"39\", \"40\", \"41\", \"42\", \"44\", \"45\", \"47\", \"48\", \"49\"], \"mode\": \"lines\", \"name\": \"precision_score_weighted_max\", \"stepped\": true, \"type\": \"scatter\", \"data\": [0.7851732593822058, 0.7851732593822058, 0.7851732593822058, 0.7851732593822058, 0.7851732593822058, 0.7851732593822058, 0.7851732593822058, 0.7851732593822058, 0.7851732593822058, 0.7851732593822058, 0.7851732593822058, 0.7851732593822058, 0.7851732593822058, 0.7851732593822058, 0.7851732593822058, 0.7851732593822058, 0.7851732593822058, 0.7851732593822058, 0.7851732593822058, 0.7922781656881459, 0.7922781656881459, 0.7922781656881459, 0.7922781656881459, 0.7922781656881459, 0.7922781656881459, 0.7922781656881459, 0.7922781656881459, 0.7922781656881459, 0.7922781656881459, 0.7922781656881459, 0.7922781656881459, 0.7922781656881459, 0.7922781656881459, 0.7922781656881459, 0.8035127950496302, 0.8035127950496302, 0.8035127950496302, 0.8035127950496302, 0.8035127950496302, 0.8035127950496302, 0.8035127950496302, 0.8035127950496302, 0.8035127950496302, 0.8035127950496302, 0.8035127950496302, 0.8035127950496302, 0.8045829114509792, 0.8045829114509792]}], \"AUC_weighted\": [{\"categories\": [\"0\", \"1\", \"2\", \"3\", \"4\", \"5\", \"6\", \"7\", \"8\", \"9\", \"10\", \"11\", \"12\", \"13\", \"14\", \"15\", \"16\", \"17\", \"18\", \"19\", \"20\", \"21\", \"22\", \"23\", \"24\", \"25\", \"26\", \"27\", \"28\", \"29\", \"30\", \"31\", \"32\", \"33\", \"34\", \"35\", \"36\", \"37\", \"38\", \"39\", \"40\", \"41\", \"42\", \"44\", \"45\", \"47\", \"48\", \"49\"], \"mode\": \"markers\", \"name\": \"AUC_weighted\", \"stepped\": false, \"type\": \"scatter\", \"data\": [0.8934181440855354, 0.8554863479715831, 0.7526570520898299, 0.5981213464373357, 0.7175593366969008, 0.7840303014762613, 0.8087847813674643, 0.7883841774887353, 0.8025389574067606, 0.7811837910805703, 0.7195816391258368, 0.7677244463233777, 0.7808999258854711, 0.8258165684450884, 0.6319185987271342, 0.7688323828097525, 0.7663301530105068, 0.6785134346431203, 0.6930080840729391, 0.8975990289514547, 0.8769195157317914, 0.8399352511015469, 0.8487494508045934, 0.8006456524136465, 0.8420918411688123, 0.8104438889174576, 0.8961512195734752, 0.8577638751828451, 0.8463489744241667, 0.8505226512500045, 0.8114453004079323, 0.8029474969918917, 0.8742235694450543, 0.8594326621019969, 0.9106063787590998, 0.848786662380734, 0.8745447222922133, 0.8976556224262394, 0.9005233234487804, 0.8592480016637404, 0.5, 0.8919146483062512, 0.8552053865948676, 0.898473051038548, 0.8732413998604595, 0.8315460169083838, 0.9108035788618395, 0.9095365147416041]}, {\"categories\": [\"0\", \"1\", \"2\", \"3\", \"4\", \"5\", \"6\", \"7\", \"8\", \"9\", \"10\", \"11\", \"12\", \"13\", \"14\", \"15\", \"16\", \"17\", \"18\", \"19\", \"20\", \"21\", \"22\", \"23\", \"24\", \"25\", \"26\", \"27\", \"28\", \"29\", \"30\", \"31\", \"32\", \"33\", \"34\", \"35\", \"36\", \"37\", \"38\", \"39\", \"40\", \"41\", \"42\", \"44\", \"45\", \"47\", \"48\", \"49\"], \"mode\": \"lines\", \"name\": \"AUC_weighted_max\", \"stepped\": true, \"type\": \"scatter\", \"data\": [0.8934181440855354, 0.8934181440855354, 0.8934181440855354, 0.8934181440855354, 0.8934181440855354, 0.8934181440855354, 0.8934181440855354, 0.8934181440855354, 0.8934181440855354, 0.8934181440855354, 0.8934181440855354, 0.8934181440855354, 0.8934181440855354, 0.8934181440855354, 0.8934181440855354, 0.8934181440855354, 0.8934181440855354, 0.8934181440855354, 0.8934181440855354, 0.8975990289514547, 0.8975990289514547, 0.8975990289514547, 0.8975990289514547, 0.8975990289514547, 0.8975990289514547, 0.8975990289514547, 0.8975990289514547, 0.8975990289514547, 0.8975990289514547, 0.8975990289514547, 0.8975990289514547, 0.8975990289514547, 0.8975990289514547, 0.8975990289514547, 0.9106063787590998, 0.9106063787590998, 0.9106063787590998, 0.9106063787590998, 0.9106063787590998, 0.9106063787590998, 0.9106063787590998, 0.9106063787590998, 0.9106063787590998, 0.9106063787590998, 0.9106063787590998, 0.9106063787590998, 0.9108035788618395, 0.9108035788618395]}], \"AUC_macro\": [{\"categories\": [\"0\", \"1\", \"2\", \"3\", \"4\", \"5\", \"6\", \"7\", \"8\", \"9\", \"10\", \"11\", \"12\", \"13\", \"14\", \"15\", \"16\", \"17\", \"18\", \"19\", \"20\", \"21\", \"22\", \"23\", \"24\", \"25\", \"26\", \"27\", \"28\", \"29\", \"30\", \"31\", \"32\", \"33\", \"34\", \"35\", \"36\", \"37\", \"38\", \"39\", \"40\", \"41\", \"42\", \"44\", \"45\", \"47\", \"48\", \"49\"], \"mode\": \"markers\", \"name\": \"AUC_macro\", \"stepped\": false, \"type\": \"scatter\", \"data\": [0.8882035337008217, 0.8476339075508702, 0.7434381751787847, 0.5985042011774291, 0.703688713849074, 0.754068251440963, 0.7975091610685076, 0.7748489293755191, 0.7879846546109864, 0.7739390834849393, 0.7150741602650356, 0.7547024174038697, 0.7700678357348676, 0.8149752855702923, 0.622358558898219, 0.7356848482458721, 0.7633218352070433, 0.6694725791180884, 0.6828740325836344, 0.8925878971265949, 0.8704840598920116, 0.8316716155865976, 0.8399079101902499, 0.7924945581019035, 0.8332699198887966, 0.7975324700268193, 0.8907804291692766, 0.8548996191402293, 0.8364775128597622, 0.8456730167294836, 0.7991804945637385, 0.7854871469708454, 0.8666726537508103, 0.8582343825294553, 0.9050405515314016, 0.8421573215143314, 0.8691357439000935, 0.8920563026839708, 0.8951830731244295, 0.8536294025178578, 0.5, 0.8865133060468393, 0.8496176667769482, 0.8914033653920641, 0.8665583017182268, 0.8240261940666048, 0.9050862986107231, 0.9011598347271805]}, {\"categories\": [\"0\", \"1\", \"2\", \"3\", \"4\", \"5\", \"6\", \"7\", \"8\", \"9\", \"10\", \"11\", \"12\", \"13\", \"14\", \"15\", \"16\", \"17\", \"18\", \"19\", \"20\", \"21\", \"22\", \"23\", \"24\", \"25\", \"26\", \"27\", \"28\", \"29\", \"30\", \"31\", \"32\", \"33\", \"34\", \"35\", \"36\", \"37\", \"38\", \"39\", \"40\", \"41\", \"42\", \"44\", \"45\", \"47\", \"48\", \"49\"], \"mode\": \"lines\", \"name\": \"AUC_macro_max\", \"stepped\": true, \"type\": \"scatter\", \"data\": [0.8882035337008217, 0.8882035337008217, 0.8882035337008217, 0.8882035337008217, 0.8882035337008217, 0.8882035337008217, 0.8882035337008217, 0.8882035337008217, 0.8882035337008217, 0.8882035337008217, 0.8882035337008217, 0.8882035337008217, 0.8882035337008217, 0.8882035337008217, 0.8882035337008217, 0.8882035337008217, 0.8882035337008217, 0.8882035337008217, 0.8882035337008217, 0.8925878971265949, 0.8925878971265949, 0.8925878971265949, 0.8925878971265949, 0.8925878971265949, 0.8925878971265949, 0.8925878971265949, 0.8925878971265949, 0.8925878971265949, 0.8925878971265949, 0.8925878971265949, 0.8925878971265949, 0.8925878971265949, 0.8925878971265949, 0.8925878971265949, 0.9050405515314016, 0.9050405515314016, 0.9050405515314016, 0.9050405515314016, 0.9050405515314016, 0.9050405515314016, 0.9050405515314016, 0.9050405515314016, 0.9050405515314016, 0.9050405515314016, 0.9050405515314016, 0.9050405515314016, 0.9050862986107231, 0.9050862986107231]}], \"f1_score_micro\": [{\"categories\": [\"0\", \"1\", \"2\", \"3\", \"4\", \"5\", \"6\", \"7\", \"8\", \"9\", \"10\", \"11\", \"12\", \"13\", \"14\", \"15\", \"16\", \"17\", \"18\", \"19\", \"20\", \"21\", \"22\", \"23\", \"24\", \"25\", \"26\", \"27\", \"28\", \"29\", \"30\", \"31\", \"32\", \"33\", \"34\", \"35\", \"36\", \"37\", \"38\", \"39\", \"40\", \"41\", \"42\", \"44\", \"45\", \"47\", \"48\", \"49\"], \"mode\": \"markers\", \"name\": \"f1_score_micro\", \"stepped\": false, \"type\": \"scatter\", \"data\": [0.7852693602693602, 0.7503030303030304, 0.651969696969697, 0.42791245791245797, 0.6251851851851852, 0.6979124579124579, 0.711919191919192, 0.656986531986532, 0.7082659932659933, 0.5783670033670033, 0.5325084175084175, 0.5732659932659933, 0.5857239057239058, 0.728989898989899, 0.5448484848484848, 0.6932996632996633, 0.5851346801346802, 0.5636700336700337, 0.47260942760942765, 0.7915151515151514, 0.7723232323232323, 0.7314983164983163, 0.748148148148148, 0.6992424242424242, 0.7338720538720538, 0.7027441077441078, 0.7892424242424242, 0.7123063973063974, 0.7429797979797979, 0.7014814814814815, 0.6971043771043771, 0.698872053872054, 0.7673569023569023, 0.7326936026936025, 0.8079292929292929, 0.7447979797979798, 0.7708080808080808, 0.7905723905723905, 0.795976430976431, 0.7564646464646464, 0.5430808080808082, 0.7872053872053871, 0.7520370370370371, 0.7935353535353536, 0.766902356902357, 0.7306397306397306, 0.8079966329966329, 0.8085690235690236]}, {\"categories\": [\"0\", \"1\", \"2\", \"3\", \"4\", \"5\", \"6\", \"7\", \"8\", \"9\", \"10\", \"11\", \"12\", \"13\", \"14\", \"15\", \"16\", \"17\", \"18\", \"19\", \"20\", \"21\", \"22\", \"23\", \"24\", \"25\", \"26\", \"27\", \"28\", \"29\", \"30\", \"31\", \"32\", \"33\", \"34\", \"35\", \"36\", \"37\", \"38\", \"39\", \"40\", \"41\", \"42\", \"44\", \"45\", \"47\", \"48\", \"49\"], \"mode\": \"lines\", \"name\": \"f1_score_micro_max\", \"stepped\": true, \"type\": \"scatter\", \"data\": [0.7852693602693602, 0.7852693602693602, 0.7852693602693602, 0.7852693602693602, 0.7852693602693602, 0.7852693602693602, 0.7852693602693602, 0.7852693602693602, 0.7852693602693602, 0.7852693602693602, 0.7852693602693602, 0.7852693602693602, 0.7852693602693602, 0.7852693602693602, 0.7852693602693602, 0.7852693602693602, 0.7852693602693602, 0.7852693602693602, 0.7852693602693602, 0.7915151515151514, 0.7915151515151514, 0.7915151515151514, 0.7915151515151514, 0.7915151515151514, 0.7915151515151514, 0.7915151515151514, 0.7915151515151514, 0.7915151515151514, 0.7915151515151514, 0.7915151515151514, 0.7915151515151514, 0.7915151515151514, 0.7915151515151514, 0.7915151515151514, 0.8079292929292929, 0.8079292929292929, 0.8079292929292929, 0.8079292929292929, 0.8079292929292929, 0.8079292929292929, 0.8079292929292929, 0.8079292929292929, 0.8079292929292929, 0.8079292929292929, 0.8079292929292929, 0.8079292929292929, 0.8079966329966329, 0.8085690235690236]}], \"norm_macro_recall\": [{\"categories\": [\"0\", \"1\", \"2\", \"3\", \"4\", \"5\", \"6\", \"7\", \"8\", \"9\", \"10\", \"11\", \"12\", \"13\", \"14\", \"15\", \"16\", \"17\", \"18\", \"19\", \"20\", \"21\", \"22\", \"23\", \"24\", \"25\", \"26\", \"27\", \"28\", \"29\", \"30\", \"31\", \"32\", \"33\", \"34\", \"35\", \"36\", \"37\", \"38\", \"39\", \"40\", \"41\", \"42\", \"44\", \"45\", \"47\", \"48\", \"49\"], \"mode\": \"markers\", \"name\": \"norm_macro_recall\", \"stepped\": false, \"type\": \"scatter\", \"data\": [0.4233501953333765, 0.33125193528366786, 0.15117785458331084, 0.12176795727902408, 0.1110336086830551, 0.21842315772700793, 0.23173752148486956, 0.15289781346143974, 0.22452398696061146, 0.3831805623809363, 0.2868518775082729, 0.3651718858148603, 0.3812091023382393, 0.28480442706329784, 0.002340197913880709, 0.21221710342095368, 0.38558723683548474, 0.21269581237515453, 0.24480981268418, 0.43600697863186233, 0.3944326387451911, 0.25559170806355347, 0.3190726158125127, 0.2083910568880694, 0.26026637417042947, 0.21505887095517706, 0.4293052975983409, 0.5152315716405601, 0.32600681598289766, 0.5416869081033683, 0.20675012907604165, 0.2093808179327139, 0.3721253937700703, 0.44588571548689954, 0.49002364283268324, 0.32031350715255497, 0.393613546739724, 0.4273493135989028, 0.4594750472430716, 0.34884927078502254, 0.0, 0.4274262024999254, 0.33993978089068805, 0.42838064324141634, 0.37729436418239004, 0.27254263246632, 0.48922966644894567, 0.4912941059050231]}, {\"categories\": [\"0\", \"1\", \"2\", \"3\", \"4\", \"5\", \"6\", \"7\", \"8\", \"9\", \"10\", \"11\", \"12\", \"13\", \"14\", \"15\", \"16\", \"17\", \"18\", \"19\", \"20\", \"21\", \"22\", \"23\", \"24\", \"25\", \"26\", \"27\", \"28\", \"29\", \"30\", \"31\", \"32\", \"33\", \"34\", \"35\", \"36\", \"37\", \"38\", \"39\", \"40\", \"41\", \"42\", \"44\", \"45\", \"47\", \"48\", \"49\"], \"mode\": \"lines\", \"name\": \"norm_macro_recall_max\", \"stepped\": true, \"type\": \"scatter\", \"data\": [0.4233501953333765, 0.4233501953333765, 0.4233501953333765, 0.4233501953333765, 0.4233501953333765, 0.4233501953333765, 0.4233501953333765, 0.4233501953333765, 0.4233501953333765, 0.4233501953333765, 0.4233501953333765, 0.4233501953333765, 0.4233501953333765, 0.4233501953333765, 0.4233501953333765, 0.4233501953333765, 0.4233501953333765, 0.4233501953333765, 0.4233501953333765, 0.43600697863186233, 0.43600697863186233, 0.43600697863186233, 0.43600697863186233, 0.43600697863186233, 0.43600697863186233, 0.43600697863186233, 0.43600697863186233, 0.5152315716405601, 0.5152315716405601, 0.5416869081033683, 0.5416869081033683, 0.5416869081033683, 0.5416869081033683, 0.5416869081033683, 0.5416869081033683, 0.5416869081033683, 0.5416869081033683, 0.5416869081033683, 0.5416869081033683, 0.5416869081033683, 0.5416869081033683, 0.5416869081033683, 0.5416869081033683, 0.5416869081033683, 0.5416869081033683, 0.5416869081033683, 0.5416869081033683, 0.5416869081033683]}], \"recall_score_micro\": [{\"categories\": [\"0\", \"1\", \"2\", \"3\", \"4\", \"5\", \"6\", \"7\", \"8\", \"9\", \"10\", \"11\", \"12\", \"13\", \"14\", \"15\", \"16\", \"17\", \"18\", \"19\", \"20\", \"21\", \"22\", \"23\", \"24\", \"25\", \"26\", \"27\", \"28\", \"29\", \"30\", \"31\", \"32\", \"33\", \"34\", \"35\", \"36\", \"37\", \"38\", \"39\", \"40\", \"41\", \"42\", \"44\", \"45\", \"47\", \"48\", \"49\"], \"mode\": \"markers\", \"name\": \"recall_score_micro\", \"stepped\": false, \"type\": \"scatter\", \"data\": [0.7852693602693602, 0.7503030303030304, 0.651969696969697, 0.42791245791245797, 0.6251851851851852, 0.6979124579124579, 0.711919191919192, 0.656986531986532, 0.7082659932659933, 0.5783670033670033, 0.5325084175084175, 0.5732659932659933, 0.5857239057239058, 0.728989898989899, 0.5448484848484848, 0.6932996632996633, 0.5851346801346802, 0.5636700336700337, 0.47260942760942765, 0.7915151515151515, 0.7723232323232323, 0.7314983164983165, 0.7481481481481481, 0.6992424242424242, 0.7338720538720539, 0.7027441077441078, 0.7892424242424242, 0.7123063973063974, 0.7429797979797979, 0.7014814814814815, 0.6971043771043771, 0.698872053872054, 0.7673569023569025, 0.7326936026936027, 0.8079292929292929, 0.7447979797979798, 0.7708080808080808, 0.7905723905723906, 0.795976430976431, 0.7564646464646465, 0.5430808080808082, 0.7872053872053871, 0.7520370370370371, 0.7935353535353536, 0.766902356902357, 0.7306397306397306, 0.807996632996633, 0.8085690235690236]}, {\"categories\": [\"0\", \"1\", \"2\", \"3\", \"4\", \"5\", \"6\", \"7\", \"8\", \"9\", \"10\", \"11\", \"12\", \"13\", \"14\", \"15\", \"16\", \"17\", \"18\", \"19\", \"20\", \"21\", \"22\", \"23\", \"24\", \"25\", \"26\", \"27\", \"28\", \"29\", \"30\", \"31\", \"32\", \"33\", \"34\", \"35\", \"36\", \"37\", \"38\", \"39\", \"40\", \"41\", \"42\", \"44\", \"45\", \"47\", \"48\", \"49\"], \"mode\": \"lines\", \"name\": \"recall_score_micro_max\", \"stepped\": true, \"type\": \"scatter\", \"data\": [0.7852693602693602, 0.7852693602693602, 0.7852693602693602, 0.7852693602693602, 0.7852693602693602, 0.7852693602693602, 0.7852693602693602, 0.7852693602693602, 0.7852693602693602, 0.7852693602693602, 0.7852693602693602, 0.7852693602693602, 0.7852693602693602, 0.7852693602693602, 0.7852693602693602, 0.7852693602693602, 0.7852693602693602, 0.7852693602693602, 0.7852693602693602, 0.7915151515151515, 0.7915151515151515, 0.7915151515151515, 0.7915151515151515, 0.7915151515151515, 0.7915151515151515, 0.7915151515151515, 0.7915151515151515, 0.7915151515151515, 0.7915151515151515, 0.7915151515151515, 0.7915151515151515, 0.7915151515151515, 0.7915151515151515, 0.7915151515151515, 0.8079292929292929, 0.8079292929292929, 0.8079292929292929, 0.8079292929292929, 0.8079292929292929, 0.8079292929292929, 0.8079292929292929, 0.8079292929292929, 0.8079292929292929, 0.8079292929292929, 0.8079292929292929, 0.8079292929292929, 0.807996632996633, 0.8085690235690236]}], \"weighted_accuracy\": [{\"categories\": [\"0\", \"1\", \"2\", \"3\", \"4\", \"5\", \"6\", \"7\", \"8\", \"9\", \"10\", \"11\", \"12\", \"13\", \"14\", \"15\", \"16\", \"17\", \"18\", \"19\", \"20\", \"21\", \"22\", \"23\", \"24\", \"25\", \"26\", \"27\", \"28\", \"29\", \"30\", \"31\", \"32\", \"33\", \"34\", \"35\", \"36\", \"37\", \"38\", \"39\", \"40\", \"41\", \"42\", \"44\", \"45\", \"47\", \"48\", \"49\"], \"mode\": \"markers\", \"name\": \"weighted_accuracy\", \"stepped\": false, \"type\": \"scatter\", \"data\": [0.8386760605910316, 0.8171346627259101, 0.7429899368015338, 0.4161701445191697, 0.7249542953179134, 0.7755906124161481, 0.7921480303889264, 0.7518690244983993, 0.7913035200057186, 0.5835826275132296, 0.5314438227136191, 0.5732564538071436, 0.5859648288263598, 0.8048819350360379, 0.6599630822050349, 0.7718435619660369, 0.5938971391368514, 0.5928582903613179, 0.4538995375114503, 0.8442735272966, 0.8265900717527472, 0.8104680856903883, 0.8149175727128859, 0.7876551868202242, 0.8121343307558635, 0.788702101027616, 0.8431143353613274, 0.722597162085615, 0.8115921110423043, 0.701145939732991, 0.7847514311568062, 0.7859726998714628, 0.8306903887761079, 0.7606068153913546, 0.8518980103060033, 0.8122042246239726, 0.8259430918981173, 0.8457530899928206, 0.8443020396985327, 0.8206081875528258, 0.6584710356120448, 0.841767787307058, 0.8164407705914614, 0.8491671174865351, 0.8301368356926032, 0.8061717718369744, 0.8528958172235915, 0.8513422441694081]}, {\"categories\": [\"0\", \"1\", \"2\", \"3\", \"4\", \"5\", \"6\", \"7\", \"8\", \"9\", \"10\", \"11\", \"12\", \"13\", \"14\", \"15\", \"16\", \"17\", \"18\", \"19\", \"20\", \"21\", \"22\", \"23\", \"24\", \"25\", \"26\", \"27\", \"28\", \"29\", \"30\", \"31\", \"32\", \"33\", \"34\", \"35\", \"36\", \"37\", \"38\", \"39\", \"40\", \"41\", \"42\", \"44\", \"45\", \"47\", \"48\", \"49\"], \"mode\": \"lines\", \"name\": \"weighted_accuracy_max\", \"stepped\": true, \"type\": \"scatter\", \"data\": [0.8386760605910316, 0.8386760605910316, 0.8386760605910316, 0.8386760605910316, 0.8386760605910316, 0.8386760605910316, 0.8386760605910316, 0.8386760605910316, 0.8386760605910316, 0.8386760605910316, 0.8386760605910316, 0.8386760605910316, 0.8386760605910316, 0.8386760605910316, 0.8386760605910316, 0.8386760605910316, 0.8386760605910316, 0.8386760605910316, 0.8386760605910316, 0.8442735272966, 0.8442735272966, 0.8442735272966, 0.8442735272966, 0.8442735272966, 0.8442735272966, 0.8442735272966, 0.8442735272966, 0.8442735272966, 0.8442735272966, 0.8442735272966, 0.8442735272966, 0.8442735272966, 0.8442735272966, 0.8442735272966, 0.8518980103060033, 0.8518980103060033, 0.8518980103060033, 0.8518980103060033, 0.8518980103060033, 0.8518980103060033, 0.8518980103060033, 0.8518980103060033, 0.8518980103060033, 0.8518980103060033, 0.8518980103060033, 0.8518980103060033, 0.8528958172235915, 0.8528958172235915]}], \"recall_score_weighted\": [{\"categories\": [\"0\", \"1\", \"2\", \"3\", \"4\", \"5\", \"6\", \"7\", \"8\", \"9\", \"10\", \"11\", \"12\", \"13\", \"14\", \"15\", \"16\", \"17\", \"18\", \"19\", \"20\", \"21\", \"22\", \"23\", \"24\", \"25\", \"26\", \"27\", \"28\", \"29\", \"30\", \"31\", \"32\", \"33\", \"34\", \"35\", \"36\", \"37\", \"38\", \"39\", \"40\", \"41\", \"42\", \"44\", \"45\", \"47\", \"48\", \"49\"], \"mode\": \"markers\", \"name\": \"recall_score_weighted\", \"stepped\": false, \"type\": \"scatter\", \"data\": [0.7852693602693602, 0.7503030303030304, 0.651969696969697, 0.42791245791245797, 0.6251851851851852, 0.6979124579124579, 0.711919191919192, 0.656986531986532, 0.7082659932659933, 0.5783670033670033, 0.5325084175084175, 0.5732659932659933, 0.5857239057239058, 0.728989898989899, 0.5448484848484848, 0.6932996632996633, 0.5851346801346802, 0.5636700336700337, 0.47260942760942765, 0.7915151515151515, 0.7723232323232323, 0.7314983164983165, 0.7481481481481481, 0.6992424242424242, 0.7338720538720539, 0.7027441077441078, 0.7892424242424242, 0.7123063973063974, 0.7429797979797979, 0.7014814814814815, 0.6971043771043771, 0.698872053872054, 0.7673569023569025, 0.7326936026936027, 0.8079292929292929, 0.7447979797979798, 0.7708080808080808, 0.7905723905723906, 0.795976430976431, 0.7564646464646465, 0.5430808080808082, 0.7872053872053871, 0.7520370370370371, 0.7935353535353536, 0.766902356902357, 0.7306397306397306, 0.807996632996633, 0.8085690235690236]}, {\"categories\": [\"0\", \"1\", \"2\", \"3\", \"4\", \"5\", \"6\", \"7\", \"8\", \"9\", \"10\", \"11\", \"12\", \"13\", \"14\", \"15\", \"16\", \"17\", \"18\", \"19\", \"20\", \"21\", \"22\", \"23\", \"24\", \"25\", \"26\", \"27\", \"28\", \"29\", \"30\", \"31\", \"32\", \"33\", \"34\", \"35\", \"36\", \"37\", \"38\", \"39\", \"40\", \"41\", \"42\", \"44\", \"45\", \"47\", \"48\", \"49\"], \"mode\": \"lines\", \"name\": \"recall_score_weighted_max\", \"stepped\": true, \"type\": \"scatter\", \"data\": [0.7852693602693602, 0.7852693602693602, 0.7852693602693602, 0.7852693602693602, 0.7852693602693602, 0.7852693602693602, 0.7852693602693602, 0.7852693602693602, 0.7852693602693602, 0.7852693602693602, 0.7852693602693602, 0.7852693602693602, 0.7852693602693602, 0.7852693602693602, 0.7852693602693602, 0.7852693602693602, 0.7852693602693602, 0.7852693602693602, 0.7852693602693602, 0.7915151515151515, 0.7915151515151515, 0.7915151515151515, 0.7915151515151515, 0.7915151515151515, 0.7915151515151515, 0.7915151515151515, 0.7915151515151515, 0.7915151515151515, 0.7915151515151515, 0.7915151515151515, 0.7915151515151515, 0.7915151515151515, 0.7915151515151515, 0.7915151515151515, 0.8079292929292929, 0.8079292929292929, 0.8079292929292929, 0.8079292929292929, 0.8079292929292929, 0.8079292929292929, 0.8079292929292929, 0.8079292929292929, 0.8079292929292929, 0.8079292929292929, 0.8079292929292929, 0.8079292929292929, 0.807996632996633, 0.8085690235690236]}], \"precision_score_macro\": [{\"categories\": [\"0\", \"1\", \"2\", \"3\", \"4\", \"5\", \"6\", \"7\", \"8\", \"9\", \"10\", \"11\", \"12\", \"13\", \"14\", \"15\", \"16\", \"17\", \"18\", \"19\", \"20\", \"21\", \"22\", \"23\", \"24\", \"25\", \"26\", \"27\", \"28\", \"29\", \"30\", \"31\", \"32\", \"33\", \"34\", \"35\", \"36\", \"37\", \"38\", \"39\", \"40\", \"41\", \"42\", \"44\", \"45\", \"47\", \"48\", \"49\"], \"mode\": \"markers\", \"name\": \"precision_score_macro\", \"stepped\": false, \"type\": \"scatter\", \"data\": [0.7539052230498791, 0.7477950353044646, 0.47690585521012246, 0.4176056066861223, 0.4909424407790666, 0.4852202901429788, 0.5027932921916334, 0.5025146700209784, 0.5077394568188854, 0.5723657725058867, 0.4903931555060406, 0.541964857102282, 0.5490948682912175, 0.7342259405758106, 0.2924620239801758, 0.4853818570636596, 0.5735728131841121, 0.4733127958118533, 0.47515364246982816, 0.7632489541782833, 0.730293490880439, 0.5158304930536678, 0.7240125212790821, 0.5194122915350731, 0.607468555772888, 0.511922189008958, 0.7668204045779149, 0.6215200760526428, 0.753814475856592, 0.6208535389197795, 0.5125431926102378, 0.5127956146581808, 0.7700644797729201, 0.5831204341950824, 0.7526947809773111, 0.7545205897562265, 0.7367900087299684, 0.7750697203711406, 0.7518992453579935, 0.7582728780322133, 0.181026936026936, 0.7661645404717913, 0.7485832520116986, 0.7766954259401763, 0.7719531495146587, 0.7217091917484505, 0.7567937684020211, 0.7559453436618132]}, {\"categories\": [\"0\", \"1\", \"2\", \"3\", \"4\", \"5\", \"6\", \"7\", \"8\", \"9\", \"10\", \"11\", \"12\", \"13\", \"14\", \"15\", \"16\", \"17\", \"18\", \"19\", \"20\", \"21\", \"22\", \"23\", \"24\", \"25\", \"26\", \"27\", \"28\", \"29\", \"30\", \"31\", \"32\", \"33\", \"34\", \"35\", \"36\", \"37\", \"38\", \"39\", \"40\", \"41\", \"42\", \"44\", \"45\", \"47\", \"48\", \"49\"], \"mode\": \"lines\", \"name\": \"precision_score_macro_max\", \"stepped\": true, \"type\": \"scatter\", \"data\": [0.7539052230498791, 0.7539052230498791, 0.7539052230498791, 0.7539052230498791, 0.7539052230498791, 0.7539052230498791, 0.7539052230498791, 0.7539052230498791, 0.7539052230498791, 0.7539052230498791, 0.7539052230498791, 0.7539052230498791, 0.7539052230498791, 0.7539052230498791, 0.7539052230498791, 0.7539052230498791, 0.7539052230498791, 0.7539052230498791, 0.7539052230498791, 0.7632489541782833, 0.7632489541782833, 0.7632489541782833, 0.7632489541782833, 0.7632489541782833, 0.7632489541782833, 0.7632489541782833, 0.7668204045779149, 0.7668204045779149, 0.7668204045779149, 0.7668204045779149, 0.7668204045779149, 0.7668204045779149, 0.7700644797729201, 0.7700644797729201, 0.7700644797729201, 0.7700644797729201, 0.7700644797729201, 0.7750697203711406, 0.7750697203711406, 0.7750697203711406, 0.7750697203711406, 0.7750697203711406, 0.7750697203711406, 0.7766954259401763, 0.7766954259401763, 0.7766954259401763, 0.7766954259401763, 0.7766954259401763]}], \"average_precision_score_weighted\": [{\"categories\": [\"0\", \"1\", \"2\", \"3\", \"4\", \"5\", \"6\", \"7\", \"8\", \"9\", \"10\", \"11\", \"12\", \"13\", \"14\", \"15\", \"16\", \"17\", \"18\", \"19\", \"20\", \"21\", \"22\", \"23\", \"24\", \"25\", \"26\", \"27\", \"28\", \"29\", \"30\", \"31\", \"32\", \"33\", \"34\", \"35\", \"36\", \"37\", \"38\", \"39\", \"40\", \"41\", \"42\", \"44\", \"45\", \"47\", \"48\", \"49\"], \"mode\": \"markers\", \"name\": \"average_precision_score_weighted\", \"stepped\": false, \"type\": \"scatter\", \"data\": [0.8564769697748834, 0.8143719723377428, 0.6971892371377599, 0.521940312892703, 0.6565467211453123, 0.7217959998736708, 0.7603982596632539, 0.7374580938929901, 0.7537288765525351, 0.7376679948067614, 0.668887101383925, 0.7168398476547195, 0.7352224903526929, 0.7819021343223636, 0.5654290390502221, 0.6977597884103419, 0.718962199579022, 0.6172947856912753, 0.6338092593667266, 0.8613429008903699, 0.8362036945957562, 0.7927397244241462, 0.8044079289677654, 0.7542889584918991, 0.7964183076338714, 0.762036046914055, 0.8591900180598704, 0.8112915202996217, 0.8035881075790833, 0.7938761866207528, 0.7644276688936497, 0.755326923578347, 0.8349857320613819, 0.8165240595515396, 0.8758167272719529, 0.8065868347821107, 0.8338808470609197, 0.861102485946419, 0.8640880709542444, 0.8174745358082179, 0.4479362871135599, 0.8545285078833155, 0.8124483047621819, 0.8620655637716252, 0.8340524688386391, 0.786202244607308, 0.8763385845828747, 0.8756947378321408]}, {\"categories\": [\"0\", \"1\", \"2\", \"3\", \"4\", \"5\", \"6\", \"7\", \"8\", \"9\", \"10\", \"11\", \"12\", \"13\", \"14\", \"15\", \"16\", \"17\", \"18\", \"19\", \"20\", \"21\", \"22\", \"23\", \"24\", \"25\", \"26\", \"27\", \"28\", \"29\", \"30\", \"31\", \"32\", \"33\", \"34\", \"35\", \"36\", \"37\", \"38\", \"39\", \"40\", \"41\", \"42\", \"44\", \"45\", \"47\", \"48\", \"49\"], \"mode\": \"lines\", \"name\": \"average_precision_score_weighted_max\", \"stepped\": true, \"type\": \"scatter\", \"data\": [0.8564769697748834, 0.8564769697748834, 0.8564769697748834, 0.8564769697748834, 0.8564769697748834, 0.8564769697748834, 0.8564769697748834, 0.8564769697748834, 0.8564769697748834, 0.8564769697748834, 0.8564769697748834, 0.8564769697748834, 0.8564769697748834, 0.8564769697748834, 0.8564769697748834, 0.8564769697748834, 0.8564769697748834, 0.8564769697748834, 0.8564769697748834, 0.8613429008903699, 0.8613429008903699, 0.8613429008903699, 0.8613429008903699, 0.8613429008903699, 0.8613429008903699, 0.8613429008903699, 0.8613429008903699, 0.8613429008903699, 0.8613429008903699, 0.8613429008903699, 0.8613429008903699, 0.8613429008903699, 0.8613429008903699, 0.8613429008903699, 0.8758167272719529, 0.8758167272719529, 0.8758167272719529, 0.8758167272719529, 0.8758167272719529, 0.8758167272719529, 0.8758167272719529, 0.8758167272719529, 0.8758167272719529, 0.8758167272719529, 0.8758167272719529, 0.8758167272719529, 0.8763385845828747, 0.8763385845828747]}], \"f1_score_weighted\": [{\"categories\": [\"0\", \"1\", \"2\", \"3\", \"4\", \"5\", \"6\", \"7\", \"8\", \"9\", \"10\", \"11\", \"12\", \"13\", \"14\", \"15\", \"16\", \"17\", \"18\", \"19\", \"20\", \"21\", \"22\", \"23\", \"24\", \"25\", \"26\", \"27\", \"28\", \"29\", \"30\", \"31\", \"32\", \"33\", \"34\", \"35\", \"36\", \"37\", \"38\", \"39\", \"40\", \"41\", \"42\", \"44\", \"45\", \"47\", \"48\", \"49\"], \"mode\": \"markers\", \"name\": \"f1_score_weighted\", \"stepped\": false, \"type\": \"scatter\", \"data\": [0.7714051570487422, 0.7267519917935165, 0.5948294256514748, 0.42717573092472416, 0.5421701715724964, 0.6595467064728748, 0.6730961750076473, 0.5957585939563836, 0.6671378199265682, 0.6238651675478074, 0.5648935387976196, 0.6149540145084671, 0.6259170737476404, 0.698108138059862, 0.3862172429219967, 0.6534649780178734, 0.6253268679400853, 0.5763359712051566, 0.50553168039858, 0.7782614567410483, 0.756905725711687, 0.6945086013744866, 0.7234509655553555, 0.6522495929515132, 0.697569084034714, 0.6584760522895621, 0.7753055358472953, 0.7285899182003615, 0.7187313528614422, 0.7234274486371962, 0.6506888417561224, 0.6532092137051605, 0.7475967320066884, 0.7310921608230389, 0.7993138206951698, 0.7202333407594715, 0.7552093754785277, 0.77603272549258, 0.785295046474697, 0.7350294399917349, 0.38228740214948437, 0.7732151296914377, 0.7300746567947783, 0.7787136661649204, 0.7477090816125997, 0.6982710252689593, 0.7991364842565343, 0.799975442623726]}, {\"categories\": [\"0\", \"1\", \"2\", \"3\", \"4\", \"5\", \"6\", \"7\", \"8\", \"9\", \"10\", \"11\", \"12\", \"13\", \"14\", \"15\", \"16\", \"17\", \"18\", \"19\", \"20\", \"21\", \"22\", \"23\", \"24\", \"25\", \"26\", \"27\", \"28\", \"29\", \"30\", \"31\", \"32\", \"33\", \"34\", \"35\", \"36\", \"37\", \"38\", \"39\", \"40\", \"41\", \"42\", \"44\", \"45\", \"47\", \"48\", \"49\"], \"mode\": \"lines\", \"name\": \"f1_score_weighted_max\", \"stepped\": true, \"type\": \"scatter\", \"data\": [0.7714051570487422, 0.7714051570487422, 0.7714051570487422, 0.7714051570487422, 0.7714051570487422, 0.7714051570487422, 0.7714051570487422, 0.7714051570487422, 0.7714051570487422, 0.7714051570487422, 0.7714051570487422, 0.7714051570487422, 0.7714051570487422, 0.7714051570487422, 0.7714051570487422, 0.7714051570487422, 0.7714051570487422, 0.7714051570487422, 0.7714051570487422, 0.7782614567410483, 0.7782614567410483, 0.7782614567410483, 0.7782614567410483, 0.7782614567410483, 0.7782614567410483, 0.7782614567410483, 0.7782614567410483, 0.7782614567410483, 0.7782614567410483, 0.7782614567410483, 0.7782614567410483, 0.7782614567410483, 0.7782614567410483, 0.7782614567410483, 0.7993138206951698, 0.7993138206951698, 0.7993138206951698, 0.7993138206951698, 0.7993138206951698, 0.7993138206951698, 0.7993138206951698, 0.7993138206951698, 0.7993138206951698, 0.7993138206951698, 0.7993138206951698, 0.7993138206951698, 0.7993138206951698, 0.799975442623726]}], \"recall_score_macro\": [{\"categories\": [\"0\", \"1\", \"2\", \"3\", \"4\", \"5\", \"6\", \"7\", \"8\", \"9\", \"10\", \"11\", \"12\", \"13\", \"14\", \"15\", \"16\", \"17\", \"18\", \"19\", \"20\", \"21\", \"22\", \"23\", \"24\", \"25\", \"26\", \"27\", \"28\", \"29\", \"30\", \"31\", \"32\", \"33\", \"34\", \"35\", \"36\", \"37\", \"38\", \"39\", \"40\", \"41\", \"42\", \"44\", \"45\", \"47\", \"48\", \"49\"], \"mode\": \"markers\", \"name\": \"recall_score_macro\", \"stepped\": false, \"type\": \"scatter\", \"data\": [0.6155667968889177, 0.5541679568557786, 0.43411856972220725, 0.41451197151934943, 0.40735573912203676, 0.47894877181800527, 0.4878250143232464, 0.4352652089742932, 0.48301599130707434, 0.5887870415872909, 0.5245679183388486, 0.5767812572099068, 0.5874727348921596, 0.523202951375532, 0.3348934652759204, 0.4748114022806358, 0.5903914912236564, 0.4751305415834363, 0.4965398751227867, 0.6240046524212416, 0.5962884258301274, 0.5037278053757023, 0.5460484105416752, 0.4722607045920462, 0.5068442494469529, 0.476705913970118, 0.6195368650655606, 0.6768210477603734, 0.5506712106552651, 0.6944579387355789, 0.4711667527173611, 0.47292054528847594, 0.581416929180047, 0.6305904769912664, 0.6600157618884556, 0.5468756714350368, 0.5957423644931493, 0.6182328757326019, 0.6396500314953811, 0.5658995138566817, 0.3333333333333333, 0.6182841349999503, 0.5599598539271252, 0.6189204288276109, 0.5848629094549267, 0.5150284216442134, 0.6594864442992971, 0.6608627372700154]}, {\"categories\": [\"0\", \"1\", \"2\", \"3\", \"4\", \"5\", \"6\", \"7\", \"8\", \"9\", \"10\", \"11\", \"12\", \"13\", \"14\", \"15\", \"16\", \"17\", \"18\", \"19\", \"20\", \"21\", \"22\", \"23\", \"24\", \"25\", \"26\", \"27\", \"28\", \"29\", \"30\", \"31\", \"32\", \"33\", \"34\", \"35\", \"36\", \"37\", \"38\", \"39\", \"40\", \"41\", \"42\", \"44\", \"45\", \"47\", \"48\", \"49\"], \"mode\": \"lines\", \"name\": \"recall_score_macro_max\", \"stepped\": true, \"type\": \"scatter\", \"data\": [0.6155667968889177, 0.6155667968889177, 0.6155667968889177, 0.6155667968889177, 0.6155667968889177, 0.6155667968889177, 0.6155667968889177, 0.6155667968889177, 0.6155667968889177, 0.6155667968889177, 0.6155667968889177, 0.6155667968889177, 0.6155667968889177, 0.6155667968889177, 0.6155667968889177, 0.6155667968889177, 0.6155667968889177, 0.6155667968889177, 0.6155667968889177, 0.6240046524212416, 0.6240046524212416, 0.6240046524212416, 0.6240046524212416, 0.6240046524212416, 0.6240046524212416, 0.6240046524212416, 0.6240046524212416, 0.6768210477603734, 0.6768210477603734, 0.6944579387355789, 0.6944579387355789, 0.6944579387355789, 0.6944579387355789, 0.6944579387355789, 0.6944579387355789, 0.6944579387355789, 0.6944579387355789, 0.6944579387355789, 0.6944579387355789, 0.6944579387355789, 0.6944579387355789, 0.6944579387355789, 0.6944579387355789, 0.6944579387355789, 0.6944579387355789, 0.6944579387355789, 0.6944579387355789, 0.6944579387355789]}], \"f1_score_macro\": [{\"categories\": [\"0\", \"1\", \"2\", \"3\", \"4\", \"5\", \"6\", \"7\", \"8\", \"9\", \"10\", \"11\", \"12\", \"13\", \"14\", \"15\", \"16\", \"17\", \"18\", \"19\", \"20\", \"21\", \"22\", \"23\", \"24\", \"25\", \"26\", \"27\", \"28\", \"29\", \"30\", \"31\", \"32\", \"33\", \"34\", \"35\", \"36\", \"37\", \"38\", \"39\", \"40\", \"41\", \"42\", \"44\", \"45\", \"47\", \"48\", \"49\"], \"mode\": \"markers\", \"name\": \"f1_score_macro\", \"stepped\": false, \"type\": \"scatter\", \"data\": [0.6447901424311273, 0.5728213586193932, 0.4123986891165399, 0.35198986981350683, 0.3683143192139342, 0.4653425724905111, 0.47572789233022966, 0.4124239383078372, 0.47069591886237366, 0.5159735956340283, 0.4683168471652899, 0.5093206694364624, 0.5196666244485958, 0.5349518843654312, 0.2379720620016336, 0.4604992136691828, 0.5186898089884561, 0.45841870073126145, 0.42250628918158184, 0.6546653445122441, 0.6207550774205531, 0.49243733991601585, 0.5584756345701729, 0.4581983874340672, 0.49665222232872974, 0.4634184185341979, 0.6502591565251771, 0.6276019635559064, 0.5723938020228346, 0.624842241103622, 0.45702467757049453, 0.4591439788113676, 0.6084950132190952, 0.5961572780553928, 0.6879866431060039, 0.563576628679103, 0.6216149148485689, 0.6495752563538694, 0.6694061698026674, 0.5882387457291302, 0.2346247380040439, 0.6496658651273699, 0.5803727121398672, 0.6497911474803114, 0.614144195111864, 0.516416496193968, 0.6884696532629246, 0.6889563944084759]}, {\"categories\": [\"0\", \"1\", \"2\", \"3\", \"4\", \"5\", \"6\", \"7\", \"8\", \"9\", \"10\", \"11\", \"12\", \"13\", \"14\", \"15\", \"16\", \"17\", \"18\", \"19\", \"20\", \"21\", \"22\", \"23\", \"24\", \"25\", \"26\", \"27\", \"28\", \"29\", \"30\", \"31\", \"32\", \"33\", \"34\", \"35\", \"36\", \"37\", \"38\", \"39\", \"40\", \"41\", \"42\", \"44\", \"45\", \"47\", \"48\", \"49\"], \"mode\": \"lines\", \"name\": \"f1_score_macro_max\", \"stepped\": true, \"type\": \"scatter\", \"data\": [0.6447901424311273, 0.6447901424311273, 0.6447901424311273, 0.6447901424311273, 0.6447901424311273, 0.6447901424311273, 0.6447901424311273, 0.6447901424311273, 0.6447901424311273, 0.6447901424311273, 0.6447901424311273, 0.6447901424311273, 0.6447901424311273, 0.6447901424311273, 0.6447901424311273, 0.6447901424311273, 0.6447901424311273, 0.6447901424311273, 0.6447901424311273, 0.6546653445122441, 0.6546653445122441, 0.6546653445122441, 0.6546653445122441, 0.6546653445122441, 0.6546653445122441, 0.6546653445122441, 0.6546653445122441, 0.6546653445122441, 0.6546653445122441, 0.6546653445122441, 0.6546653445122441, 0.6546653445122441, 0.6546653445122441, 0.6546653445122441, 0.6879866431060039, 0.6879866431060039, 0.6879866431060039, 0.6879866431060039, 0.6879866431060039, 0.6879866431060039, 0.6879866431060039, 0.6879866431060039, 0.6879866431060039, 0.6879866431060039, 0.6879866431060039, 0.6879866431060039, 0.6884696532629246, 0.6889563944084759]}], \"average_precision_score_macro\": [{\"categories\": [\"0\", \"1\", \"2\", \"3\", \"4\", \"5\", \"6\", \"7\", \"8\", \"9\", \"10\", \"11\", \"12\", \"13\", \"14\", \"15\", \"16\", \"17\", \"18\", \"19\", \"20\", \"21\", \"22\", \"23\", \"24\", \"25\", \"26\", \"27\", \"28\", \"29\", \"30\", \"31\", \"32\", \"33\", \"34\", \"35\", \"36\", \"37\", \"38\", \"39\", \"40\", \"41\", \"42\", \"44\", \"45\", \"47\", \"48\", \"49\"], \"mode\": \"markers\", \"name\": \"average_precision_score_macro\", \"stepped\": false, \"type\": \"scatter\", \"data\": [0.7399099776107628, 0.6840452086020711, 0.5475913115551947, 0.39690524866517074, 0.5060364338071491, 0.5532746188253909, 0.6139659516102105, 0.5908311594210464, 0.6027165649744792, 0.5946260070998174, 0.5247983032471829, 0.563954358640282, 0.5885688676642981, 0.6502366201422896, 0.42786442409795855, 0.5308085879345579, 0.5763967602898162, 0.4781252083968117, 0.48771833975001266, 0.7472859729103017, 0.7116061191254833, 0.6465258379027689, 0.6659629294414512, 0.6199252272255334, 0.653937726511436, 0.6097921053444452, 0.7429637232656665, 0.6816535306077528, 0.6777987780152492, 0.6574044161146809, 0.6161482723943538, 0.5986195861041432, 0.7120016280009582, 0.6874553140276536, 0.7633952068609307, 0.6809339499608629, 0.7090442041998086, 0.7454766529357822, 0.7493140230164391, 0.6922730657024658, 0.3333333333333333, 0.7385512767750408, 0.6842670800411833, 0.7460333472857901, 0.7146866337858587, 0.6523650707912464, 0.7644353306546675, 0.7625220478566622]}, {\"categories\": [\"0\", \"1\", \"2\", \"3\", \"4\", \"5\", \"6\", \"7\", \"8\", \"9\", \"10\", \"11\", \"12\", \"13\", \"14\", \"15\", \"16\", \"17\", \"18\", \"19\", \"20\", \"21\", \"22\", \"23\", \"24\", \"25\", \"26\", \"27\", \"28\", \"29\", \"30\", \"31\", \"32\", \"33\", \"34\", \"35\", \"36\", \"37\", \"38\", \"39\", \"40\", \"41\", \"42\", \"44\", \"45\", \"47\", \"48\", \"49\"], \"mode\": \"lines\", \"name\": \"average_precision_score_macro_max\", \"stepped\": true, \"type\": \"scatter\", \"data\": [0.7399099776107628, 0.7399099776107628, 0.7399099776107628, 0.7399099776107628, 0.7399099776107628, 0.7399099776107628, 0.7399099776107628, 0.7399099776107628, 0.7399099776107628, 0.7399099776107628, 0.7399099776107628, 0.7399099776107628, 0.7399099776107628, 0.7399099776107628, 0.7399099776107628, 0.7399099776107628, 0.7399099776107628, 0.7399099776107628, 0.7399099776107628, 0.7472859729103017, 0.7472859729103017, 0.7472859729103017, 0.7472859729103017, 0.7472859729103017, 0.7472859729103017, 0.7472859729103017, 0.7472859729103017, 0.7472859729103017, 0.7472859729103017, 0.7472859729103017, 0.7472859729103017, 0.7472859729103017, 0.7472859729103017, 0.7472859729103017, 0.7633952068609307, 0.7633952068609307, 0.7633952068609307, 0.7633952068609307, 0.7633952068609307, 0.7633952068609307, 0.7633952068609307, 0.7633952068609307, 0.7633952068609307, 0.7633952068609307, 0.7633952068609307, 0.7633952068609307, 0.7644353306546675, 0.7644353306546675]}], \"precision_score_micro\": [{\"categories\": [\"0\", \"1\", \"2\", \"3\", \"4\", \"5\", \"6\", \"7\", \"8\", \"9\", \"10\", \"11\", \"12\", \"13\", \"14\", \"15\", \"16\", \"17\", \"18\", \"19\", \"20\", \"21\", \"22\", \"23\", \"24\", \"25\", \"26\", \"27\", \"28\", \"29\", \"30\", \"31\", \"32\", \"33\", \"34\", \"35\", \"36\", \"37\", \"38\", \"39\", \"40\", \"41\", \"42\", \"44\", \"45\", \"47\", \"48\", \"49\"], \"mode\": \"markers\", \"name\": \"precision_score_micro\", \"stepped\": false, \"type\": \"scatter\", \"data\": [0.7852693602693602, 0.7503030303030304, 0.651969696969697, 0.42791245791245797, 0.6251851851851852, 0.6979124579124579, 0.711919191919192, 0.656986531986532, 0.7082659932659933, 0.5783670033670033, 0.5325084175084175, 0.5732659932659933, 0.5857239057239058, 0.728989898989899, 0.5448484848484848, 0.6932996632996633, 0.5851346801346802, 0.5636700336700337, 0.47260942760942765, 0.7915151515151515, 0.7723232323232323, 0.7314983164983165, 0.7481481481481481, 0.6992424242424242, 0.7338720538720539, 0.7027441077441078, 0.7892424242424242, 0.7123063973063974, 0.7429797979797979, 0.7014814814814815, 0.6971043771043771, 0.698872053872054, 0.7673569023569025, 0.7326936026936027, 0.8079292929292929, 0.7447979797979798, 0.7708080808080808, 0.7905723905723906, 0.795976430976431, 0.7564646464646465, 0.5430808080808082, 0.7872053872053871, 0.7520370370370371, 0.7935353535353536, 0.766902356902357, 0.7306397306397306, 0.807996632996633, 0.8085690235690236]}, {\"categories\": [\"0\", \"1\", \"2\", \"3\", \"4\", \"5\", \"6\", \"7\", \"8\", \"9\", \"10\", \"11\", \"12\", \"13\", \"14\", \"15\", \"16\", \"17\", \"18\", \"19\", \"20\", \"21\", \"22\", \"23\", \"24\", \"25\", \"26\", \"27\", \"28\", \"29\", \"30\", \"31\", \"32\", \"33\", \"34\", \"35\", \"36\", \"37\", \"38\", \"39\", \"40\", \"41\", \"42\", \"44\", \"45\", \"47\", \"48\", \"49\"], \"mode\": \"lines\", \"name\": \"precision_score_micro_max\", \"stepped\": true, \"type\": \"scatter\", \"data\": [0.7852693602693602, 0.7852693602693602, 0.7852693602693602, 0.7852693602693602, 0.7852693602693602, 0.7852693602693602, 0.7852693602693602, 0.7852693602693602, 0.7852693602693602, 0.7852693602693602, 0.7852693602693602, 0.7852693602693602, 0.7852693602693602, 0.7852693602693602, 0.7852693602693602, 0.7852693602693602, 0.7852693602693602, 0.7852693602693602, 0.7852693602693602, 0.7915151515151515, 0.7915151515151515, 0.7915151515151515, 0.7915151515151515, 0.7915151515151515, 0.7915151515151515, 0.7915151515151515, 0.7915151515151515, 0.7915151515151515, 0.7915151515151515, 0.7915151515151515, 0.7915151515151515, 0.7915151515151515, 0.7915151515151515, 0.7915151515151515, 0.8079292929292929, 0.8079292929292929, 0.8079292929292929, 0.8079292929292929, 0.8079292929292929, 0.8079292929292929, 0.8079292929292929, 0.8079292929292929, 0.8079292929292929, 0.8079292929292929, 0.8079292929292929, 0.8079292929292929, 0.807996632996633, 0.8085690235690236]}], \"balanced_accuracy\": [{\"categories\": [\"0\", \"1\", \"2\", \"3\", \"4\", \"5\", \"6\", \"7\", \"8\", \"9\", \"10\", \"11\", \"12\", \"13\", \"14\", \"15\", \"16\", \"17\", \"18\", \"19\", \"20\", \"21\", \"22\", \"23\", \"24\", \"25\", \"26\", \"27\", \"28\", \"29\", \"30\", \"31\", \"32\", \"33\", \"34\", \"35\", \"36\", \"37\", \"38\", \"39\", \"40\", \"41\", \"42\", \"44\", \"45\", \"47\", \"48\", \"49\"], \"mode\": \"markers\", \"name\": \"balanced_accuracy\", \"stepped\": false, \"type\": \"scatter\", \"data\": [0.6155667968889177, 0.5541679568557786, 0.43411856972220725, 0.41451197151934943, 0.40735573912203676, 0.47894877181800527, 0.4878250143232464, 0.4352652089742932, 0.48301599130707434, 0.5887870415872909, 0.5245679183388486, 0.5767812572099068, 0.5874727348921596, 0.523202951375532, 0.3348934652759204, 0.4748114022806358, 0.5903914912236564, 0.4751305415834363, 0.4965398751227867, 0.6240046524212416, 0.5962884258301274, 0.5037278053757023, 0.5460484105416752, 0.4722607045920462, 0.5068442494469529, 0.476705913970118, 0.6195368650655606, 0.6768210477603734, 0.5506712106552651, 0.6944579387355789, 0.4711667527173611, 0.47292054528847594, 0.581416929180047, 0.6305904769912664, 0.6600157618884556, 0.5468756714350368, 0.5957423644931493, 0.6182328757326019, 0.6396500314953811, 0.5658995138566817, 0.3333333333333333, 0.6182841349999503, 0.5599598539271252, 0.6189204288276109, 0.5848629094549267, 0.5150284216442134, 0.6594864442992971, 0.6608627372700154]}, {\"categories\": [\"0\", \"1\", \"2\", \"3\", \"4\", \"5\", \"6\", \"7\", \"8\", \"9\", \"10\", \"11\", \"12\", \"13\", \"14\", \"15\", \"16\", \"17\", \"18\", \"19\", \"20\", \"21\", \"22\", \"23\", \"24\", \"25\", \"26\", \"27\", \"28\", \"29\", \"30\", \"31\", \"32\", \"33\", \"34\", \"35\", \"36\", \"37\", \"38\", \"39\", \"40\", \"41\", \"42\", \"44\", \"45\", \"47\", \"48\", \"49\"], \"mode\": \"lines\", \"name\": \"balanced_accuracy_max\", \"stepped\": true, \"type\": \"scatter\", \"data\": [0.6155667968889177, 0.6155667968889177, 0.6155667968889177, 0.6155667968889177, 0.6155667968889177, 0.6155667968889177, 0.6155667968889177, 0.6155667968889177, 0.6155667968889177, 0.6155667968889177, 0.6155667968889177, 0.6155667968889177, 0.6155667968889177, 0.6155667968889177, 0.6155667968889177, 0.6155667968889177, 0.6155667968889177, 0.6155667968889177, 0.6155667968889177, 0.6240046524212416, 0.6240046524212416, 0.6240046524212416, 0.6240046524212416, 0.6240046524212416, 0.6240046524212416, 0.6240046524212416, 0.6240046524212416, 0.6768210477603734, 0.6768210477603734, 0.6944579387355789, 0.6944579387355789, 0.6944579387355789, 0.6944579387355789, 0.6944579387355789, 0.6944579387355789, 0.6944579387355789, 0.6944579387355789, 0.6944579387355789, 0.6944579387355789, 0.6944579387355789, 0.6944579387355789, 0.6944579387355789, 0.6944579387355789, 0.6944579387355789, 0.6944579387355789, 0.6944579387355789, 0.6944579387355789, 0.6944579387355789]}], \"average_precision_score_micro\": [{\"categories\": [\"0\", \"1\", \"2\", \"3\", \"4\", \"5\", \"6\", \"7\", \"8\", \"9\", \"10\", \"11\", \"12\", \"13\", \"14\", \"15\", \"16\", \"17\", \"18\", \"19\", \"20\", \"21\", \"22\", \"23\", \"24\", \"25\", \"26\", \"27\", \"28\", \"29\", \"30\", \"31\", \"32\", \"33\", \"34\", \"35\", \"36\", \"37\", \"38\", \"39\", \"40\", \"41\", \"42\", \"44\", \"45\", \"47\", \"48\", \"49\"], \"mode\": \"markers\", \"name\": \"average_precision_score_micro\", \"stepped\": false, \"type\": \"scatter\", \"data\": [0.8736734750281702, 0.8347796046790043, 0.6948843564476995, 0.41584041344506667, 0.6446203234371494, 0.7643690313725742, 0.7874796387931146, 0.7125802099650103, 0.7713289304188753, 0.6566577296700608, 0.584172662592835, 0.6377121084204672, 0.6553210865178115, 0.8089133986847377, 0.5743315342326157, 0.7472600072547095, 0.651165884374136, 0.5687055088568335, 0.47828999930707194, 0.8778756479020121, 0.8552114449355758, 0.8084014413569722, 0.827276549166875, 0.7730538108300049, 0.8124060683499224, 0.765853450451447, 0.875952106273408, 0.7991926894832296, 0.819843769062737, 0.7707851585137774, 0.7670555363682855, 0.7628463102833195, 0.8529305904218906, 0.8094618025933791, 0.8925135194941104, 0.8224947168859518, 0.853836158468899, 0.8774875673423072, 0.8814161163077078, 0.837318136444997, 0.49735558616467707, 0.8716331437618826, 0.8334673140717745, 0.8782567552607956, 0.8518219740284713, 0.8080595980226998, 0.892713343490093, 0.8911959721007007]}, {\"categories\": [\"0\", \"1\", \"2\", \"3\", \"4\", \"5\", \"6\", \"7\", \"8\", \"9\", \"10\", \"11\", \"12\", \"13\", \"14\", \"15\", \"16\", \"17\", \"18\", \"19\", \"20\", \"21\", \"22\", \"23\", \"24\", \"25\", \"26\", \"27\", \"28\", \"29\", \"30\", \"31\", \"32\", \"33\", \"34\", \"35\", \"36\", \"37\", \"38\", \"39\", \"40\", \"41\", \"42\", \"44\", \"45\", \"47\", \"48\", \"49\"], \"mode\": \"lines\", \"name\": \"average_precision_score_micro_max\", \"stepped\": true, \"type\": \"scatter\", \"data\": [0.8736734750281702, 0.8736734750281702, 0.8736734750281702, 0.8736734750281702, 0.8736734750281702, 0.8736734750281702, 0.8736734750281702, 0.8736734750281702, 0.8736734750281702, 0.8736734750281702, 0.8736734750281702, 0.8736734750281702, 0.8736734750281702, 0.8736734750281702, 0.8736734750281702, 0.8736734750281702, 0.8736734750281702, 0.8736734750281702, 0.8736734750281702, 0.8778756479020121, 0.8778756479020121, 0.8778756479020121, 0.8778756479020121, 0.8778756479020121, 0.8778756479020121, 0.8778756479020121, 0.8778756479020121, 0.8778756479020121, 0.8778756479020121, 0.8778756479020121, 0.8778756479020121, 0.8778756479020121, 0.8778756479020121, 0.8778756479020121, 0.8925135194941104, 0.8925135194941104, 0.8925135194941104, 0.8925135194941104, 0.8925135194941104, 0.8925135194941104, 0.8925135194941104, 0.8925135194941104, 0.8925135194941104, 0.8925135194941104, 0.8925135194941104, 0.8925135194941104, 0.892713343490093, 0.892713343490093]}], \"accuracy\": [{\"categories\": [\"0\", \"1\", \"2\", \"3\", \"4\", \"5\", \"6\", \"7\", \"8\", \"9\", \"10\", \"11\", \"12\", \"13\", \"14\", \"15\", \"16\", \"17\", \"18\", \"19\", \"20\", \"21\", \"22\", \"23\", \"24\", \"25\", \"26\", \"27\", \"28\", \"29\", \"30\", \"31\", \"32\", \"33\", \"34\", \"35\", \"36\", \"37\", \"38\", \"39\", \"40\", \"41\", \"42\", \"44\", \"45\", \"47\", \"48\", \"49\"], \"mode\": \"markers\", \"name\": \"accuracy\", \"stepped\": false, \"type\": \"scatter\", \"data\": [0.7852693602693602, 0.7503030303030304, 0.651969696969697, 0.42791245791245797, 0.6251851851851852, 0.6979124579124579, 0.711919191919192, 0.656986531986532, 0.7082659932659933, 0.5783670033670033, 0.5325084175084175, 0.5732659932659933, 0.5857239057239058, 0.728989898989899, 0.5448484848484848, 0.6932996632996633, 0.5851346801346802, 0.5636700336700337, 0.47260942760942765, 0.7915151515151515, 0.7723232323232323, 0.7314983164983165, 0.7481481481481481, 0.6992424242424242, 0.7338720538720539, 0.7027441077441078, 0.7892424242424242, 0.7123063973063974, 0.7429797979797979, 0.7014814814814815, 0.6971043771043771, 0.698872053872054, 0.7673569023569025, 0.7326936026936027, 0.8079292929292929, 0.7447979797979798, 0.7708080808080808, 0.7905723905723906, 0.795976430976431, 0.7564646464646465, 0.5430808080808082, 0.7872053872053871, 0.7520370370370371, 0.7935353535353536, 0.766902356902357, 0.7306397306397306, 0.807996632996633, 0.8085690235690236]}, {\"categories\": [\"0\", \"1\", \"2\", \"3\", \"4\", \"5\", \"6\", \"7\", \"8\", \"9\", \"10\", \"11\", \"12\", \"13\", \"14\", \"15\", \"16\", \"17\", \"18\", \"19\", \"20\", \"21\", \"22\", \"23\", \"24\", \"25\", \"26\", \"27\", \"28\", \"29\", \"30\", \"31\", \"32\", \"33\", \"34\", \"35\", \"36\", \"37\", \"38\", \"39\", \"40\", \"41\", \"42\", \"44\", \"45\", \"47\", \"48\", \"49\"], \"mode\": \"lines\", \"name\": \"accuracy_max\", \"stepped\": true, \"type\": \"scatter\", \"data\": [0.7852693602693602, 0.7852693602693602, 0.7852693602693602, 0.7852693602693602, 0.7852693602693602, 0.7852693602693602, 0.7852693602693602, 0.7852693602693602, 0.7852693602693602, 0.7852693602693602, 0.7852693602693602, 0.7852693602693602, 0.7852693602693602, 0.7852693602693602, 0.7852693602693602, 0.7852693602693602, 0.7852693602693602, 0.7852693602693602, 0.7852693602693602, 0.7915151515151515, 0.7915151515151515, 0.7915151515151515, 0.7915151515151515, 0.7915151515151515, 0.7915151515151515, 0.7915151515151515, 0.7915151515151515, 0.7915151515151515, 0.7915151515151515, 0.7915151515151515, 0.7915151515151515, 0.7915151515151515, 0.7915151515151515, 0.7915151515151515, 0.8079292929292929, 0.8079292929292929, 0.8079292929292929, 0.8079292929292929, 0.8079292929292929, 0.8079292929292929, 0.8079292929292929, 0.8079292929292929, 0.8079292929292929, 0.8079292929292929, 0.8079292929292929, 0.8079292929292929, 0.807996632996633, 0.8085690235690236]}], \"matthews_correlation\": [{\"categories\": [\"0\", \"1\", \"2\", \"3\", \"4\", \"5\", \"6\", \"7\", \"8\", \"9\", \"10\", \"11\", \"12\", \"13\", \"14\", \"15\", \"16\", \"17\", \"18\", \"19\", \"20\", \"21\", \"22\", \"23\", \"24\", \"25\", \"26\", \"27\", \"28\", \"29\", \"30\", \"31\", \"32\", \"33\", \"34\", \"35\", \"36\", \"37\", \"38\", \"39\", \"40\", \"41\", \"42\", \"44\", \"45\", \"47\", \"48\", \"49\"], \"mode\": \"markers\", \"name\": \"matthews_correlation\", \"stepped\": false, \"type\": \"scatter\", \"data\": [0.5992248105038861, 0.534008339355574, 0.34514409430037324, 0.1320293795378347, 0.30075392786025673, 0.429017836956346, 0.4612189057395377, 0.3721514588710013, 0.4589423073048906, 0.3612882832060176, 0.2741446624754292, 0.34849374929860133, 0.3640998595773219, 0.5008385159356004, 0.0270705855455959, 0.4221698193876537, 0.36059591675352437, 0.24964312385786833, 0.23253109882776526, 0.6116443466917376, 0.5726962693454243, 0.501056591479727, 0.5271666073330897, 0.45382464470219247, 0.5050198509594735, 0.4539310053967807, 0.6074219732617044, 0.515907094452224, 0.5233903506815948, 0.5144404291906154, 0.4455738250094763, 0.44833203672199046, 0.5687143072140141, 0.5262112873043823, 0.6429341239387757, 0.5226131151751455, 0.5702889997686545, 0.6105434059899231, 0.6201215626343285, 0.5452813499278458, 0.0, 0.6043134352520979, 0.5358548985477939, 0.6164375436912348, 0.5694563705055895, 0.49827916165474423, 0.6432800270053758, 0.643726818912224]}, {\"categories\": [\"0\", \"1\", \"2\", \"3\", \"4\", \"5\", \"6\", \"7\", \"8\", \"9\", \"10\", \"11\", \"12\", \"13\", \"14\", \"15\", \"16\", \"17\", \"18\", \"19\", \"20\", \"21\", \"22\", \"23\", \"24\", \"25\", \"26\", \"27\", \"28\", \"29\", \"30\", \"31\", \"32\", \"33\", \"34\", \"35\", \"36\", \"37\", \"38\", \"39\", \"40\", \"41\", \"42\", \"44\", \"45\", \"47\", \"48\", \"49\"], \"mode\": \"lines\", \"name\": \"matthews_correlation_max\", \"stepped\": true, \"type\": \"scatter\", \"data\": [0.5992248105038861, 0.5992248105038861, 0.5992248105038861, 0.5992248105038861, 0.5992248105038861, 0.5992248105038861, 0.5992248105038861, 0.5992248105038861, 0.5992248105038861, 0.5992248105038861, 0.5992248105038861, 0.5992248105038861, 0.5992248105038861, 0.5992248105038861, 0.5992248105038861, 0.5992248105038861, 0.5992248105038861, 0.5992248105038861, 0.5992248105038861, 0.6116443466917376, 0.6116443466917376, 0.6116443466917376, 0.6116443466917376, 0.6116443466917376, 0.6116443466917376, 0.6116443466917376, 0.6116443466917376, 0.6116443466917376, 0.6116443466917376, 0.6116443466917376, 0.6116443466917376, 0.6116443466917376, 0.6116443466917376, 0.6116443466917376, 0.6429341239387757, 0.6429341239387757, 0.6429341239387757, 0.6429341239387757, 0.6429341239387757, 0.6429341239387757, 0.6429341239387757, 0.6429341239387757, 0.6429341239387757, 0.6429341239387757, 0.6429341239387757, 0.6429341239387757, 0.6432800270053758, 0.643726818912224]}], \"AUC_micro\": [{\"categories\": [\"0\", \"1\", \"2\", \"3\", \"4\", \"5\", \"6\", \"7\", \"8\", \"9\", \"10\", \"11\", \"12\", \"13\", \"14\", \"15\", \"16\", \"17\", \"18\", \"19\", \"20\", \"21\", \"22\", \"23\", \"24\", \"25\", \"26\", \"27\", \"28\", \"29\", \"30\", \"31\", \"32\", \"33\", \"34\", \"35\", \"36\", \"37\", \"38\", \"39\", \"40\", \"41\", \"42\", \"44\", \"45\", \"47\", \"48\", \"49\"], \"mode\": \"markers\", \"name\": \"AUC_micro\", \"stepped\": false, \"type\": \"scatter\", \"data\": [0.9268433395401829, 0.9023118844165561, 0.8276585845832058, 0.5895890376832296, 0.804057245859266, 0.8631174403972385, 0.874787058718498, 0.8356909141924294, 0.8639002606026596, 0.773418467503316, 0.7160152658742304, 0.7592918792300104, 0.7722487492772846, 0.8878716204553957, 0.7713416968506617, 0.8574247746828556, 0.7705727004897461, 0.716538406795225, 0.6760795709621467, 0.9293489314440704, 0.9164793124851206, 0.8844551546610889, 0.8988676087474067, 0.865403344046526, 0.8865434815324966, 0.8631038401693706, 0.9281246958218549, 0.8778376309390197, 0.8948152441927695, 0.8705983437064245, 0.8642078631432167, 0.8601991161616164, 0.9136283470224127, 0.8873526187803966, 0.9381386457164235, 0.8958725223616636, 0.9155282369146006, 0.9289183023415978, 0.9316765098374317, 0.9053140950753326, 0.7352020202020202, 0.9257429622402475, 0.9030361429956129, 0.9291834959442914, 0.9134148413852329, 0.8874580495612693, 0.9381898802843246, 0.9367555325987144]}, {\"categories\": [\"0\", \"1\", \"2\", \"3\", \"4\", \"5\", \"6\", \"7\", \"8\", \"9\", \"10\", \"11\", \"12\", \"13\", \"14\", \"15\", \"16\", \"17\", \"18\", \"19\", \"20\", \"21\", \"22\", \"23\", \"24\", \"25\", \"26\", \"27\", \"28\", \"29\", \"30\", \"31\", \"32\", \"33\", \"34\", \"35\", \"36\", \"37\", \"38\", \"39\", \"40\", \"41\", \"42\", \"44\", \"45\", \"47\", \"48\", \"49\"], \"mode\": \"lines\", \"name\": \"AUC_micro_max\", \"stepped\": true, \"type\": \"scatter\", \"data\": [0.9268433395401829, 0.9268433395401829, 0.9268433395401829, 0.9268433395401829, 0.9268433395401829, 0.9268433395401829, 0.9268433395401829, 0.9268433395401829, 0.9268433395401829, 0.9268433395401829, 0.9268433395401829, 0.9268433395401829, 0.9268433395401829, 0.9268433395401829, 0.9268433395401829, 0.9268433395401829, 0.9268433395401829, 0.9268433395401829, 0.9268433395401829, 0.9293489314440704, 0.9293489314440704, 0.9293489314440704, 0.9293489314440704, 0.9293489314440704, 0.9293489314440704, 0.9293489314440704, 0.9293489314440704, 0.9293489314440704, 0.9293489314440704, 0.9293489314440704, 0.9293489314440704, 0.9293489314440704, 0.9293489314440704, 0.9293489314440704, 0.9381386457164235, 0.9381386457164235, 0.9381386457164235, 0.9381386457164235, 0.9381386457164235, 0.9381386457164235, 0.9381386457164235, 0.9381386457164235, 0.9381386457164235, 0.9381386457164235, 0.9381386457164235, 0.9381386457164235, 0.9381898802843246, 0.9381898802843246]}], \"log_loss\": [{\"categories\": [\"0\", \"1\", \"2\", \"3\", \"4\", \"5\", \"6\", \"7\", \"8\", \"9\", \"10\", \"11\", \"12\", \"13\", \"14\", \"15\", \"16\", \"17\", \"18\", \"19\", \"20\", \"21\", \"22\", \"23\", \"24\", \"25\", \"26\", \"27\", \"28\", \"29\", \"30\", \"31\", \"32\", \"33\", \"34\", \"35\", \"36\", \"37\", \"38\", \"39\", \"40\", \"41\", \"42\", \"44\", \"45\", \"47\", \"48\", \"49\"], \"mode\": \"markers\", \"name\": \"log_loss\", \"stepped\": false, \"type\": \"scatter\", \"data\": [0.5243341570556116, 0.6083310954921223, 0.812236682608526, 1.09570334761007, 0.8460807748103729, 0.7085092825319276, 0.6800357353370253, 0.8100490248864399, 0.7366091428413326, 0.9125190364036383, 1.0447687330173268, 0.9469824774325443, 0.9635622720414118, 0.7754151302642797, 0.8757687232136152, 0.7182855954100149, 0.8900054438643424, 1.0924867513389749, 1.0795991177395639, 0.5156948103321021, 0.5567642875746716, 0.6757947819581606, 0.6136615728650779, 0.7596931192636234, 0.6678340068321176, 0.762540383817738, 0.5202964487666258, 0.7433818447385122, 0.7788541986684515, 0.9489363520919348, 0.7676282219142586, 0.7658808803839104, 0.577491284436365, 0.7003375475953852, 0.4786554212473167, 0.6707895826225289, 0.5594605663615645, 0.5188861162692991, 0.5040534100319267, 0.5968733847893959, 0.8897487076526994, 0.5285844752052623, 0.6031872590441031, 0.5219815335581234, 0.5772236331379482, 0.6500596925150818, 0.4811204351175807, 0.491008367199312]}, {\"categories\": [\"0\", \"1\", \"2\", \"3\", \"4\", \"5\", \"6\", \"7\", \"8\", \"9\", \"10\", \"11\", \"12\", \"13\", \"14\", \"15\", \"16\", \"17\", \"18\", \"19\", \"20\", \"21\", \"22\", \"23\", \"24\", \"25\", \"26\", \"27\", \"28\", \"29\", \"30\", \"31\", \"32\", \"33\", \"34\", \"35\", \"36\", \"37\", \"38\", \"39\", \"40\", \"41\", \"42\", \"44\", \"45\", \"47\", \"48\", \"49\"], \"mode\": \"lines\", \"name\": \"log_loss_min\", \"stepped\": true, \"type\": \"scatter\", \"data\": [0.5243341570556116, 0.5243341570556116, 0.5243341570556116, 0.5243341570556116, 0.5243341570556116, 0.5243341570556116, 0.5243341570556116, 0.5243341570556116, 0.5243341570556116, 0.5243341570556116, 0.5243341570556116, 0.5243341570556116, 0.5243341570556116, 0.5243341570556116, 0.5243341570556116, 0.5243341570556116, 0.5243341570556116, 0.5243341570556116, 0.5243341570556116, 0.5156948103321021, 0.5156948103321021, 0.5156948103321021, 0.5156948103321021, 0.5156948103321021, 0.5156948103321021, 0.5156948103321021, 0.5156948103321021, 0.5156948103321021, 0.5156948103321021, 0.5156948103321021, 0.5156948103321021, 0.5156948103321021, 0.5156948103321021, 0.5156948103321021, 0.4786554212473167, 0.4786554212473167, 0.4786554212473167, 0.4786554212473167, 0.4786554212473167, 0.4786554212473167, 0.4786554212473167, 0.4786554212473167, 0.4786554212473167, 0.4786554212473167, 0.4786554212473167, 0.4786554212473167, 0.4786554212473167, 0.4786554212473167]}]}, \"metricName\": null, \"primaryMetricName\": \"AUC_weighted\", \"showLegend\": false}, \"run_metrics\": [{\"name\": \"experiment_status\", \"run_id\": \"AutoML_8095cb95-3f69-4245-b118-045f8f840148\", \"categories\": [0, 1, 2, 3, 4, 5, 6, 7, 8, 9, 10, 11, 12, 13, 14], \"series\": [{\"data\": [\"DatasetEvaluation\", \"FeaturesGeneration\", \"DatasetFeaturization\", \"DatasetFeaturizationCompleted\", \"DatasetBalancing\", \"DatasetCrossValidationSplit\", \"ModelSelection\", \"BestRunExplainModel\", \"ModelExplanationDataSetSetup\", \"PickSurrogateModel\", \"EngineeredFeatureExplanations\", \"EngineeredFeatureExplanations\", \"RawFeaturesExplanations\", \"RawFeaturesExplanations\", \"BestRunExplainModel\"]}]}, {\"name\": \"experiment_status_description\", \"run_id\": \"AutoML_8095cb95-3f69-4245-b118-045f8f840148\", \"categories\": [0, 1, 2, 3, 4, 5, 6, 7, 8, 9, 10, 11, 12, 13, 14], \"series\": [{\"data\": [\"Gathering dataset statistics.\", \"Generating features for the dataset.\", \"Beginning to fit featurizers and featurize the dataset.\", \"Completed fit featurizers and featurizing the dataset.\", \"Performing class balancing sweeping\", \"Generating individually featurized CV splits.\", \"Beginning model selection.\", \"Best run model explanations started\", \"Model explanations data setup completed\", \"Choosing LinearModel as the surrogate model for explanations\", \"Computation of engineered features started\", \"Computation of engineered features completed\", \"Computation of raw features started\", \"Computation of raw features completed\", \"Best run model explanations completed\"]}]}, {\"name\": \"recall_score_macro\", \"run_id\": \"AutoML_8095cb95-3f69-4245-b118-045f8f840148\", \"categories\": [0], \"series\": [{\"data\": [0.6594864442992971]}]}, {\"name\": \"matthews_correlation\", \"run_id\": \"AutoML_8095cb95-3f69-4245-b118-045f8f840148\", \"categories\": [0], \"series\": [{\"data\": [0.6432800270053758]}]}, {\"name\": \"AUC_micro\", \"run_id\": \"AutoML_8095cb95-3f69-4245-b118-045f8f840148\", \"categories\": [0], \"series\": [{\"data\": [0.9381898802843246]}]}, {\"name\": \"average_precision_score_micro\", \"run_id\": \"AutoML_8095cb95-3f69-4245-b118-045f8f840148\", \"categories\": [0], \"series\": [{\"data\": [0.892713343490093]}]}, {\"name\": \"recall_score_weighted\", \"run_id\": \"AutoML_8095cb95-3f69-4245-b118-045f8f840148\", \"categories\": [0], \"series\": [{\"data\": [0.807996632996633]}]}, {\"name\": \"f1_score_weighted\", \"run_id\": \"AutoML_8095cb95-3f69-4245-b118-045f8f840148\", \"categories\": [0], \"series\": [{\"data\": [0.7991364842565343]}]}, {\"name\": \"f1_score_macro\", \"run_id\": \"AutoML_8095cb95-3f69-4245-b118-045f8f840148\", \"categories\": [0], \"series\": [{\"data\": [0.6884696532629246]}]}, {\"name\": \"balanced_accuracy\", \"run_id\": \"AutoML_8095cb95-3f69-4245-b118-045f8f840148\", \"categories\": [0], \"series\": [{\"data\": [0.6594864442992971]}]}, {\"name\": \"average_precision_score_weighted\", \"run_id\": \"AutoML_8095cb95-3f69-4245-b118-045f8f840148\", \"categories\": [0], \"series\": [{\"data\": [0.8763385845828747]}]}, {\"name\": \"average_precision_score_macro\", \"run_id\": \"AutoML_8095cb95-3f69-4245-b118-045f8f840148\", \"categories\": [0], \"series\": [{\"data\": [0.7644353306546675]}]}, {\"name\": \"weighted_accuracy\", \"run_id\": \"AutoML_8095cb95-3f69-4245-b118-045f8f840148\", \"categories\": [0], \"series\": [{\"data\": [0.8528958172235915]}]}, {\"name\": \"norm_macro_recall\", \"run_id\": \"AutoML_8095cb95-3f69-4245-b118-045f8f840148\", \"categories\": [0], \"series\": [{\"data\": [0.48922966644894567]}]}, {\"name\": \"recall_score_micro\", \"run_id\": \"AutoML_8095cb95-3f69-4245-b118-045f8f840148\", \"categories\": [0], \"series\": [{\"data\": [0.807996632996633]}]}, {\"name\": \"log_loss\", \"run_id\": \"AutoML_8095cb95-3f69-4245-b118-045f8f840148\", \"categories\": [0], \"series\": [{\"data\": [0.4811204351175807]}]}, {\"name\": \"precision_score_micro\", \"run_id\": \"AutoML_8095cb95-3f69-4245-b118-045f8f840148\", \"categories\": [0], \"series\": [{\"data\": [0.807996632996633]}]}, {\"name\": \"precision_score_weighted\", \"run_id\": \"AutoML_8095cb95-3f69-4245-b118-045f8f840148\", \"categories\": [0], \"series\": [{\"data\": [0.8045829114509792]}]}, {\"name\": \"AUC_macro\", \"run_id\": \"AutoML_8095cb95-3f69-4245-b118-045f8f840148\", \"categories\": [0], \"series\": [{\"data\": [0.9050862986107231]}]}, {\"name\": \"f1_score_micro\", \"run_id\": \"AutoML_8095cb95-3f69-4245-b118-045f8f840148\", \"categories\": [0], \"series\": [{\"data\": [0.8079966329966329]}]}, {\"name\": \"precision_score_macro\", \"run_id\": \"AutoML_8095cb95-3f69-4245-b118-045f8f840148\", \"categories\": [0], \"series\": [{\"data\": [0.7567937684020211]}]}, {\"name\": \"AUC_weighted\", \"run_id\": \"AutoML_8095cb95-3f69-4245-b118-045f8f840148\", \"categories\": [0], \"series\": [{\"data\": [0.9108035788618395]}]}, {\"name\": \"accuracy\", \"run_id\": \"AutoML_8095cb95-3f69-4245-b118-045f8f840148\", \"categories\": [0], \"series\": [{\"data\": [0.807996632996633]}]}], \"run_logs\": \"\\nRun is completed.\", \"graph\": {}, \"widget_settings\": {\"childWidgetDisplay\": \"popup\", \"send_telemetry\": false, \"log_level\": \"INFO\", \"sdk_version\": \"1.19.0\"}, \"loading\": false}"
     },
     "metadata": {},
     "output_type": "display_data"
    }
   ],
   "source": [
    "RunDetails(remote_run).show()"
   ]
  },
  {
   "cell_type": "markdown",
   "metadata": {},
   "source": [
    "## Best Model\n",
    "\n",
    "This section demonstrates the best performing model, downloads and registers it."
   ]
  },
  {
   "cell_type": "code",
   "execution_count": 29,
   "metadata": {
    "collapsed": false,
    "gather": {
     "logged": 1598431425670
    },
    "jupyter": {
     "outputs_hidden": false,
     "source_hidden": false
    },
    "nteract": {
     "transient": {
      "deleting": false
     }
    }
   },
   "outputs": [
    {
     "name": "stdout",
     "output_type": "stream",
     "text": [
      "Best AutoML model name: AutoML8095cb95348\n",
      "\n",
      "Best AutoML model run: Run(Experiment: pump_up,\n",
      "Id: AutoML_8095cb95-3f69-4245-b118-045f8f840148_48,\n",
      "Type: azureml.scriptrun,\n",
      "Status: Completed)\n",
      "\n",
      "Best AutoML model specification: Pipeline(memory=None,\n",
      "         steps=[('datatransformer',\n",
      "                 DataTransformer(enable_dnn=None, enable_feature_sweeping=None,\n",
      "                                 feature_sweeping_config=None,\n",
      "                                 feature_sweeping_timeout=None,\n",
      "                                 featurization_config=None, force_text_dnn=None,\n",
      "                                 is_cross_validation=None,\n",
      "                                 is_onnx_compatible=None, logger=None,\n",
      "                                 observer=None, task=None, working_dir=None)),\n",
      "                ('prefittedsoftvotingclassifier',...\n",
      "                                                                                                intercept_scaling=1,\n",
      "                                                                                                l1_ratio=None,\n",
      "                                                                                                max_iter=100,\n",
      "                                                                                                multi_class='multinomial',\n",
      "                                                                                                n_jobs=-1,\n",
      "                                                                                                penalty='l2',\n",
      "                                                                                                random_state=None,\n",
      "                                                                                                solver='newton-cg',\n",
      "                                                                                                tol=0.0001,\n",
      "                                                                                                verbose=0,\n",
      "                                                                                                warm_start=False))],\n",
      "                                                                     verbose=False))],\n",
      "                                               flatten_transform=None,\n",
      "                                               weights=[0.6666666666666666,\n",
      "                                                        0.06666666666666667,\n",
      "                                                        0.06666666666666667,\n",
      "                                                        0.06666666666666667,\n",
      "                                                        0.06666666666666667,\n",
      "                                                        0.06666666666666667]))],\n",
      "         verbose=False)\n",
      "Y_transformer(['LabelEncoder', LabelEncoder()])\n"
     ]
    }
   ],
   "source": [
    "# Retrieve the best automl model\n",
    "# source: https://docs.microsoft.com/en-us/azure/machine-learning/how-to-configure-auto-train\n",
    "best_automl_run, automl_model = remote_run.get_output()\n",
    "automl_model_name = best_automl_run.properties['model_name']\n",
    "print('Best AutoML model name: ' + automl_model_name,\n",
    "      'Best AutoML model run: ' + str(best_automl_run),\n",
    "      'Best AutoML model specification: ' + str(automl_model), sep = '\\n\\n')"
   ]
  },
  {
   "cell_type": "code",
   "execution_count": 47,
   "metadata": {
    "collapsed": false,
    "gather": {
     "logged": 1598431426111
    },
    "jupyter": {
     "outputs_hidden": false,
     "source_hidden": false
    },
    "nteract": {
     "transient": {
      "deleting": false
     }
    }
   },
   "outputs": [
    {
     "data": {
      "text/plain": [
       "'outputs_automl/model.pkl'"
      ]
     },
     "execution_count": 47,
     "metadata": {},
     "output_type": "execute_result"
    }
   ],
   "source": [
    "# Register and save the best model\n",
    "automl_model_registered = remote_run.register_model(model_name='pump_it_up_automl_model')\n",
    "\n",
    "automl_model_registered.download(target_dir=\"outputs_automl\", exist_ok=True)"
   ]
  },
  {
   "cell_type": "markdown",
   "metadata": {},
   "source": [
    "## Model Deployment\n",
    "\n",
    "The AutoML model showed better performance and therefore is it deployed as a web service. "
   ]
  },
  {
   "cell_type": "code",
   "execution_count": 95,
   "metadata": {},
   "outputs": [],
   "source": [
    "# source: https://docs.microsoft.com/en-us/azure/machine-learning/tutorial-deploy-models-with-aml?view=azure-ml-py\n",
    "aciconfig = AciWebservice.deploy_configuration(cpu_cores=1, \n",
    "                                               memory_gb=4, \n",
    "                                               enable_app_insights=True,\n",
    "                                               description='Predict Pump It Up')\n",
    "\n",
    "model = Model(ws, 'pump_it_up_automl_model')\n",
    "\n",
    "env_deploy = Environment.get(workspace=ws, name='AzureML-AutoML')\n",
    "\n",
    "inference_config = InferenceConfig(entry_script=\"score.py\", environment=env_deploy)\n",
    "\n",
    "service = Model.deploy(workspace=ws, \n",
    "                       name='pump-it-up-automl', \n",
    "                       models=[model], \n",
    "                       inference_config=inference_config, \n",
    "                       deployment_config=aciconfig)"
   ]
  },
  {
   "cell_type": "code",
   "execution_count": 96,
   "metadata": {},
   "outputs": [
    {
     "name": "stdout",
     "output_type": "stream",
     "text": [
      "Tips: You can try get_logs(): https://aka.ms/debugimage#dockerlog or local deployment: https://aka.ms/debugimage#debug-locally to debug if deployment takes longer than 10 minutes.\n",
      "Running....................................\n",
      "Succeeded\n",
      "ACI service creation operation finished, operation \"Succeeded\"\n"
     ]
    }
   ],
   "source": [
    "service.wait_for_deployment(show_output=True)"
   ]
  },
  {
   "cell_type": "code",
   "execution_count": 97,
   "metadata": {},
   "outputs": [
    {
     "name": "stdout",
     "output_type": "stream",
     "text": [
      "http://c913e7a4-71e0-4b6c-8eb3-ee0063c263ed.eastus2.azurecontainer.io/score\n",
      "http://c913e7a4-71e0-4b6c-8eb3-ee0063c263ed.eastus2.azurecontainer.io/swagger.json\n"
     ]
    }
   ],
   "source": [
    "print(service.scoring_uri)\n",
    "print(service.swagger_uri)"
   ]
  },
  {
   "cell_type": "markdown",
   "metadata": {
    "gather": {
     "logged": 1598431657736
    },
    "jupyter": {
     "outputs_hidden": false,
     "source_hidden": false
    },
    "nteract": {
     "transient": {
      "deleting": false
     }
    }
   },
   "source": [
    "The deployed endpoint is tested by sending input data to it."
   ]
  },
  {
   "cell_type": "code",
   "execution_count": 99,
   "metadata": {},
   "outputs": [
    {
     "name": "stdout",
     "output_type": "stream",
     "text": [
      "['functional']\n"
     ]
    }
   ],
   "source": [
    "# scoring endpoint\n",
    "scoring_uri = service.scoring_uri\n",
    "\n",
    "data = {\n",
    "  \"data\": [\n",
    "    {\n",
    "      \"amount_tsh\": 0,\n",
    "      \"date_recorded\": \"2013-02-04 00:00:00,000000\",\n",
    "      \"funder\": \"Dmdd\",\n",
    "      \"gps_height\": 1996,\n",
    "      \"installer\": \"DMDD\",\n",
    "      \"longitude\": 35.2907992,\n",
    "      \"latitude\": -4.05969643,\n",
    "      \"wpt_name\": \"Dinamu Secondary School\",\n",
    "      \"num_private\": 0,\n",
    "      \"basin\": \"Internal\",\n",
    "      \"subvillage\": \"Magoma\",\n",
    "      \"region\": \"Manyara\",\n",
    "      \"region_code\": 21,\n",
    "      \"district_code\": 3,\n",
    "      \"lga\": \"Mbulu\",\n",
    "      \"ward\": \"Bashay\",\n",
    "      \"population\": 321,\n",
    "      \"public_meeting\": \"True\",\n",
    "      \"scheme_management\": \"Parastatal\",\n",
    "      \"scheme_name\": \"\",\n",
    "      \"permit\": \"True\",\n",
    "      \"construction_year\": 2012,\n",
    "      \"extraction_type\": \"other\",\n",
    "      \"extraction_type_group\": \"other\",\n",
    "      \"extraction_type_class\": \"other\",\n",
    "      \"management\": \"parastatal\",\n",
    "      \"management_group\": \"parastatal\",\n",
    "      \"payment\": \"never pay\",\n",
    "      \"payment_type\": \"never pay\",\n",
    "      \"water_quality\": \"soft\",\n",
    "      \"quality_group\": \"good\",\n",
    "      \"quantity\": \"seasonal\",\n",
    "      \"quantity_group\": \"seasonal\",\n",
    "      \"source\": \"rainwater harvesting\",\n",
    "      \"source_type\": \"rainwater harvesting\",\n",
    "      \"source_class\": \"surface\",\n",
    "      \"waterpoint_type\": \"other\",\n",
    "      \"waterpoint_type_group\": \"other\"\n",
    "    }\n",
    "  ]\n",
    "}\n",
    "# Convert to JSON string\n",
    "input_data = json.dumps(data)\n",
    "\n",
    "# Set the content type\n",
    "headers = {'Content-Type': 'application/json'}\n",
    "\n",
    "# Make the request and display the response\n",
    "resp = requests.post(scoring_uri, input_data, headers=headers)\n",
    "print(resp.json())"
   ]
  },
  {
   "cell_type": "markdown",
   "metadata": {
    "gather": {
     "logged": 1598432765711
    },
    "jupyter": {
     "outputs_hidden": false,
     "source_hidden": false
    },
    "nteract": {
     "transient": {
      "deleting": false
     }
    }
   },
   "source": [
    "Access the logs of the web service and clean up resources (web service and compute cluster)."
   ]
  },
  {
   "cell_type": "code",
   "execution_count": 100,
   "metadata": {},
   "outputs": [
    {
     "name": "stdout",
     "output_type": "stream",
     "text": [
      "2020-12-28T20:18:29,756042900+00:00 - iot-server/run \n",
      "2020-12-28T20:18:29,759879400+00:00 - nginx/run \n",
      "2020-12-28T20:18:29,766060900+00:00 - gunicorn/run \n",
      "2020-12-28T20:18:29,765251500+00:00 - rsyslog/run \n",
      "/usr/sbin/nginx: /azureml-envs/azureml_8eff28b157f42edcd2424a5aae6c8074/lib/libcrypto.so.1.0.0: no version information available (required by /usr/sbin/nginx)\n",
      "/usr/sbin/nginx: /azureml-envs/azureml_8eff28b157f42edcd2424a5aae6c8074/lib/libcrypto.so.1.0.0: no version information available (required by /usr/sbin/nginx)\n",
      "/usr/sbin/nginx: /azureml-envs/azureml_8eff28b157f42edcd2424a5aae6c8074/lib/libssl.so.1.0.0: no version information available (required by /usr/sbin/nginx)\n",
      "/usr/sbin/nginx: /azureml-envs/azureml_8eff28b157f42edcd2424a5aae6c8074/lib/libssl.so.1.0.0: no version information available (required by /usr/sbin/nginx)\n",
      "/usr/sbin/nginx: /azureml-envs/azureml_8eff28b157f42edcd2424a5aae6c8074/lib/libssl.so.1.0.0: no version information available (required by /usr/sbin/nginx)\n",
      "rsyslogd: /azureml-envs/azureml_8eff28b157f42edcd2424a5aae6c8074/lib/libuuid.so.1: no version information available (required by rsyslogd)\n",
      "EdgeHubConnectionString and IOTEDGE_IOTHUBHOSTNAME are not set. Exiting...\n",
      "2020-12-28T20:18:31,157522600+00:00 - iot-server/finish 1 0\n",
      "2020-12-28T20:18:31,236560400+00:00 - Exit code 1 is normal. Not restarting iot-server.\n",
      "Starting gunicorn 19.9.0\n",
      "Listening at: http://127.0.0.1:31311 (60)\n",
      "Using worker: sync\n",
      "worker timeout is set to 300\n",
      "Booting worker with pid: 97\n",
      "SPARK_HOME not set. Skipping PySpark Initialization.\n",
      "Generating new fontManager, this may take some time...\n",
      "Initializing logger\n",
      "2020-12-28 20:18:42,826 | root | INFO | Starting up app insights client\n",
      "Starting up app insights client\n",
      "2020-12-28 20:18:42,827 | root | INFO | Starting up request id generator\n",
      "Starting up request id generator\n",
      "2020-12-28 20:18:42,827 | root | INFO | Starting up app insight hooks\n",
      "Starting up app insight hooks\n",
      "2020-12-28 20:18:42,828 | root | INFO | Invoking user's init function\n",
      "Invoking user's init function\n",
      "2020-12-28 20:18:48,531 | root | INFO | Users's init has completed successfully\n",
      "Users's init has completed successfully\n",
      "/azureml-envs/azureml_8eff28b157f42edcd2424a5aae6c8074/lib/python3.6/site-packages/sklearn/externals/joblib/__init__.py:15: FutureWarning: sklearn.externals.joblib is deprecated in 0.21 and will be removed in 0.23. Please import this functionality directly from joblib, which can be installed with: pip install joblib. If this warning is raised when loading pickled models, you may need to re-serialize those models with scikit-learn 0.21+.\n",
      "  warnings.warn(msg, category=FutureWarning)\n",
      "2020-12-28 20:18:48,536 | root | INFO | Skipping middleware: dbg_model_info as it's not enabled.\n",
      "Skipping middleware: dbg_model_info as it's not enabled.\n",
      "2020-12-28 20:18:48,537 | root | INFO | Skipping middleware: dbg_resource_usage as it's not enabled.\n",
      "Skipping middleware: dbg_resource_usage as it's not enabled.\n",
      "2020-12-28 20:18:48,540 | root | INFO | Scoring timeout is found from os.environ: 60000 ms\n",
      "Scoring timeout is found from os.environ: 60000 ms\n",
      "2020-12-28 20:18:48,558 | root | INFO | Swagger file not present\n",
      "Swagger file not present\n",
      "2020-12-28 20:18:48,558 | root | INFO | 404\n",
      "404\n",
      "127.0.0.1 - - [28/Dec/2020:20:18:48 +0000] \"GET /swagger.json HTTP/1.0\" 404 19 \"-\" \"Go-http-client/1.1\"\n",
      "2020-12-28 20:18:50,372 | root | INFO | Swagger file not present\n",
      "Swagger file not present\n",
      "2020-12-28 20:18:50,372 | root | INFO | 404\n",
      "404\n",
      "127.0.0.1 - - [28/Dec/2020:20:18:50 +0000] \"GET /swagger.json HTTP/1.0\" 404 19 \"-\" \"Go-http-client/1.1\"\n",
      "2020-12-28 20:18:50,624 | root | INFO | Validation Request Content-Type\n",
      "Validation Request Content-Type\n",
      "2020-12-28 20:18:50,625 | root | INFO | \tHost: localhost:5001\n",
      "\tHost: localhost:5001\n",
      "2020-12-28 20:18:50,625 | root | INFO | \tX-Real-Ip: 127.0.0.1\n",
      "\tX-Real-Ip: 127.0.0.1\n",
      "2020-12-28 20:18:50,625 | root | INFO | \tX-Forwarded-For: 127.0.0.1\n",
      "\tX-Forwarded-For: 127.0.0.1\n",
      "2020-12-28 20:18:50,625 | root | INFO | \tX-Forwarded-Proto: http\n",
      "\tX-Forwarded-Proto: http\n",
      "2020-12-28 20:18:50,625 | root | INFO | \tConnection: close\n",
      "\tConnection: close\n",
      "2020-12-28 20:18:50,626 | root | INFO | \tContent-Length: 1002\n",
      "\tContent-Length: 1002\n",
      "2020-12-28 20:18:50,626 | root | INFO | \tUser-Agent: python-requests/2.25.0\n",
      "\tUser-Agent: python-requests/2.25.0\n",
      "2020-12-28 20:18:50,627 | root | INFO | \tAccept: */*\n",
      "\tAccept: */*\n",
      "2020-12-28 20:18:50,627 | root | INFO | \tAccept-Encoding: gzip, deflate\n",
      "\tAccept-Encoding: gzip, deflate\n",
      "2020-12-28 20:18:50,628 | root | INFO | \tContent-Type: application/json\n",
      "\tContent-Type: application/json\n",
      "2020-12-28 20:18:50,628 | root | INFO | \tX-Ms-Request-Id: f4aa7c55-ad40-4165-966a-3708ae0f7a9f\n",
      "\tX-Ms-Request-Id: f4aa7c55-ad40-4165-966a-3708ae0f7a9f\n",
      "2020-12-28 20:18:50,629 | root | INFO | Scoring Timer is set to 60.0 seconds\n",
      "Scoring Timer is set to 60.0 seconds\n",
      "2020-12-28 20:18:50,917 | root | INFO | 200\n",
      "200\n",
      "127.0.0.1 - - [28/Dec/2020:20:18:50 +0000] \"POST /score HTTP/1.0\" 200 14 \"-\" \"python-requests/2.25.0\"\n",
      "2020-12-28 20:20:01,800 | root | INFO | Swagger file not present\n",
      "Swagger file not present\n",
      "2020-12-28 20:20:01,801 | root | INFO | 404\n",
      "404\n",
      "127.0.0.1 - - [28/Dec/2020:20:20:01 +0000] \"GET /swagger.json HTTP/1.0\" 404 19 \"-\" \"Go-http-client/1.1\"\n",
      "2020-12-28 20:30:56,473 | root | INFO | Validation Request Content-Type\n",
      "Validation Request Content-Type\n",
      "2020-12-28 20:30:56,475 | root | INFO | \tHost: localhost:5001\n",
      "\tHost: localhost:5001\n",
      "2020-12-28 20:30:56,475 | root | INFO | \tX-Real-Ip: 127.0.0.1\n",
      "\tX-Real-Ip: 127.0.0.1\n",
      "2020-12-28 20:30:56,475 | root | INFO | \tX-Forwarded-For: 127.0.0.1\n",
      "\tX-Forwarded-For: 127.0.0.1\n",
      "2020-12-28 20:30:56,476 | root | INFO | \tX-Forwarded-Proto: http\n",
      "\tX-Forwarded-Proto: http\n",
      "2020-12-28 20:30:56,476 | root | INFO | \tConnection: close\n",
      "\tConnection: close\n",
      "2020-12-28 20:30:56,477 | root | INFO | \tContent-Length: 1002\n",
      "\tContent-Length: 1002\n",
      "2020-12-28 20:30:56,477 | root | INFO | \tUser-Agent: python-requests/2.25.0\n",
      "\tUser-Agent: python-requests/2.25.0\n",
      "2020-12-28 20:30:56,477 | root | INFO | \tAccept: */*\n",
      "\tAccept: */*\n",
      "2020-12-28 20:30:56,478 | root | INFO | \tAccept-Encoding: gzip, deflate\n",
      "\tAccept-Encoding: gzip, deflate\n",
      "2020-12-28 20:30:56,478 | root | INFO | \tContent-Type: application/json\n",
      "\tContent-Type: application/json\n",
      "2020-12-28 20:30:56,478 | root | INFO | \tX-Ms-Request-Id: 1c0d5ca4-e80b-481a-a838-c537abb5ec3c\n",
      "\tX-Ms-Request-Id: 1c0d5ca4-e80b-481a-a838-c537abb5ec3c\n",
      "2020-12-28 20:30:56,479 | root | INFO | Scoring Timer is set to 60.0 seconds\n",
      "Scoring Timer is set to 60.0 seconds\n",
      "2020-12-28 20:30:56,740 | root | INFO | 200\n",
      "200\n",
      "127.0.0.1 - - [28/Dec/2020:20:30:56 +0000] \"POST /score HTTP/1.0\" 200 14 \"-\" \"python-requests/2.25.0\"\n",
      "\n"
     ]
    }
   ],
   "source": [
    "print(service.get_logs())"
   ]
  },
  {
   "cell_type": "code",
   "execution_count": 101,
   "metadata": {},
   "outputs": [],
   "source": [
    "# delete service\n",
    "service.delete()"
   ]
  },
  {
   "cell_type": "code",
   "execution_count": null,
   "metadata": {},
   "outputs": [],
   "source": [
    "# delete compute cluster\n",
    "cpu_cluster.delete()"
   ]
  }
 ],
 "metadata": {
  "kernel_info": {
   "name": "python3-azureml"
  },
  "kernelspec": {
   "display_name": "Python 3",
   "language": "python",
   "name": "python3"
  },
  "language_info": {
   "codemirror_mode": {
    "name": "ipython",
    "version": 3
   },
   "file_extension": ".py",
   "mimetype": "text/x-python",
   "name": "python",
   "nbconvert_exporter": "python",
   "pygments_lexer": "ipython3",
   "version": "3.6.9"
  },
  "nteract": {
   "version": "nteract-front-end@1.0.0"
  }
 },
 "nbformat": 4,
 "nbformat_minor": 4
}
